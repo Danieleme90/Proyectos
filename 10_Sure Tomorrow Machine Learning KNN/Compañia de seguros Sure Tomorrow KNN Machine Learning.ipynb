{
 "cells": [
  {
   "cell_type": "markdown",
   "metadata": {},
   "source": [
    "# Introducción"
   ]
  },
  {
   "cell_type": "markdown",
   "metadata": {},
   "source": [
    "La compañía de seguros Sure Tomorrow quiere resolver varias tareas con la ayuda de machine learning y solicitó que se evalúe esa posibilidad.\n",
    "\n",
    "- Objetivo 1: Encontrar clientes que sean similares a un cliente determinado. Esto ayudará a los agentes de la compañía con el marketing.\n",
    "\n",
    "\n",
    "- Objetivo 2: Predecir la probabilidad de que un nuevo cliente reciba una prestación del seguro. ¿Puede un modelo de predictivo funcionar mejor que un modelo dummy?\n",
    "\n",
    "\n",
    "- Objetivo 3: Predecir el número de prestaciones de seguro que un nuevo cliente pueda recibir utilizando un modelo de regresión lineal.\n",
    "\n",
    "\n",
    "- Objetivo 4: Proteger los datos personales de los clientes sin afectar al modelo del ejercicio anterior. Es necesario desarrollar un algoritmo de transformación de datos que dificulte la recuperación de la información personal si los datos caen en manos equivocadas. Se implementará un algoritimo enmascaramiento u ofuscación de datos. Los datos deben protegerse de tal manera que no se vea afectada la calidad de los modelos de machine learning. \n"
   ]
  },
  {
   "cell_type": "markdown",
   "metadata": {},
   "source": [
    "# Preprocesamiento y exploración de datos\n",
    "\n",
    "## Inicialización"
   ]
  },
  {
   "cell_type": "code",
   "execution_count": 1,
   "metadata": {},
   "outputs": [],
   "source": [
    "import numpy as np\n",
    "import pandas as pd\n",
    "import matplotlib.pyplot as plt\n",
    "import seaborn as sns\n",
    "\n",
    "import sklearn.linear_model\n",
    "import sklearn.metrics\n",
    "from sklearn.neighbors import NearestNeighbors\n",
    "from sklearn.neighbors import KNeighborsClassifier\n",
    "import sklearn.preprocessing\n",
    "\n",
    "import math\n",
    "\n",
    "from scipy.spatial import distance\n",
    "\n",
    "from sklearn.model_selection import train_test_split\n",
    "\n",
    "from IPython.display import display"
   ]
  },
  {
   "cell_type": "markdown",
   "metadata": {},
   "source": [
    "## Carga de datos"
   ]
  },
  {
   "cell_type": "markdown",
   "metadata": {},
   "source": [
    "Cargamos los datos y verificamos"
   ]
  },
  {
   "cell_type": "code",
   "execution_count": 3,
   "metadata": {},
   "outputs": [],
   "source": [
    "try:\n",
    "    df = pd.read_csv('/datasets/insurance_us.csv')\n",
    "except:\n",
    "    df = pd.read_csv('insurance_us.csv')\n",
    "    "
   ]
  },
  {
   "cell_type": "code",
   "execution_count": 4,
   "metadata": {},
   "outputs": [
    {
     "data": {
      "text/html": [
       "<div>\n",
       "<style scoped>\n",
       "    .dataframe tbody tr th:only-of-type {\n",
       "        vertical-align: middle;\n",
       "    }\n",
       "\n",
       "    .dataframe tbody tr th {\n",
       "        vertical-align: top;\n",
       "    }\n",
       "\n",
       "    .dataframe thead th {\n",
       "        text-align: right;\n",
       "    }\n",
       "</style>\n",
       "<table border=\"1\" class=\"dataframe\">\n",
       "  <thead>\n",
       "    <tr style=\"text-align: right;\">\n",
       "      <th></th>\n",
       "      <th>Gender</th>\n",
       "      <th>Age</th>\n",
       "      <th>Salary</th>\n",
       "      <th>Family members</th>\n",
       "      <th>Insurance benefits</th>\n",
       "    </tr>\n",
       "  </thead>\n",
       "  <tbody>\n",
       "    <tr>\n",
       "      <th>0</th>\n",
       "      <td>1</td>\n",
       "      <td>41.0</td>\n",
       "      <td>49600.0</td>\n",
       "      <td>1</td>\n",
       "      <td>0</td>\n",
       "    </tr>\n",
       "    <tr>\n",
       "      <th>1</th>\n",
       "      <td>0</td>\n",
       "      <td>46.0</td>\n",
       "      <td>38000.0</td>\n",
       "      <td>1</td>\n",
       "      <td>1</td>\n",
       "    </tr>\n",
       "    <tr>\n",
       "      <th>2</th>\n",
       "      <td>0</td>\n",
       "      <td>29.0</td>\n",
       "      <td>21000.0</td>\n",
       "      <td>0</td>\n",
       "      <td>0</td>\n",
       "    </tr>\n",
       "    <tr>\n",
       "      <th>3</th>\n",
       "      <td>0</td>\n",
       "      <td>21.0</td>\n",
       "      <td>41700.0</td>\n",
       "      <td>2</td>\n",
       "      <td>0</td>\n",
       "    </tr>\n",
       "    <tr>\n",
       "      <th>4</th>\n",
       "      <td>1</td>\n",
       "      <td>28.0</td>\n",
       "      <td>26100.0</td>\n",
       "      <td>0</td>\n",
       "      <td>0</td>\n",
       "    </tr>\n",
       "  </tbody>\n",
       "</table>\n",
       "</div>"
      ],
      "text/plain": [
       "   Gender   Age   Salary  Family members  Insurance benefits\n",
       "0       1  41.0  49600.0               1                   0\n",
       "1       0  46.0  38000.0               1                   1\n",
       "2       0  29.0  21000.0               0                   0\n",
       "3       0  21.0  41700.0               2                   0\n",
       "4       1  28.0  26100.0               0                   0"
      ]
     },
     "execution_count": 4,
     "metadata": {},
     "output_type": "execute_result"
    }
   ],
   "source": [
    "df.head()"
   ]
  },
  {
   "cell_type": "markdown",
   "metadata": {},
   "source": [
    "Renombramos las columnas para que el código se vea más coherente con su estilo."
   ]
  },
  {
   "cell_type": "code",
   "execution_count": 75,
   "metadata": {},
   "outputs": [],
   "source": [
    "df = df.rename(columns={'Gender': 'gender', 'Age': 'age', 'Salary': 'income', 'Family members': 'family_members', 'Insurance benefits': 'insurance_benefits'})"
   ]
  },
  {
   "cell_type": "code",
   "execution_count": 76,
   "metadata": {},
   "outputs": [
    {
     "data": {
      "text/html": [
       "<div>\n",
       "<style scoped>\n",
       "    .dataframe tbody tr th:only-of-type {\n",
       "        vertical-align: middle;\n",
       "    }\n",
       "\n",
       "    .dataframe tbody tr th {\n",
       "        vertical-align: top;\n",
       "    }\n",
       "\n",
       "    .dataframe thead th {\n",
       "        text-align: right;\n",
       "    }\n",
       "</style>\n",
       "<table border=\"1\" class=\"dataframe\">\n",
       "  <thead>\n",
       "    <tr style=\"text-align: right;\">\n",
       "      <th></th>\n",
       "      <th>gender</th>\n",
       "      <th>age</th>\n",
       "      <th>income</th>\n",
       "      <th>family_members</th>\n",
       "      <th>insurance_benefits</th>\n",
       "    </tr>\n",
       "  </thead>\n",
       "  <tbody>\n",
       "    <tr>\n",
       "      <th>2070</th>\n",
       "      <td>0</td>\n",
       "      <td>47.0</td>\n",
       "      <td>43100.0</td>\n",
       "      <td>0</td>\n",
       "      <td>1</td>\n",
       "    </tr>\n",
       "    <tr>\n",
       "      <th>4078</th>\n",
       "      <td>0</td>\n",
       "      <td>40.0</td>\n",
       "      <td>55300.0</td>\n",
       "      <td>2</td>\n",
       "      <td>0</td>\n",
       "    </tr>\n",
       "    <tr>\n",
       "      <th>257</th>\n",
       "      <td>0</td>\n",
       "      <td>37.0</td>\n",
       "      <td>52500.0</td>\n",
       "      <td>3</td>\n",
       "      <td>0</td>\n",
       "    </tr>\n",
       "    <tr>\n",
       "      <th>3526</th>\n",
       "      <td>1</td>\n",
       "      <td>19.0</td>\n",
       "      <td>38600.0</td>\n",
       "      <td>1</td>\n",
       "      <td>0</td>\n",
       "    </tr>\n",
       "    <tr>\n",
       "      <th>1064</th>\n",
       "      <td>0</td>\n",
       "      <td>27.0</td>\n",
       "      <td>44400.0</td>\n",
       "      <td>2</td>\n",
       "      <td>0</td>\n",
       "    </tr>\n",
       "  </tbody>\n",
       "</table>\n",
       "</div>"
      ],
      "text/plain": [
       "      gender   age   income  family_members  insurance_benefits\n",
       "2070       0  47.0  43100.0               0                   1\n",
       "4078       0  40.0  55300.0               2                   0\n",
       "257        0  37.0  52500.0               3                   0\n",
       "3526       1  19.0  38600.0               1                   0\n",
       "1064       0  27.0  44400.0               2                   0"
      ]
     },
     "execution_count": 76,
     "metadata": {},
     "output_type": "execute_result"
    }
   ],
   "source": [
    "df.sample(5)"
   ]
  },
  {
   "cell_type": "code",
   "execution_count": 77,
   "metadata": {},
   "outputs": [
    {
     "name": "stdout",
     "output_type": "stream",
     "text": [
      "<class 'pandas.core.frame.DataFrame'>\n",
      "RangeIndex: 5000 entries, 0 to 4999\n",
      "Data columns (total 5 columns):\n",
      " #   Column              Non-Null Count  Dtype  \n",
      "---  ------              --------------  -----  \n",
      " 0   gender              5000 non-null   int64  \n",
      " 1   age                 5000 non-null   float64\n",
      " 2   income              5000 non-null   float64\n",
      " 3   family_members      5000 non-null   int64  \n",
      " 4   insurance_benefits  5000 non-null   int64  \n",
      "dtypes: float64(2), int64(3)\n",
      "memory usage: 195.4 KB\n"
     ]
    }
   ],
   "source": [
    "df.info()"
   ]
  },
  {
   "cell_type": "code",
   "execution_count": 78,
   "metadata": {},
   "outputs": [],
   "source": [
    "# Cambiamos el tipo de dato a int de la variable 'age'.\n",
    "df['age'] = df['age'].astype(int)"
   ]
  },
  {
   "cell_type": "code",
   "execution_count": 79,
   "metadata": {},
   "outputs": [
    {
     "name": "stdout",
     "output_type": "stream",
     "text": [
      "<class 'pandas.core.frame.DataFrame'>\n",
      "RangeIndex: 5000 entries, 0 to 4999\n",
      "Data columns (total 5 columns):\n",
      " #   Column              Non-Null Count  Dtype  \n",
      "---  ------              --------------  -----  \n",
      " 0   gender              5000 non-null   int64  \n",
      " 1   age                 5000 non-null   int64  \n",
      " 2   income              5000 non-null   float64\n",
      " 3   family_members      5000 non-null   int64  \n",
      " 4   insurance_benefits  5000 non-null   int64  \n",
      "dtypes: float64(1), int64(4)\n",
      "memory usage: 195.4 KB\n"
     ]
    }
   ],
   "source": [
    "# compruebamos la conversión\n",
    "df.info()"
   ]
  },
  {
   "cell_type": "code",
   "execution_count": 80,
   "metadata": {},
   "outputs": [
    {
     "data": {
      "text/html": [
       "<div>\n",
       "<style scoped>\n",
       "    .dataframe tbody tr th:only-of-type {\n",
       "        vertical-align: middle;\n",
       "    }\n",
       "\n",
       "    .dataframe tbody tr th {\n",
       "        vertical-align: top;\n",
       "    }\n",
       "\n",
       "    .dataframe thead th {\n",
       "        text-align: right;\n",
       "    }\n",
       "</style>\n",
       "<table border=\"1\" class=\"dataframe\">\n",
       "  <thead>\n",
       "    <tr style=\"text-align: right;\">\n",
       "      <th></th>\n",
       "      <th>gender</th>\n",
       "      <th>age</th>\n",
       "      <th>income</th>\n",
       "      <th>family_members</th>\n",
       "      <th>insurance_benefits</th>\n",
       "    </tr>\n",
       "  </thead>\n",
       "  <tbody>\n",
       "    <tr>\n",
       "      <th>count</th>\n",
       "      <td>5000.000000</td>\n",
       "      <td>5000.000000</td>\n",
       "      <td>5000.000000</td>\n",
       "      <td>5000.000000</td>\n",
       "      <td>5000.000000</td>\n",
       "    </tr>\n",
       "    <tr>\n",
       "      <th>mean</th>\n",
       "      <td>0.499000</td>\n",
       "      <td>30.952800</td>\n",
       "      <td>39916.360000</td>\n",
       "      <td>1.194200</td>\n",
       "      <td>0.148000</td>\n",
       "    </tr>\n",
       "    <tr>\n",
       "      <th>std</th>\n",
       "      <td>0.500049</td>\n",
       "      <td>8.440807</td>\n",
       "      <td>9900.083569</td>\n",
       "      <td>1.091387</td>\n",
       "      <td>0.463183</td>\n",
       "    </tr>\n",
       "    <tr>\n",
       "      <th>min</th>\n",
       "      <td>0.000000</td>\n",
       "      <td>18.000000</td>\n",
       "      <td>5300.000000</td>\n",
       "      <td>0.000000</td>\n",
       "      <td>0.000000</td>\n",
       "    </tr>\n",
       "    <tr>\n",
       "      <th>25%</th>\n",
       "      <td>0.000000</td>\n",
       "      <td>24.000000</td>\n",
       "      <td>33300.000000</td>\n",
       "      <td>0.000000</td>\n",
       "      <td>0.000000</td>\n",
       "    </tr>\n",
       "    <tr>\n",
       "      <th>50%</th>\n",
       "      <td>0.000000</td>\n",
       "      <td>30.000000</td>\n",
       "      <td>40200.000000</td>\n",
       "      <td>1.000000</td>\n",
       "      <td>0.000000</td>\n",
       "    </tr>\n",
       "    <tr>\n",
       "      <th>75%</th>\n",
       "      <td>1.000000</td>\n",
       "      <td>37.000000</td>\n",
       "      <td>46600.000000</td>\n",
       "      <td>2.000000</td>\n",
       "      <td>0.000000</td>\n",
       "    </tr>\n",
       "    <tr>\n",
       "      <th>max</th>\n",
       "      <td>1.000000</td>\n",
       "      <td>65.000000</td>\n",
       "      <td>79000.000000</td>\n",
       "      <td>6.000000</td>\n",
       "      <td>5.000000</td>\n",
       "    </tr>\n",
       "  </tbody>\n",
       "</table>\n",
       "</div>"
      ],
      "text/plain": [
       "            gender          age        income  family_members  \\\n",
       "count  5000.000000  5000.000000   5000.000000     5000.000000   \n",
       "mean      0.499000    30.952800  39916.360000        1.194200   \n",
       "std       0.500049     8.440807   9900.083569        1.091387   \n",
       "min       0.000000    18.000000   5300.000000        0.000000   \n",
       "25%       0.000000    24.000000  33300.000000        0.000000   \n",
       "50%       0.000000    30.000000  40200.000000        1.000000   \n",
       "75%       1.000000    37.000000  46600.000000        2.000000   \n",
       "max       1.000000    65.000000  79000.000000        6.000000   \n",
       "\n",
       "       insurance_benefits  \n",
       "count         5000.000000  \n",
       "mean             0.148000  \n",
       "std              0.463183  \n",
       "min              0.000000  \n",
       "25%              0.000000  \n",
       "50%              0.000000  \n",
       "75%              0.000000  \n",
       "max              5.000000  "
      ]
     },
     "execution_count": 80,
     "metadata": {},
     "output_type": "execute_result"
    }
   ],
   "source": [
    "# Realizamos una observación descriptiva de los datos.\n",
    "df.describe()"
   ]
  },
  {
   "cell_type": "code",
   "execution_count": 81,
   "metadata": {},
   "outputs": [
    {
     "data": {
      "text/plain": [
       "Index(['gender', 'age', 'income', 'family_members', 'insurance_benefits'], dtype='object')"
      ]
     },
     "execution_count": 81,
     "metadata": {},
     "output_type": "execute_result"
    }
   ],
   "source": [
    "df.columns"
   ]
  },
  {
   "cell_type": "code",
   "execution_count": 82,
   "metadata": {},
   "outputs": [
    {
     "data": {
      "text/plain": [
       "<AxesSubplot:xlabel='gender'>"
      ]
     },
     "execution_count": 82,
     "metadata": {},
     "output_type": "execute_result"
    },
    {
     "data": {
      "image/png": "[encoded data removed]",
      "text/plain": [
       "<Figure size 1152x648 with 1 Axes>"
      ]
     },
     "metadata": {
      "needs_background": "light"
     },
     "output_type": "display_data"
    }
   ],
   "source": [
    "#Visualizamos la distribución de la variable género\n",
    "df.pivot_table(columns= 'gender', aggfunc= 'count').rename(columns= {0:'male',1:'female'}).iloc[1].plot(kind= 'bar', grid= True, figsize= (16,9))"
   ]
  },
  {
   "cell_type": "code",
   "execution_count": 83,
   "metadata": {},
   "outputs": [
    {
     "data": {
      "image/png": "[encoded data removed]",
      "text/plain": [
       "<Figure size 1440x1800 with 5 Axes>"
      ]
     },
     "metadata": {
      "needs_background": "light"
     },
     "output_type": "display_data"
    }
   ],
   "source": [
    "# Obervamos la distribución de las demás variables.\n",
    "\n",
    "plt.rcParams[\"figure.figsize\"] = [20, 25]\n",
    "plt.rcParams[\"figure.autolayout\"] = True\n",
    "\n",
    "fig, axes = plt.subplots(5,1)\n",
    "\n",
    "for i in range(len(df.columns)-1):\n",
    "    df[df.columns[i+1]].plot(kind= 'hist', bins=50, ax= axes[i], title= df.columns[i])\n",
    "    "
   ]
  },
  {
   "cell_type": "markdown",
   "metadata": {},
   "source": [
    "**Cocluciones:**\n",
    "\n",
    "- La variable 'insurance_benefits' en su mayorí tiene valoeres 0.\n",
    "- La mayor parte de la muestra observada tiene entre 20 y 40 años.\n",
    "- La mayoría son individuos úmicos o tienen un miembro familiar."
   ]
  },
  {
   "cell_type": "markdown",
   "metadata": {},
   "source": [
    "## Análisis exploratorio de datos"
   ]
  },
  {
   "cell_type": "markdown",
   "metadata": {},
   "source": [
    "Vamos a comprobar rápidamente si existen determinados grupos de clientes observando el gráfico de pares."
   ]
  },
  {
   "cell_type": "code",
   "execution_count": 84,
   "metadata": {},
   "outputs": [
    {
     "data": {
      "image/png": "[encoded data removed]",
      "text/plain": [
       "<Figure size 864x864 with 30 Axes>"
      ]
     },
     "metadata": {
      "needs_background": "light"
     },
     "output_type": "display_data"
    }
   ],
   "source": [
    "g = sns.pairplot(df, kind='hist')\n",
    "g.fig.set_size_inches(12, 12)"
   ]
  },
  {
   "cell_type": "markdown",
   "metadata": {},
   "source": [
    "De acuerdo, es un poco complicado detectar grupos obvios (clústeres) ya que es difícil combinar diversas variables simultáneamente (para analizar distribuciones multivariadas). Ahí es donde LA y ML pueden ser bastante útiles."
   ]
  },
  {
   "cell_type": "markdown",
   "metadata": {},
   "source": [
    "# Objetivo 1: Clientes similares"
   ]
  },
  {
   "cell_type": "markdown",
   "metadata": {},
   "source": [
    "En el lenguaje de ML, es necesario desarrollar un procedimiento que devuelva los k vecinos más cercanos (objetos) para un objeto dado basándose en la distancia entre los objetos.\n",
    "\n",
    "Para resolver la tarea, podemos probar diferentes métricas de distancia."
   ]
  },
  {
   "cell_type": "markdown",
   "metadata": {},
   "source": [
    "Escribimos una función que devuelva los k vecinos más cercanos para un $n^{th}$ objeto basándose en una métrica de distancia especificada. A la hora de realizar esta tarea no se tomó en cuenta el número de prestaciones de seguro recibidas.\n",
    "\n",
    "se probó el modelo para cuatro combinaciones de dos casos- Escalado\n",
    "  - los datos no están escalados.\n",
    "  - los datos se escalan con el escalador (MaxAbsScaler).\n",
    "  \n",
    "    - Métricas de distancia\n",
    "      - Euclidiana\n",
    "      - Manhattan\n"
   ]
  },
  {
   "cell_type": "code",
   "execution_count": 85,
   "metadata": {},
   "outputs": [],
   "source": [
    "feature_names = ['gender', 'age', 'income', 'family_members']"
   ]
  },
  {
   "cell_type": "code",
   "execution_count": 86,
   "metadata": {},
   "outputs": [],
   "source": [
    "def get_knn(df, n, k, metric= 'euclidean'):\n",
    "    \n",
    "    \"\"\"\n",
    "    Devuelve los k vecinos más cercanos\n",
    "\n",
    "    :param df: DataFrame de pandas utilizado para encontrar objetos similares dentro del mismo lugar    :param n: número de objetos para los que se buscan los vecinos más cercanos    :param k: número de vecinos más cercanos a devolver\n",
    "    :param métrica: nombre de la métrica de distancia    \"\"\"\n",
    "\n",
    "    nbrs = NearestNeighbors(n_neighbors=k, metric= metric).fit(df[feature_names])\n",
    "    nbrs_distances, nbrs_indices = nbrs.kneighbors([df.iloc[n][feature_names]], k, return_distance=True)\n",
    "    \n",
    "    df_res = pd.concat([\n",
    "        df.iloc[nbrs_indices[0]], \n",
    "        pd.DataFrame(nbrs_distances.T, index=nbrs_indices[0], columns=['distance'])\n",
    "        ], axis=1)\n",
    "    \n",
    "    return df_res"
   ]
  },
  {
   "cell_type": "markdown",
   "metadata": {},
   "source": [
    "## Escalamiento de datos"
   ]
  },
  {
   "cell_type": "code",
   "execution_count": 87,
   "metadata": {},
   "outputs": [],
   "source": [
    "feature_names = ['gender', 'age', 'income', 'family_members']\n",
    "\n",
    "transformer_mas = sklearn.preprocessing.MaxAbsScaler().fit(df[feature_names].to_numpy())\n",
    "\n",
    "df_scaled = df.copy()\n",
    "df_scaled.loc[:, feature_names] = transformer_mas.transform(df[feature_names].to_numpy())"
   ]
  },
  {
   "cell_type": "code",
   "execution_count": 88,
   "metadata": {},
   "outputs": [
    {
     "data": {
      "text/html": [
       "<div>\n",
       "<style scoped>\n",
       "    .dataframe tbody tr th:only-of-type {\n",
       "        vertical-align: middle;\n",
       "    }\n",
       "\n",
       "    .dataframe tbody tr th {\n",
       "        vertical-align: top;\n",
       "    }\n",
       "\n",
       "    .dataframe thead th {\n",
       "        text-align: right;\n",
       "    }\n",
       "</style>\n",
       "<table border=\"1\" class=\"dataframe\">\n",
       "  <thead>\n",
       "    <tr style=\"text-align: right;\">\n",
       "      <th></th>\n",
       "      <th>gender</th>\n",
       "      <th>age</th>\n",
       "      <th>income</th>\n",
       "      <th>family_members</th>\n",
       "      <th>insurance_benefits</th>\n",
       "    </tr>\n",
       "  </thead>\n",
       "  <tbody>\n",
       "    <tr>\n",
       "      <th>4583</th>\n",
       "      <td>0.0</td>\n",
       "      <td>0.461538</td>\n",
       "      <td>0.558228</td>\n",
       "      <td>0.500000</td>\n",
       "      <td>0</td>\n",
       "    </tr>\n",
       "    <tr>\n",
       "      <th>3654</th>\n",
       "      <td>1.0</td>\n",
       "      <td>0.292308</td>\n",
       "      <td>0.569620</td>\n",
       "      <td>0.166667</td>\n",
       "      <td>0</td>\n",
       "    </tr>\n",
       "    <tr>\n",
       "      <th>2120</th>\n",
       "      <td>1.0</td>\n",
       "      <td>0.323077</td>\n",
       "      <td>0.508861</td>\n",
       "      <td>0.166667</td>\n",
       "      <td>0</td>\n",
       "    </tr>\n",
       "    <tr>\n",
       "      <th>3942</th>\n",
       "      <td>1.0</td>\n",
       "      <td>0.307692</td>\n",
       "      <td>0.579747</td>\n",
       "      <td>0.000000</td>\n",
       "      <td>0</td>\n",
       "    </tr>\n",
       "    <tr>\n",
       "      <th>1346</th>\n",
       "      <td>0.0</td>\n",
       "      <td>0.400000</td>\n",
       "      <td>0.448101</td>\n",
       "      <td>0.166667</td>\n",
       "      <td>0</td>\n",
       "    </tr>\n",
       "  </tbody>\n",
       "</table>\n",
       "</div>"
      ],
      "text/plain": [
       "      gender       age    income  family_members  insurance_benefits\n",
       "4583     0.0  0.461538  0.558228        0.500000                   0\n",
       "3654     1.0  0.292308  0.569620        0.166667                   0\n",
       "2120     1.0  0.323077  0.508861        0.166667                   0\n",
       "3942     1.0  0.307692  0.579747        0.000000                   0\n",
       "1346     0.0  0.400000  0.448101        0.166667                   0"
      ]
     },
     "execution_count": 88,
     "metadata": {},
     "output_type": "execute_result"
    }
   ],
   "source": [
    "df_scaled.sample(5)"
   ]
  },
  {
   "cell_type": "markdown",
   "metadata": {},
   "source": [
    "Ahora, vamos a obtener registros similares para uno determinado, para cada combinación"
   ]
  },
  {
   "cell_type": "code",
   "execution_count": 89,
   "metadata": {},
   "outputs": [
    {
     "data": {
      "text/html": [
       "<div>\n",
       "<style scoped>\n",
       "    .dataframe tbody tr th:only-of-type {\n",
       "        vertical-align: middle;\n",
       "    }\n",
       "\n",
       "    .dataframe tbody tr th {\n",
       "        vertical-align: top;\n",
       "    }\n",
       "\n",
       "    .dataframe thead th {\n",
       "        text-align: right;\n",
       "    }\n",
       "</style>\n",
       "<table border=\"1\" class=\"dataframe\">\n",
       "  <thead>\n",
       "    <tr style=\"text-align: right;\">\n",
       "      <th></th>\n",
       "      <th>gender</th>\n",
       "      <th>age</th>\n",
       "      <th>income</th>\n",
       "      <th>family_members</th>\n",
       "      <th>insurance_benefits</th>\n",
       "      <th>distance</th>\n",
       "    </tr>\n",
       "  </thead>\n",
       "  <tbody>\n",
       "    <tr>\n",
       "      <th>25</th>\n",
       "      <td>1.0</td>\n",
       "      <td>0.723077</td>\n",
       "      <td>0.486076</td>\n",
       "      <td>0.5</td>\n",
       "      <td>1</td>\n",
       "      <td>0.000000</td>\n",
       "    </tr>\n",
       "    <tr>\n",
       "      <th>954</th>\n",
       "      <td>1.0</td>\n",
       "      <td>0.707692</td>\n",
       "      <td>0.508861</td>\n",
       "      <td>0.5</td>\n",
       "      <td>1</td>\n",
       "      <td>0.027492</td>\n",
       "    </tr>\n",
       "    <tr>\n",
       "      <th>2491</th>\n",
       "      <td>1.0</td>\n",
       "      <td>0.676923</td>\n",
       "      <td>0.482278</td>\n",
       "      <td>0.5</td>\n",
       "      <td>1</td>\n",
       "      <td>0.046310</td>\n",
       "    </tr>\n",
       "    <tr>\n",
       "      <th>936</th>\n",
       "      <td>1.0</td>\n",
       "      <td>0.692308</td>\n",
       "      <td>0.435443</td>\n",
       "      <td>0.5</td>\n",
       "      <td>1</td>\n",
       "      <td>0.059249</td>\n",
       "    </tr>\n",
       "  </tbody>\n",
       "</table>\n",
       "</div>"
      ],
      "text/plain": [
       "      gender       age    income  family_members  insurance_benefits  distance\n",
       "25       1.0  0.723077  0.486076             0.5                   1  0.000000\n",
       "954      1.0  0.707692  0.508861             0.5                   1  0.027492\n",
       "2491     1.0  0.676923  0.482278             0.5                   1  0.046310\n",
       "936      1.0  0.692308  0.435443             0.5                   1  0.059249"
      ]
     },
     "execution_count": 89,
     "metadata": {},
     "output_type": "execute_result"
    }
   ],
   "source": [
    "# Verifiacomos el funcionamiento de la función\n",
    "get_knn(df_scaled, 25, 4, 'euclidean')"
   ]
  },
  {
   "cell_type": "markdown",
   "metadata": {},
   "source": [
    "**Afectación del uso de escalado de datos para el algoritmo de nearest neighbors**"
   ]
  },
  {
   "cell_type": "code",
   "execution_count": 90,
   "metadata": {},
   "outputs": [
    {
     "data": {
      "text/plain": [
       "Int64Index([509, 640, 211, 3692, 747, 2992, 836, 1579, 2582, 3022], dtype='int64')"
      ]
     },
     "execution_count": 90,
     "metadata": {},
     "output_type": "execute_result"
    }
   ],
   "source": [
    "# Definnimos los índices a evaluar, seleccionaremos 10 indices aleatoreos de ambos conjuntos de datos.\n",
    "indexes = df.sample(10).index\n",
    "indexes"
   ]
  },
  {
   "cell_type": "code",
   "execution_count": 91,
   "metadata": {},
   "outputs": [
    {
     "name": "stdout",
     "output_type": "stream",
     "text": [
      "120.43357122183156\n",
      "10.196019149510452\n",
      "1.8707406513449016\n",
      "7.503665563623443\n",
      "1.5414886022385912\n",
      "7.889039254459125\n",
      "24.69571372957455\n",
      "15.250896699044414\n",
      "5.792174911788062\n",
      "20.63791795891292\n"
     ]
    }
   ],
   "source": [
    "# Obotenemos la distacia media de cada elemento evaluado en el conjunto de datos sin aplicar el escalado.\n",
    "for index in indexes:\n",
    "    print(get_knn(df, index, 10, 'euclidean')['distance'].mean())"
   ]
  },
  {
   "cell_type": "code",
   "execution_count": 92,
   "metadata": {},
   "outputs": [
    {
     "data": {
      "text/html": [
       "<div>\n",
       "<style scoped>\n",
       "    .dataframe tbody tr th:only-of-type {\n",
       "        vertical-align: middle;\n",
       "    }\n",
       "\n",
       "    .dataframe tbody tr th {\n",
       "        vertical-align: top;\n",
       "    }\n",
       "\n",
       "    .dataframe thead th {\n",
       "        text-align: right;\n",
       "    }\n",
       "</style>\n",
       "<table border=\"1\" class=\"dataframe\">\n",
       "  <thead>\n",
       "    <tr style=\"text-align: right;\">\n",
       "      <th></th>\n",
       "      <th>gender</th>\n",
       "      <th>age</th>\n",
       "      <th>income</th>\n",
       "      <th>family_members</th>\n",
       "      <th>insurance_benefits</th>\n",
       "    </tr>\n",
       "  </thead>\n",
       "  <tbody>\n",
       "    <tr>\n",
       "      <th>509</th>\n",
       "      <td>0</td>\n",
       "      <td>29</td>\n",
       "      <td>20200.0</td>\n",
       "      <td>0</td>\n",
       "      <td>0</td>\n",
       "    </tr>\n",
       "    <tr>\n",
       "      <th>1880</th>\n",
       "      <td>1</td>\n",
       "      <td>27</td>\n",
       "      <td>20200.0</td>\n",
       "      <td>2</td>\n",
       "      <td>0</td>\n",
       "    </tr>\n",
       "  </tbody>\n",
       "</table>\n",
       "</div>"
      ],
      "text/plain": [
       "      gender  age   income  family_members  insurance_benefits\n",
       "509        0   29  20200.0               0                   0\n",
       "1880       1   27  20200.0               2                   0"
      ]
     },
     "execution_count": 92,
     "metadata": {},
     "output_type": "execute_result"
    }
   ],
   "source": [
    "# Observamos la distancia del primer elemento evaluado vs el vecino mas cercano\n",
    "df.loc[[indexes[0],get_knn(df, indexes[0], 2,'euclidean').iloc[1].name]]"
   ]
  },
  {
   "cell_type": "code",
   "execution_count": 93,
   "metadata": {},
   "outputs": [
    {
     "data": {
      "text/plain": [
       "3.0"
      ]
     },
     "execution_count": 93,
     "metadata": {},
     "output_type": "execute_result"
    }
   ],
   "source": [
    "distance.euclidean(df.loc[indexes[0]].values, df.loc[get_knn(df, indexes[0], 2,'euclidean').iloc[1].name].values)"
   ]
  },
  {
   "cell_type": "code",
   "execution_count": 94,
   "metadata": {},
   "outputs": [],
   "source": [
    "# Almacenamos los indices mas cercanos de nuestro conjunto de datos escalado.\n",
    "nneighbors_dict = {}\n",
    "for index in indexes:\n",
    "    nneighbors_dict[index] = get_knn(df_scaled, index, 10, 'euclidean').index\n",
    "  "
   ]
  },
  {
   "cell_type": "code",
   "execution_count": 95,
   "metadata": {},
   "outputs": [
    {
     "data": {
      "text/html": [
       "<div>\n",
       "<style scoped>\n",
       "    .dataframe tbody tr th:only-of-type {\n",
       "        vertical-align: middle;\n",
       "    }\n",
       "\n",
       "    .dataframe tbody tr th {\n",
       "        vertical-align: top;\n",
       "    }\n",
       "\n",
       "    .dataframe thead th {\n",
       "        text-align: right;\n",
       "    }\n",
       "</style>\n",
       "<table border=\"1\" class=\"dataframe\">\n",
       "  <thead>\n",
       "    <tr style=\"text-align: right;\">\n",
       "      <th></th>\n",
       "      <th>509</th>\n",
       "      <th>640</th>\n",
       "      <th>211</th>\n",
       "      <th>3692</th>\n",
       "      <th>747</th>\n",
       "      <th>2992</th>\n",
       "      <th>836</th>\n",
       "      <th>1579</th>\n",
       "      <th>2582</th>\n",
       "      <th>3022</th>\n",
       "    </tr>\n",
       "  </thead>\n",
       "  <tbody>\n",
       "    <tr>\n",
       "      <th>0</th>\n",
       "      <td>509</td>\n",
       "      <td>640</td>\n",
       "      <td>211</td>\n",
       "      <td>3692</td>\n",
       "      <td>747</td>\n",
       "      <td>2992</td>\n",
       "      <td>836</td>\n",
       "      <td>1579</td>\n",
       "      <td>2582</td>\n",
       "      <td>3022</td>\n",
       "    </tr>\n",
       "    <tr>\n",
       "      <th>1</th>\n",
       "      <td>2</td>\n",
       "      <td>127</td>\n",
       "      <td>3200</td>\n",
       "      <td>4273</td>\n",
       "      <td>1928</td>\n",
       "      <td>1400</td>\n",
       "      <td>1832</td>\n",
       "      <td>4178</td>\n",
       "      <td>4273</td>\n",
       "      <td>2455</td>\n",
       "    </tr>\n",
       "    <tr>\n",
       "      <th>2</th>\n",
       "      <td>2031</td>\n",
       "      <td>4939</td>\n",
       "      <td>2596</td>\n",
       "      <td>2582</td>\n",
       "      <td>1698</td>\n",
       "      <td>1489</td>\n",
       "      <td>3072</td>\n",
       "      <td>2928</td>\n",
       "      <td>3692</td>\n",
       "      <td>199</td>\n",
       "    </tr>\n",
       "    <tr>\n",
       "      <th>3</th>\n",
       "      <td>224</td>\n",
       "      <td>4034</td>\n",
       "      <td>3085</td>\n",
       "      <td>3412</td>\n",
       "      <td>3200</td>\n",
       "      <td>3790</td>\n",
       "      <td>4827</td>\n",
       "      <td>1860</td>\n",
       "      <td>3841</td>\n",
       "      <td>2229</td>\n",
       "    </tr>\n",
       "    <tr>\n",
       "      <th>4</th>\n",
       "      <td>2838</td>\n",
       "      <td>3453</td>\n",
       "      <td>2922</td>\n",
       "      <td>3841</td>\n",
       "      <td>3280</td>\n",
       "      <td>4378</td>\n",
       "      <td>2746</td>\n",
       "      <td>1130</td>\n",
       "      <td>660</td>\n",
       "      <td>2622</td>\n",
       "    </tr>\n",
       "    <tr>\n",
       "      <th>5</th>\n",
       "      <td>648</td>\n",
       "      <td>4607</td>\n",
       "      <td>315</td>\n",
       "      <td>3710</td>\n",
       "      <td>698</td>\n",
       "      <td>2942</td>\n",
       "      <td>2580</td>\n",
       "      <td>3822</td>\n",
       "      <td>938</td>\n",
       "      <td>4038</td>\n",
       "    </tr>\n",
       "    <tr>\n",
       "      <th>6</th>\n",
       "      <td>4905</td>\n",
       "      <td>291</td>\n",
       "      <td>410</td>\n",
       "      <td>3020</td>\n",
       "      <td>571</td>\n",
       "      <td>4440</td>\n",
       "      <td>1869</td>\n",
       "      <td>1021</td>\n",
       "      <td>3412</td>\n",
       "      <td>2168</td>\n",
       "    </tr>\n",
       "    <tr>\n",
       "      <th>7</th>\n",
       "      <td>2857</td>\n",
       "      <td>1355</td>\n",
       "      <td>1698</td>\n",
       "      <td>660</td>\n",
       "      <td>4302</td>\n",
       "      <td>2150</td>\n",
       "      <td>824</td>\n",
       "      <td>815</td>\n",
       "      <td>755</td>\n",
       "      <td>4069</td>\n",
       "    </tr>\n",
       "    <tr>\n",
       "      <th>8</th>\n",
       "      <td>2067</td>\n",
       "      <td>3355</td>\n",
       "      <td>2619</td>\n",
       "      <td>938</td>\n",
       "      <td>216</td>\n",
       "      <td>4135</td>\n",
       "      <td>3779</td>\n",
       "      <td>3327</td>\n",
       "      <td>3424</td>\n",
       "      <td>3427</td>\n",
       "    </tr>\n",
       "    <tr>\n",
       "      <th>9</th>\n",
       "      <td>3156</td>\n",
       "      <td>1743</td>\n",
       "      <td>1243</td>\n",
       "      <td>4703</td>\n",
       "      <td>4951</td>\n",
       "      <td>4503</td>\n",
       "      <td>393</td>\n",
       "      <td>547</td>\n",
       "      <td>4770</td>\n",
       "      <td>290</td>\n",
       "    </tr>\n",
       "  </tbody>\n",
       "</table>\n",
       "</div>"
      ],
      "text/plain": [
       "   509   640   211   3692  747   2992  836   1579  2582  3022\n",
       "0   509   640   211  3692   747  2992   836  1579  2582  3022\n",
       "1     2   127  3200  4273  1928  1400  1832  4178  4273  2455\n",
       "2  2031  4939  2596  2582  1698  1489  3072  2928  3692   199\n",
       "3   224  4034  3085  3412  3200  3790  4827  1860  3841  2229\n",
       "4  2838  3453  2922  3841  3280  4378  2746  1130   660  2622\n",
       "5   648  4607   315  3710   698  2942  2580  3822   938  4038\n",
       "6  4905   291   410  3020   571  4440  1869  1021  3412  2168\n",
       "7  2857  1355  1698   660  4302  2150   824   815   755  4069\n",
       "8  2067  3355  2619   938   216  4135  3779  3327  3424  3427\n",
       "9  3156  1743  1243  4703  4951  4503   393   547  4770   290"
      ]
     },
     "execution_count": 95,
     "metadata": {},
     "output_type": "execute_result"
    }
   ],
   "source": [
    "pd.DataFrame(nneighbors_dict)"
   ]
  },
  {
   "cell_type": "code",
   "execution_count": 96,
   "metadata": {},
   "outputs": [
    {
     "data": {
      "text/html": [
       "<div>\n",
       "<style scoped>\n",
       "    .dataframe tbody tr th:only-of-type {\n",
       "        vertical-align: middle;\n",
       "    }\n",
       "\n",
       "    .dataframe tbody tr th {\n",
       "        vertical-align: top;\n",
       "    }\n",
       "\n",
       "    .dataframe thead th {\n",
       "        text-align: right;\n",
       "    }\n",
       "</style>\n",
       "<table border=\"1\" class=\"dataframe\">\n",
       "  <thead>\n",
       "    <tr style=\"text-align: right;\">\n",
       "      <th></th>\n",
       "      <th>gender</th>\n",
       "      <th>age</th>\n",
       "      <th>income</th>\n",
       "      <th>family_members</th>\n",
       "      <th>insurance_benefits</th>\n",
       "    </tr>\n",
       "  </thead>\n",
       "  <tbody>\n",
       "    <tr>\n",
       "      <th>509</th>\n",
       "      <td>0</td>\n",
       "      <td>29</td>\n",
       "      <td>20200.0</td>\n",
       "      <td>0</td>\n",
       "      <td>0</td>\n",
       "    </tr>\n",
       "    <tr>\n",
       "      <th>2</th>\n",
       "      <td>0</td>\n",
       "      <td>29</td>\n",
       "      <td>21000.0</td>\n",
       "      <td>0</td>\n",
       "      <td>0</td>\n",
       "    </tr>\n",
       "  </tbody>\n",
       "</table>\n",
       "</div>"
      ],
      "text/plain": [
       "     gender  age   income  family_members  insurance_benefits\n",
       "509       0   29  20200.0               0                   0\n",
       "2         0   29  21000.0               0                   0"
      ]
     },
     "execution_count": 96,
     "metadata": {},
     "output_type": "execute_result"
    }
   ],
   "source": [
    "# Observamos la distancia del primer elemento evaluado vs el vecino mas cercano según el conjunto de datos escalado.\n",
    "df.loc[[indexes[0],get_knn(df_scaled, indexes[0], 2,'euclidean').iloc[1].name]]"
   ]
  },
  {
   "cell_type": "code",
   "execution_count": 97,
   "metadata": {},
   "outputs": [
    {
     "data": {
      "text/plain": [
       "800.0"
      ]
     },
     "execution_count": 97,
     "metadata": {},
     "output_type": "execute_result"
    }
   ],
   "source": [
    "distance.euclidean(df.loc[indexes[0]].values, df.loc[get_knn(df_scaled, indexes[0], 2,'euclidean').iloc[1].name].values)"
   ]
  },
  {
   "cell_type": "code",
   "execution_count": 98,
   "metadata": {},
   "outputs": [
    {
     "data": {
      "text/plain": [
       "509     1510.002296\n",
       "640     1230.000289\n",
       "211      420.101905\n",
       "3692     990.000643\n",
       "747      360.100484\n",
       "2992     920.001402\n",
       "836     1860.100153\n",
       "1579    1860.001073\n",
       "2582    1070.000310\n",
       "3022    1410.000743\n",
       "dtype: float64"
      ]
     },
     "execution_count": 98,
     "metadata": {},
     "output_type": "execute_result"
    }
   ],
   "source": [
    "# Obtenemos la distancia promedio de los indices evaludos con los vecinos mas cercanos utilizando el conjunto escalado.\n",
    "distances = []\n",
    "for index, value in nneighbors_dict.items():\n",
    "    distances.append([distance.euclidean(df.loc[index], df.loc[index_v]) for index_v in value])\n",
    "\n",
    "distances = np.array(distances)\n",
    "distances_df = pd.DataFrame(np.transpose(distances), columns= nneighbors_dict.keys())\n",
    "distances_df.mean()"
   ]
  },
  {
   "cell_type": "markdown",
   "metadata": {},
   "source": [
    "**Diferencia al utilizar distancia euclidiana y cityblock en nearest neighbors**"
   ]
  },
  {
   "cell_type": "code",
   "execution_count": 99,
   "metadata": {},
   "outputs": [
    {
     "data": {
      "text/html": [
       "<div>\n",
       "<style scoped>\n",
       "    .dataframe tbody tr th:only-of-type {\n",
       "        vertical-align: middle;\n",
       "    }\n",
       "\n",
       "    .dataframe tbody tr th {\n",
       "        vertical-align: top;\n",
       "    }\n",
       "\n",
       "    .dataframe thead th {\n",
       "        text-align: right;\n",
       "    }\n",
       "</style>\n",
       "<table border=\"1\" class=\"dataframe\">\n",
       "  <thead>\n",
       "    <tr style=\"text-align: right;\">\n",
       "      <th></th>\n",
       "      <th>509</th>\n",
       "      <th>640</th>\n",
       "      <th>211</th>\n",
       "      <th>3692</th>\n",
       "      <th>747</th>\n",
       "      <th>2992</th>\n",
       "      <th>836</th>\n",
       "      <th>1579</th>\n",
       "      <th>2582</th>\n",
       "      <th>3022</th>\n",
       "    </tr>\n",
       "  </thead>\n",
       "  <tbody>\n",
       "    <tr>\n",
       "      <th>0</th>\n",
       "      <td>509</td>\n",
       "      <td>640</td>\n",
       "      <td>211</td>\n",
       "      <td>3692</td>\n",
       "      <td>1928</td>\n",
       "      <td>2992</td>\n",
       "      <td>836</td>\n",
       "      <td>1579</td>\n",
       "      <td>2582</td>\n",
       "      <td>3022</td>\n",
       "    </tr>\n",
       "    <tr>\n",
       "      <th>1</th>\n",
       "      <td>1880</td>\n",
       "      <td>4060</td>\n",
       "      <td>2596</td>\n",
       "      <td>61</td>\n",
       "      <td>747</td>\n",
       "      <td>4448</td>\n",
       "      <td>1832</td>\n",
       "      <td>1285</td>\n",
       "      <td>4140</td>\n",
       "      <td>2779</td>\n",
       "    </tr>\n",
       "    <tr>\n",
       "      <th>2</th>\n",
       "      <td>4454</td>\n",
       "      <td>793</td>\n",
       "      <td>2470</td>\n",
       "      <td>4319</td>\n",
       "      <td>3280</td>\n",
       "      <td>944</td>\n",
       "      <td>1293</td>\n",
       "      <td>1274</td>\n",
       "      <td>2276</td>\n",
       "      <td>3244</td>\n",
       "    </tr>\n",
       "    <tr>\n",
       "      <th>3</th>\n",
       "      <td>4743</td>\n",
       "      <td>1101</td>\n",
       "      <td>1537</td>\n",
       "      <td>784</td>\n",
       "      <td>4534</td>\n",
       "      <td>2077</td>\n",
       "      <td>4382</td>\n",
       "      <td>3536</td>\n",
       "      <td>2462</td>\n",
       "      <td>4921</td>\n",
       "    </tr>\n",
       "    <tr>\n",
       "      <th>4</th>\n",
       "      <td>3812</td>\n",
       "      <td>3608</td>\n",
       "      <td>2827</td>\n",
       "      <td>4328</td>\n",
       "      <td>548</td>\n",
       "      <td>1665</td>\n",
       "      <td>632</td>\n",
       "      <td>4757</td>\n",
       "      <td>2532</td>\n",
       "      <td>1310</td>\n",
       "    </tr>\n",
       "    <tr>\n",
       "      <th>5</th>\n",
       "      <td>3725</td>\n",
       "      <td>67</td>\n",
       "      <td>162</td>\n",
       "      <td>3383</td>\n",
       "      <td>549</td>\n",
       "      <td>4260</td>\n",
       "      <td>2653</td>\n",
       "      <td>1460</td>\n",
       "      <td>1462</td>\n",
       "      <td>3951</td>\n",
       "    </tr>\n",
       "    <tr>\n",
       "      <th>6</th>\n",
       "      <td>419</td>\n",
       "      <td>861</td>\n",
       "      <td>1349</td>\n",
       "      <td>244</td>\n",
       "      <td>2389</td>\n",
       "      <td>236</td>\n",
       "      <td>1188</td>\n",
       "      <td>1550</td>\n",
       "      <td>3358</td>\n",
       "      <td>1950</td>\n",
       "    </tr>\n",
       "    <tr>\n",
       "      <th>7</th>\n",
       "      <td>3340</td>\n",
       "      <td>572</td>\n",
       "      <td>278</td>\n",
       "      <td>4363</td>\n",
       "      <td>240</td>\n",
       "      <td>1180</td>\n",
       "      <td>2100</td>\n",
       "      <td>3640</td>\n",
       "      <td>3843</td>\n",
       "      <td>2869</td>\n",
       "    </tr>\n",
       "    <tr>\n",
       "      <th>8</th>\n",
       "      <td>1200</td>\n",
       "      <td>3436</td>\n",
       "      <td>709</td>\n",
       "      <td>2435</td>\n",
       "      <td>980</td>\n",
       "      <td>1787</td>\n",
       "      <td>1150</td>\n",
       "      <td>3514</td>\n",
       "      <td>237</td>\n",
       "      <td>361</td>\n",
       "    </tr>\n",
       "    <tr>\n",
       "      <th>9</th>\n",
       "      <td>4866</td>\n",
       "      <td>3674</td>\n",
       "      <td>3533</td>\n",
       "      <td>3314</td>\n",
       "      <td>3693</td>\n",
       "      <td>1294</td>\n",
       "      <td>3769</td>\n",
       "      <td>1548</td>\n",
       "      <td>4190</td>\n",
       "      <td>1972</td>\n",
       "    </tr>\n",
       "  </tbody>\n",
       "</table>\n",
       "</div>"
      ],
      "text/plain": [
       "   509   640   211   3692  747   2992  836   1579  2582  3022\n",
       "0   509   640   211  3692  1928  2992   836  1579  2582  3022\n",
       "1  1880  4060  2596    61   747  4448  1832  1285  4140  2779\n",
       "2  4454   793  2470  4319  3280   944  1293  1274  2276  3244\n",
       "3  4743  1101  1537   784  4534  2077  4382  3536  2462  4921\n",
       "4  3812  3608  2827  4328   548  1665   632  4757  2532  1310\n",
       "5  3725    67   162  3383   549  4260  2653  1460  1462  3951\n",
       "6   419   861  1349   244  2389   236  1188  1550  3358  1950\n",
       "7  3340   572   278  4363   240  1180  2100  3640  3843  2869\n",
       "8  1200  3436   709  2435   980  1787  1150  3514   237   361\n",
       "9  4866  3674  3533  3314  3693  1294  3769  1548  4190  1972"
      ]
     },
     "execution_count": 99,
     "metadata": {},
     "output_type": "execute_result"
    }
   ],
   "source": [
    "#Obtenemos en un diccionario los índices mas cercanos utilizando distancia euclidiana.\n",
    "euclidean_index = {}\n",
    "for index in indexes:\n",
    "    euclidean_index[index] = get_knn(df, index, 10, 'euclidean')['distance'].index\n",
    "    \n",
    "pd.DataFrame(euclidean_index)"
   ]
  },
  {
   "cell_type": "code",
   "execution_count": 100,
   "metadata": {},
   "outputs": [
    {
     "data": {
      "text/html": [
       "<div>\n",
       "<style scoped>\n",
       "    .dataframe tbody tr th:only-of-type {\n",
       "        vertical-align: middle;\n",
       "    }\n",
       "\n",
       "    .dataframe tbody tr th {\n",
       "        vertical-align: top;\n",
       "    }\n",
       "\n",
       "    .dataframe thead th {\n",
       "        text-align: right;\n",
       "    }\n",
       "</style>\n",
       "<table border=\"1\" class=\"dataframe\">\n",
       "  <thead>\n",
       "    <tr style=\"text-align: right;\">\n",
       "      <th></th>\n",
       "      <th>509</th>\n",
       "      <th>640</th>\n",
       "      <th>211</th>\n",
       "      <th>3692</th>\n",
       "      <th>747</th>\n",
       "      <th>2992</th>\n",
       "      <th>836</th>\n",
       "      <th>1579</th>\n",
       "      <th>2582</th>\n",
       "      <th>3022</th>\n",
       "    </tr>\n",
       "  </thead>\n",
       "  <tbody>\n",
       "    <tr>\n",
       "      <th>0</th>\n",
       "      <td>509</td>\n",
       "      <td>640</td>\n",
       "      <td>211</td>\n",
       "      <td>3692</td>\n",
       "      <td>1928</td>\n",
       "      <td>2992</td>\n",
       "      <td>836</td>\n",
       "      <td>1579</td>\n",
       "      <td>2582</td>\n",
       "      <td>3022</td>\n",
       "    </tr>\n",
       "    <tr>\n",
       "      <th>1</th>\n",
       "      <td>1880</td>\n",
       "      <td>4060</td>\n",
       "      <td>2596</td>\n",
       "      <td>61</td>\n",
       "      <td>747</td>\n",
       "      <td>4448</td>\n",
       "      <td>1832</td>\n",
       "      <td>1285</td>\n",
       "      <td>4140</td>\n",
       "      <td>2779</td>\n",
       "    </tr>\n",
       "    <tr>\n",
       "      <th>2</th>\n",
       "      <td>4454</td>\n",
       "      <td>793</td>\n",
       "      <td>2470</td>\n",
       "      <td>4319</td>\n",
       "      <td>3280</td>\n",
       "      <td>944</td>\n",
       "      <td>1293</td>\n",
       "      <td>1274</td>\n",
       "      <td>2276</td>\n",
       "      <td>3244</td>\n",
       "    </tr>\n",
       "    <tr>\n",
       "      <th>3</th>\n",
       "      <td>4743</td>\n",
       "      <td>1101</td>\n",
       "      <td>1537</td>\n",
       "      <td>784</td>\n",
       "      <td>548</td>\n",
       "      <td>2077</td>\n",
       "      <td>4382</td>\n",
       "      <td>4757</td>\n",
       "      <td>2462</td>\n",
       "      <td>4921</td>\n",
       "    </tr>\n",
       "    <tr>\n",
       "      <th>4</th>\n",
       "      <td>3812</td>\n",
       "      <td>3608</td>\n",
       "      <td>1349</td>\n",
       "      <td>4328</td>\n",
       "      <td>549</td>\n",
       "      <td>1665</td>\n",
       "      <td>632</td>\n",
       "      <td>3536</td>\n",
       "      <td>1462</td>\n",
       "      <td>1310</td>\n",
       "    </tr>\n",
       "    <tr>\n",
       "      <th>5</th>\n",
       "      <td>3725</td>\n",
       "      <td>861</td>\n",
       "      <td>2827</td>\n",
       "      <td>3383</td>\n",
       "      <td>4534</td>\n",
       "      <td>236</td>\n",
       "      <td>2653</td>\n",
       "      <td>1460</td>\n",
       "      <td>3358</td>\n",
       "      <td>3951</td>\n",
       "    </tr>\n",
       "    <tr>\n",
       "      <th>6</th>\n",
       "      <td>419</td>\n",
       "      <td>67</td>\n",
       "      <td>278</td>\n",
       "      <td>2435</td>\n",
       "      <td>2389</td>\n",
       "      <td>4260</td>\n",
       "      <td>1188</td>\n",
       "      <td>1550</td>\n",
       "      <td>3843</td>\n",
       "      <td>1950</td>\n",
       "    </tr>\n",
       "    <tr>\n",
       "      <th>7</th>\n",
       "      <td>3340</td>\n",
       "      <td>572</td>\n",
       "      <td>162</td>\n",
       "      <td>244</td>\n",
       "      <td>240</td>\n",
       "      <td>1787</td>\n",
       "      <td>2100</td>\n",
       "      <td>3640</td>\n",
       "      <td>2532</td>\n",
       "      <td>2869</td>\n",
       "    </tr>\n",
       "    <tr>\n",
       "      <th>8</th>\n",
       "      <td>1200</td>\n",
       "      <td>3436</td>\n",
       "      <td>709</td>\n",
       "      <td>3314</td>\n",
       "      <td>3693</td>\n",
       "      <td>1180</td>\n",
       "      <td>1150</td>\n",
       "      <td>3514</td>\n",
       "      <td>237</td>\n",
       "      <td>361</td>\n",
       "    </tr>\n",
       "    <tr>\n",
       "      <th>9</th>\n",
       "      <td>4866</td>\n",
       "      <td>3674</td>\n",
       "      <td>3533</td>\n",
       "      <td>4363</td>\n",
       "      <td>980</td>\n",
       "      <td>1294</td>\n",
       "      <td>4969</td>\n",
       "      <td>1548</td>\n",
       "      <td>4408</td>\n",
       "      <td>1972</td>\n",
       "    </tr>\n",
       "  </tbody>\n",
       "</table>\n",
       "</div>"
      ],
      "text/plain": [
       "   509   640   211   3692  747   2992  836   1579  2582  3022\n",
       "0   509   640   211  3692  1928  2992   836  1579  2582  3022\n",
       "1  1880  4060  2596    61   747  4448  1832  1285  4140  2779\n",
       "2  4454   793  2470  4319  3280   944  1293  1274  2276  3244\n",
       "3  4743  1101  1537   784   548  2077  4382  4757  2462  4921\n",
       "4  3812  3608  1349  4328   549  1665   632  3536  1462  1310\n",
       "5  3725   861  2827  3383  4534   236  2653  1460  3358  3951\n",
       "6   419    67   278  2435  2389  4260  1188  1550  3843  1950\n",
       "7  3340   572   162   244   240  1787  2100  3640  2532  2869\n",
       "8  1200  3436   709  3314  3693  1180  1150  3514   237   361\n",
       "9  4866  3674  3533  4363   980  1294  4969  1548  4408  1972"
      ]
     },
     "execution_count": 100,
     "metadata": {},
     "output_type": "execute_result"
    }
   ],
   "source": [
    "#Obtenemos en un diccionario los índices mas cercanos utilizando distancia cityblock.\n",
    "cityblock_index = {}\n",
    "for index in indexes:\n",
    "    cityblock_index[index] = get_knn(df, index, 10, 'cityblock')['distance'].index\n",
    "    \n",
    "pd.DataFrame(cityblock_index)"
   ]
  },
  {
   "cell_type": "code",
   "execution_count": 101,
   "metadata": {},
   "outputs": [
    {
     "name": "stdout",
     "output_type": "stream",
     "text": [
      "De las observaciones con indice 509 hay 0 vecinos diferentes\n",
      "De las observaciones con indice 640 hay 0 vecinos diferentes\n",
      "De las observaciones con indice 211 hay 0 vecinos diferentes\n",
      "De las observaciones con indice 3692 hay 0 vecinos diferentes\n",
      "De las observaciones con indice 747 hay 0 vecinos diferentes\n",
      "De las observaciones con indice 2992 hay 0 vecinos diferentes\n",
      "De las observaciones con indice 836 hay 1 vecinos diferentes\n",
      "De las observaciones con indice 1579 hay 0 vecinos diferentes\n",
      "De las observaciones con indice 2582 hay 1 vecinos diferentes\n",
      "De las observaciones con indice 3022 hay 0 vecinos diferentes\n",
      "\n",
      "\n",
      "La cantidad de vecinos diferentes de la distancia euclidiana y cityblock es de 2.0 %\n"
     ]
    }
   ],
   "source": [
    "# Definimos una función para contabilizar las diferencias entre dos listas.\n",
    "def get_dif_values(list_1, list_2):\n",
    "    count = 0\n",
    "    for item in list_1:\n",
    "        if item not in list_2:\n",
    "            count += 1\n",
    "    return count\n",
    "\n",
    "# Contabilizamos la cantidad de vecinos diferentes por cada observación evaluada.\n",
    "count = []\n",
    "for index in indexes:\n",
    "    count.append(get_dif_values(euclidean_index[index], cityblock_index[index]))\n",
    "    print(f'De las observaciones con indice {index} hay {get_dif_values(euclidean_index[index], cityblock_index[index])} vecinos diferentes')  \n",
    "print('\\n')\n",
    "print(f'La cantidad de vecinos diferentes de la distancia euclidiana y cityblock es de {(sum(count)/pd.DataFrame(cityblock_index).values.size)*100} %')"
   ]
  },
  {
   "cell_type": "markdown",
   "metadata": {},
   "source": [
    "### Preguntas"
   ]
  },
  {
   "cell_type": "markdown",
   "metadata": {},
   "source": [
    "**¿El hecho de que los datos no estén escalados afecta al algoritmo kNN?** \n",
    "\n",
    "Si afecta al algoritmo kNN, ya que si ingresamos como parámetro el conjunto de datos sin escalar intentará encontrar vecinos con el salario igual y luego las demás características, esto sucede porque la diferencia de salarios es muy alta con respecto a la diferencia de edades. \n",
    "\n",
    "Esto no pasa cuando el conjunto está escalado, ya que la diferncia de valores es igual, entonces no necesariamente toma un vecino con el salario igual, evalua todas las características de igual forma.\n",
    "\n",
    "De mi punto de vista en el primer caso el algoritmo es muy estrícto en buscar salarios iguales, por lo que esto talvez ignora la cercanía con otras observacines basándose en otras características, otra forma de solucionar el problema es asignando escalas salariales numéricas para que el algoritmo pueda evaluar las observacions de una forma mas ponderada."
   ]
  },
  {
   "cell_type": "markdown",
   "metadata": {},
   "source": [
    "**¿Qué tan similares son los resultados al utilizar la métrica de distancia Manhattan (independientemente del escalado)?** \n",
    "\n",
    "Para responder esta pregunta contabilizamos cuantos vecinos son diferentes del resultado del algoritmo kNN evaluados con la distancia euclideana y cityblosk. En 10 observaciones evaluadas con 10 vecinos cercanos nos dió un total de 2 vecinos difentes del total de 100, esto nos indica que apenas el 2% de los índices vecinos son diferentes.\n",
    "\n",
    "En conclusión ambas distancias devuelven resultados iguales."
   ]
  },
  {
   "cell_type": "markdown",
   "metadata": {},
   "source": [
    "# Objetivo 2 ¿Es probable que el cliente reciba una prestación del seguro?"
   ]
  },
  {
   "cell_type": "markdown",
   "metadata": {},
   "source": [
    "En términos de machine learning podemos considerarlo como una tarea de clasificación binaria."
   ]
  },
  {
   "cell_type": "markdown",
   "metadata": {},
   "source": [
    "Con el valor de `insurance_benefits` superior a cero como objetivo, evaluamos si el enfoque de clasificación kNN puede funcionar mejor que el modelo dummy.\n",
    "\n",
    "- Construimos un clasificador basado en KNN y medimos su calidad con la métrica F1 para k=1...10 tanto para los datos originales como para los escalados. De esta manera observamos cómo k puede influir en la métrica de evaluación y si el escalado de los datos provoca alguna diferencia. Utilizaremos una implementación ya existente del algoritmo de clasificación kNN de scikit-learn (https://scikit-learn.org/stable/modules/generated/sklearn.neighbors.KNeighborsClassifier.html).\n",
    "\n",
    "- Construimos un modelo dummy que, en este caso, es simplemente un modelo aleatorio. Debería devolver \"1\" con cierta probabilidad. Probaremos el modelo con cuatro valores de probabilidad: 0, la probabilidad de pagar cualquier prestación del seguro, 0.5, 1.\n",
    "La probabilidad de pagar cualquier prestación del seguro puede definirse como:\n",
    "\n",
    "\n",
    "$$\n",
    "P\\{\\text{prestación de seguro recibida}\\}=\\frac{\\text{número de clientes que han recibido alguna prestación de seguro}}{\\text{número total de clientes}}.\n",
    "$$\n"
   ]
  },
  {
   "cell_type": "code",
   "execution_count": 102,
   "metadata": {},
   "outputs": [],
   "source": [
    "# сalcula el objetivo\n",
    "df['insurance_benefits_received'] = df['insurance_benefits'] > 0\n",
    "df['insurance_benefits_received'] = df['insurance_benefits_received'].astype(int)"
   ]
  },
  {
   "cell_type": "code",
   "execution_count": 103,
   "metadata": {},
   "outputs": [
    {
     "data": {
      "text/html": [
       "<div>\n",
       "<style scoped>\n",
       "    .dataframe tbody tr th:only-of-type {\n",
       "        vertical-align: middle;\n",
       "    }\n",
       "\n",
       "    .dataframe tbody tr th {\n",
       "        vertical-align: top;\n",
       "    }\n",
       "\n",
       "    .dataframe thead th {\n",
       "        text-align: right;\n",
       "    }\n",
       "</style>\n",
       "<table border=\"1\" class=\"dataframe\">\n",
       "  <thead>\n",
       "    <tr style=\"text-align: right;\">\n",
       "      <th></th>\n",
       "      <th>gender</th>\n",
       "      <th>age</th>\n",
       "      <th>income</th>\n",
       "      <th>family_members</th>\n",
       "      <th>insurance_benefits</th>\n",
       "      <th>insurance_benefits_received</th>\n",
       "    </tr>\n",
       "  </thead>\n",
       "  <tbody>\n",
       "    <tr>\n",
       "      <th>0</th>\n",
       "      <td>1</td>\n",
       "      <td>41</td>\n",
       "      <td>49600.0</td>\n",
       "      <td>1</td>\n",
       "      <td>0</td>\n",
       "      <td>0</td>\n",
       "    </tr>\n",
       "    <tr>\n",
       "      <th>1</th>\n",
       "      <td>0</td>\n",
       "      <td>46</td>\n",
       "      <td>38000.0</td>\n",
       "      <td>1</td>\n",
       "      <td>1</td>\n",
       "      <td>1</td>\n",
       "    </tr>\n",
       "    <tr>\n",
       "      <th>2</th>\n",
       "      <td>0</td>\n",
       "      <td>29</td>\n",
       "      <td>21000.0</td>\n",
       "      <td>0</td>\n",
       "      <td>0</td>\n",
       "      <td>0</td>\n",
       "    </tr>\n",
       "    <tr>\n",
       "      <th>3</th>\n",
       "      <td>0</td>\n",
       "      <td>21</td>\n",
       "      <td>41700.0</td>\n",
       "      <td>2</td>\n",
       "      <td>0</td>\n",
       "      <td>0</td>\n",
       "    </tr>\n",
       "    <tr>\n",
       "      <th>4</th>\n",
       "      <td>1</td>\n",
       "      <td>28</td>\n",
       "      <td>26100.0</td>\n",
       "      <td>0</td>\n",
       "      <td>0</td>\n",
       "      <td>0</td>\n",
       "    </tr>\n",
       "  </tbody>\n",
       "</table>\n",
       "</div>"
      ],
      "text/plain": [
       "   gender  age   income  family_members  insurance_benefits  \\\n",
       "0       1   41  49600.0               1                   0   \n",
       "1       0   46  38000.0               1                   1   \n",
       "2       0   29  21000.0               0                   0   \n",
       "3       0   21  41700.0               2                   0   \n",
       "4       1   28  26100.0               0                   0   \n",
       "\n",
       "   insurance_benefits_received  \n",
       "0                            0  \n",
       "1                            1  \n",
       "2                            0  \n",
       "3                            0  \n",
       "4                            0  "
      ]
     },
     "execution_count": 103,
     "metadata": {},
     "output_type": "execute_result"
    }
   ],
   "source": [
    "df.head(5)"
   ]
  },
  {
   "cell_type": "code",
   "execution_count": 104,
   "metadata": {},
   "outputs": [
    {
     "data": {
      "text/plain": [
       "0    4436\n",
       "1     564\n",
       "Name: insurance_benefits_received, dtype: int64"
      ]
     },
     "execution_count": 104,
     "metadata": {},
     "output_type": "execute_result"
    }
   ],
   "source": [
    "# Comprobamos el desequilibrio de clases con value_counts()\n",
    "\n",
    "df['insurance_benefits_received'].value_counts()"
   ]
  },
  {
   "cell_type": "markdown",
   "metadata": {},
   "source": [
    "El conjunto de datos tiene un fuerte desequilibrio de clases."
   ]
  },
  {
   "cell_type": "code",
   "execution_count": 105,
   "metadata": {},
   "outputs": [
    {
     "name": "stdout",
     "output_type": "stream",
     "text": [
      "(5000,)\n",
      "(5000, 4)\n"
     ]
    }
   ],
   "source": [
    "# Definimos las características y el objetivo.\n",
    "y = df['insurance_benefits_received']\n",
    "X = df.drop(['insurance_benefits', 'insurance_benefits_received'], axis= 1)\n",
    "\n",
    "print(y.shape)\n",
    "print(X.shape)"
   ]
  },
  {
   "cell_type": "code",
   "execution_count": 106,
   "metadata": {},
   "outputs": [
    {
     "name": "stdout",
     "output_type": "stream",
     "text": [
      "(3500, 4)\n",
      "(1500, 4)\n",
      "(3500,)\n",
      "(1500,)\n"
     ]
    }
   ],
   "source": [
    "# Definimos el grupo de prueba y el de entrenamiento\n",
    "X_train, X_test, y_train, y_test = train_test_split(X, y, test_size= 0.3,  random_state= 42)\n",
    "\n",
    "X_train = X_train.reset_index(drop= True)\n",
    "X_test = X_test.reset_index(drop= True)\n",
    "y_train = y_train.reset_index(drop= True)\n",
    "y_test = y_test.reset_index(drop= True)\n",
    "\n",
    "print(X_train.shape)\n",
    "print(X_test.shape)\n",
    "print(y_train.shape)\n",
    "print(y_test.shape)"
   ]
  },
  {
   "cell_type": "code",
   "execution_count": 107,
   "metadata": {},
   "outputs": [],
   "source": [
    "# Escalamos los conjuntos de prueba y entrenamiento\n",
    "transformer_mas = sklearn.preprocessing.MaxAbsScaler().fit(X_train)\n",
    "\n",
    "X_train_scaled = pd.DataFrame(transformer_mas.transform(X_train), columns= X_train.columns, index= X_train.index)\n",
    "X_test_scaled = pd.DataFrame(transformer_mas.transform(X_test), columns= X_test.columns, index= X_test.index)"
   ]
  },
  {
   "cell_type": "code",
   "execution_count": 108,
   "metadata": {},
   "outputs": [
    {
     "name": "stdout",
     "output_type": "stream",
     "text": [
      "   gender       age    income  family_members\n",
      "0     0.0  0.564516  0.458228        0.166667\n",
      "1     0.0  0.419355  0.279747        0.166667\n",
      "2     0.0  0.306452  0.551899        0.166667\n",
      "3     0.0  0.661290  0.392405        0.500000\n",
      "4     1.0  0.500000  0.470886        0.166667\n",
      "   gender       age    income  family_members\n",
      "0     1.0  0.451613  0.710127        0.000000\n",
      "1     1.0  0.516129  0.530380        0.333333\n",
      "2     1.0  0.483871  0.332911        0.000000\n",
      "3     1.0  0.483871  0.472152        0.333333\n",
      "4     0.0  0.709677  0.379747        0.166667\n"
     ]
    }
   ],
   "source": [
    "print(X_train_scaled.head())\n",
    "print(X_test_scaled.head())"
   ]
  },
  {
   "cell_type": "code",
   "execution_count": 109,
   "metadata": {},
   "outputs": [],
   "source": [
    "# Definimos una función para obtener el valor F1 y la matriz de confusión.\n",
    "def eval_classifier(y_true, y_pred):\n",
    "    \n",
    "    f1_score = sklearn.metrics.f1_score(y_true, y_pred)\n",
    "        \n",
    "    cm = sklearn.metrics.confusion_matrix(y_true, y_pred, normalize='all')\n",
    "   \n",
    "    return f1_score, cm"
   ]
  },
  {
   "cell_type": "markdown",
   "metadata": {},
   "source": [
    "**Obtenemos resultados utilizando nuestro modelo KNN para el conjunto sin escalar.**"
   ]
  },
  {
   "cell_type": "code",
   "execution_count": 110,
   "metadata": {},
   "outputs": [],
   "source": [
    "# Realizamos predicciones con nuestro modelo para el conjunto de datos sin escalar.\n",
    "results_nonscaled = []\n",
    "for k in range(10):\n",
    "    \n",
    "    knn_model = KNeighborsClassifier(n_neighbors= k+1)\n",
    "    knn_model.fit(X_train, y_train)\n",
    "    predictions = knn_model.predict(X_test)\n",
    "    \n",
    "    results_nonscaled.append(eval_classifier(y_test, predictions)[0])"
   ]
  },
  {
   "cell_type": "markdown",
   "metadata": {},
   "source": [
    "**Obtenemos resultados utilizando nuestro modelo KNN para el conjunto escalado.**"
   ]
  },
  {
   "cell_type": "code",
   "execution_count": 111,
   "metadata": {},
   "outputs": [],
   "source": [
    "# Realizamos predicciones con nuestro modelo para el conjunto de datos escalado.\n",
    "results_scaled = []\n",
    "for k in range(10):\n",
    "    \n",
    "    knn_model = KNeighborsClassifier(n_neighbors= k+1)\n",
    "    knn_model.fit(X_train_scaled, y_train)\n",
    "    predictions = knn_model.predict(X_test_scaled)\n",
    "    \n",
    "    results_scaled.append(eval_classifier(y_test, predictions)[0])"
   ]
  },
  {
   "cell_type": "markdown",
   "metadata": {},
   "source": [
    "**Observamos como f1 varía con el número de vecinos K y con el conjunto escalado y no escalado**"
   ]
  },
  {
   "cell_type": "code",
   "execution_count": 112,
   "metadata": {},
   "outputs": [
    {
     "data": {
      "image/png": "[encoded data removed]",
      "text/plain": [
       "<Figure size 1152x648 with 1 Axes>"
      ]
     },
     "metadata": {
      "needs_background": "light"
     },
     "output_type": "display_data"
    }
   ],
   "source": [
    "results = pd.DataFrame()\n",
    "results['non_scaled'] = results_nonscaled\n",
    "results['scaled'] = results_scaled\n",
    "results.plot(kind= 'line', grid= True, figsize= (16,9), title= 'F1 para k vecinos')\n",
    "plt.show()"
   ]
  },
  {
   "cell_type": "code",
   "execution_count": 113,
   "metadata": {},
   "outputs": [],
   "source": [
    "# Generamos la salida de un modelo aleatorio binomial ingresando la probabilidad como parámetro.\n",
    "\n",
    "def rnd_model_predict(P, size, seed=42):\n",
    "\n",
    "    rng = np.random.default_rng(seed=seed)\n",
    "    return rng.binomial(n=1, p=P, size=size)"
   ]
  },
  {
   "cell_type": "code",
   "execution_count": 114,
   "metadata": {},
   "outputs": [
    {
     "name": "stdout",
     "output_type": "stream",
     "text": [
      "[1 0 1 1 0 1 1 1 0 0]\n"
     ]
    }
   ],
   "source": [
    "print(rnd_model_predict(0.5,10))"
   ]
  },
  {
   "cell_type": "code",
   "execution_count": 115,
   "metadata": {},
   "outputs": [
    {
     "name": "stdout",
     "output_type": "stream",
     "text": [
      "La probabilidad: 0.00\n",
      "\n",
      "F1: 0.0 \n",
      "Matriz de confusión:\n",
      " [[0.8872 0.    ]\n",
      " [0.1128 0.    ]]\n",
      "\n",
      "La probabilidad: 0.11\n",
      "\n",
      "F1: 0.12072072072072074 \n",
      "Matriz de confusión:\n",
      " [[0.7914 0.0958]\n",
      " [0.0994 0.0134]]\n",
      "\n",
      "La probabilidad: 0.50\n",
      "\n",
      "F1: 0.19807883405101026 \n",
      "Matriz de confusión:\n",
      " [[0.456  0.4312]\n",
      " [0.053  0.0598]]\n",
      "\n",
      "La probabilidad: 1.00\n",
      "\n",
      "F1: 0.20273184759166066 \n",
      "Matriz de confusión:\n",
      " [[0.     0.8872]\n",
      " [0.     0.1128]]\n",
      "\n"
     ]
    }
   ],
   "source": [
    "# Probamos con diferentes probabilidades y evaluamos.\n",
    "for P in [0, df['insurance_benefits_received'].sum() / len(df), 0.5, 1]:\n",
    "\n",
    "    print(f'La probabilidad: {P:.2f}\\n')\n",
    "    y_pred_rnd = rnd_model_predict(P, df.shape[0]) \n",
    "    \n",
    "    result = eval_classifier(df['insurance_benefits_received'], y_pred_rnd)\n",
    "    print(f'F1: {result[0]} \\nMatriz de confusión:\\n {result[1]}')\n",
    "    \n",
    "    print()"
   ]
  },
  {
   "cell_type": "markdown",
   "metadata": {},
   "source": [
    "**Conclusiónes:**\n",
    "\n",
    "- Podemos observar que para el conjunto escalado el valor F1 disminuye a medida que el número de vecinos aumenta, en otras palabras el conjunto de datos no escalado es susceptible a un diferente número de vecinos. Por otro lado el valor F1 para el conjunto escalado no varía a pesar de que el número de vecinos aumenta, además la métrica F1 es muy superior con el conjunto escalado.\n",
    "\n",
    "\n",
    "- Un modelo aleatorio tiene muy mal desempeño y no puede superar los resultados de nuestro modelo KNN.\n",
    "\n"
   ]
  },
  {
   "cell_type": "markdown",
   "metadata": {},
   "source": [
    "# Objetivo 3. Regresión (con regresión lineal)"
   ]
  },
  {
   "cell_type": "markdown",
   "metadata": {},
   "source": [
    "Con `insurance_benefits` como objetivo, evaluamos cuál sería la RECM de un modelo de regresión lineal."
   ]
  },
  {
   "cell_type": "markdown",
   "metadata": {},
   "source": [
    "Construiremos nuestra propia implementación de regresión lineal y comprobaremos la RECM tanto para los datos originales como para los escalados. \n",
    "\n",
    "Denotemos- $X$: matriz de características; cada fila es un caso, cada columna es una característica, la primera columna está formada por unidades- $y$ — objetivo (un vector)- $\\hat{y}$ — objetivo estimado (un vector)- $w$ — vector de pesos\n",
    "\n",
    "\n",
    "$$\n",
    "y = Xw\n",
    "$$\n",
    "\n",
    "El objetivo de entrenamiento es entonces encontrar esa $w$ w que minimice la distancia L2 (ECM) entre $Xw$ y $y$:\n",
    "\n",
    "$$\n",
    "\\min_w d_2(Xw, y) \\quad \\text{or} \\quad \\min_w \\text{MSE}(Xw, y)\n",
    "$$\n",
    "\n",
    "Parece que hay una solución analítica para lo anteriormente expuesto:\n",
    "$$\n",
    "w = (X^T X)^{-1} X^T y\n",
    "$$\n",
    "\n",
    "La fórmula anterior puede servir para encontrar los pesos $w$ y estos últimos pueden utilizarse para calcular los valores predichos\n",
    "$$\n",
    "\\hat{y} = X_{val}w\n",
    "$$"
   ]
  },
  {
   "cell_type": "markdown",
   "metadata": {},
   "source": [
    "Dividimos todos los datos correspondientes a las etapas de entrenamiento/prueba respetando la proporción 70:30. Utilizamos la métrica RECM para evaluar el modelo."
   ]
  },
  {
   "cell_type": "code",
   "execution_count": 116,
   "metadata": {},
   "outputs": [],
   "source": [
    "# Definimos una clase para la regresión lineal\n",
    "class MyLinearRegression:\n",
    "    \n",
    "    def fit(self, X, y):\n",
    "        self.X = np.concatenate((np.ones((X.shape[0], 1)), X), axis=1)\n",
    "        self.y = y\n",
    "        w = np.dot(np.dot(np.linalg.inv(np.dot(np.transpose(self.X),self.X)), np.transpose(self.X)) , y)\n",
    "        self.w = w[1:]\n",
    "        self.w0 = w[0]\n",
    "        \n",
    "\n",
    "    def predict(self, test_features):\n",
    "        return test_features.dot(self.w) + self.w0"
   ]
  },
  {
   "cell_type": "code",
   "execution_count": 117,
   "metadata": {},
   "outputs": [],
   "source": [
    "# Definimos una función para evaluar el modelo\n",
    "def eval_regressor(y_true, y_pred):\n",
    "    \n",
    "    try:\n",
    "        rmse = math.sqrt(sklearn.metrics.mean_squared_error(y_true, y_pred))\n",
    "        print(f'RMSE: {rmse:.2f}')\n",
    "    except:\n",
    "        print('Valor 0 en el denominador')\n",
    "    try:\n",
    "        r2_score = math.sqrt(sklearn.metrics.r2_score(y_true, y_pred))\n",
    "        print(f'R2: {r2_score:.2f}')\n",
    "    except:\n",
    "        print('Valor 0 en el denominador')"
   ]
  },
  {
   "cell_type": "code",
   "execution_count": 118,
   "metadata": {},
   "outputs": [
    {
     "name": "stdout",
     "output_type": "stream",
     "text": [
      "[ 3.57495491e-02  1.64272726e-02 -2.60743659e-07 -1.16902127e-02]\n",
      "RMSE: 0.34\n",
      "R2: 0.66\n"
     ]
    }
   ],
   "source": [
    "# Generamos predicciones con nuestro modelo y conjunto de datos no escalado\n",
    "X = df[['age', 'gender', 'income', 'family_members']].to_numpy()\n",
    "y = df['insurance_benefits'].to_numpy()\n",
    "\n",
    "X_train, X_test, y_train, y_test = train_test_split(X, y, test_size=0.3, random_state=12345)\n",
    "\n",
    "lr = MyLinearRegression()\n",
    "\n",
    "lr.fit(X_train, y_train)\n",
    "print(lr.w)\n",
    "\n",
    "y_test_pred = lr.predict(X_test)\n",
    "#pd.DataFrame(y_test_pred).hist(bins= 50)\n",
    "eval_regressor(y_test, y_test_pred)"
   ]
  },
  {
   "cell_type": "code",
   "execution_count": 119,
   "metadata": {},
   "outputs": [
    {
     "name": "stdout",
     "output_type": "stream",
     "text": [
      "[ 0.00573967 -0.06188421  0.1017913   0.05817647]\n",
      "RMSE: 0.46\n",
      "Valor 0 en el denominador\n"
     ]
    }
   ],
   "source": [
    "# Generamos predicciones con nuestro modelo y conjunto de datos escalado\n",
    "lr = MyLinearRegression()\n",
    "\n",
    "lr.fit(X_train_scaled, y_train)\n",
    "\n",
    "y_test_pred = lr.predict(X_test_scaled)\n",
    "\n",
    "eval_regressor(y_test, y_test_pred)\n"
   ]
  },
  {
   "cell_type": "markdown",
   "metadata": {},
   "source": [
    "# Objetivo 4. Ofuscar datos"
   ]
  },
  {
   "cell_type": "markdown",
   "metadata": {},
   "source": [
    "Lo mejor es ofuscar los datos multiplicando las características numéricas.\n",
    "\n",
    "$$\n",
    "X' = X \\times P\n",
    "$$\n",
    "\n",
    "Ofuscaremos los datos y luego vamos a visualizar cómo quedarán los valores de las características después de la transformación. Por cierto, la propiedad de invertibilidad es importante aquí, así que nos aseguramos de que $P$ sea realmente invertible."
   ]
  },
  {
   "cell_type": "code",
   "execution_count": 120,
   "metadata": {},
   "outputs": [],
   "source": [
    "# Seleccionamos las variables a proteger.\n",
    "personal_info_column_list = ['gender', 'age', 'income', 'family_members']\n",
    "df_pn = df[personal_info_column_list]"
   ]
  },
  {
   "cell_type": "code",
   "execution_count": 121,
   "metadata": {},
   "outputs": [
    {
     "data": {
      "text/plain": [
       "array([[1.00e+00, 4.10e+01, 4.96e+04, 1.00e+00],\n",
       "       [0.00e+00, 4.60e+01, 3.80e+04, 1.00e+00],\n",
       "       [0.00e+00, 2.90e+01, 2.10e+04, 0.00e+00],\n",
       "       ...,\n",
       "       [0.00e+00, 2.00e+01, 3.39e+04, 2.00e+00],\n",
       "       [1.00e+00, 2.20e+01, 3.27e+04, 3.00e+00],\n",
       "       [1.00e+00, 2.80e+01, 4.06e+04, 1.00e+00]])"
      ]
     },
     "execution_count": 121,
     "metadata": {},
     "output_type": "execute_result"
    }
   ],
   "source": [
    "# Transformamos nuestro conjunto en vectores\n",
    "X = df_pn.values\n",
    "X"
   ]
  },
  {
   "cell_type": "markdown",
   "metadata": {},
   "source": [
    "Generar una matriz aleatoria $P$."
   ]
  },
  {
   "cell_type": "code",
   "execution_count": 122,
   "metadata": {},
   "outputs": [],
   "source": [
    "# Generamos una matriz P aleatoria de las mismo número de filas y columnas que nuestro conjunto de datos.\n",
    "rng = np.random.default_rng(seed=42)\n",
    "P = rng.random(size=(X.shape[1], X.shape[1]))"
   ]
  },
  {
   "cell_type": "markdown",
   "metadata": {},
   "source": [
    "Comprobamos que la matriz P sea invertible."
   ]
  },
  {
   "cell_type": "code",
   "execution_count": 123,
   "metadata": {},
   "outputs": [
    {
     "name": "stdout",
     "output_type": "stream",
     "text": [
      "[[ 1. -0. -0. -0.]\n",
      " [-0.  1. -0.  0.]\n",
      " [-0. -0.  1.  0.]\n",
      " [-0. -0.  0.  1.]]\n"
     ]
    }
   ],
   "source": [
    "# Para demostrar que una matriz es invertible la multiplicación de la matriz por su inversa debe ser una matriz indentidad.\n",
    "\n",
    "print(P.dot(np.linalg.inv(P)).round(14))"
   ]
  },
  {
   "cell_type": "markdown",
   "metadata": {},
   "source": [
    "Ya que la diagonal son todos 1 y los demás valores muy cercanos a 0, se puede decir que si es invertible."
   ]
  },
  {
   "cell_type": "markdown",
   "metadata": {},
   "source": [
    "¿Puedes adivinar la edad o los ingresos de los clientes después de la transformación?"
   ]
  },
  {
   "cell_type": "markdown",
   "metadata": {},
   "source": [
    "**Es imposible adivinar la edad o los ingresos después de aplicar la transformación.**"
   ]
  },
  {
   "cell_type": "code",
   "execution_count": 124,
   "metadata": {},
   "outputs": [],
   "source": [
    "# Ofuscamos el conjunto de datos con la matriz P realizando una multiplicación escalar\n",
    "X_ofus = X.dot(P)"
   ]
  },
  {
   "cell_type": "code",
   "execution_count": 125,
   "metadata": {},
   "outputs": [
    {
     "data": {
      "text/plain": [
       "array([[ 6359.71527314, 22380.40467609, 18424.09074184, 46000.69669016],\n",
       "       [ 4873.29406479, 17160.36702982, 14125.78076133, 35253.45577301],\n",
       "       [ 2693.11742928,  9486.397744  ,  7808.83156024, 19484.86063067],\n",
       "       ...,\n",
       "       [ 4346.2234249 , 15289.24126492, 12586.16264392, 31433.50888552],\n",
       "       [ 4194.09324155, 14751.9910242 , 12144.02930637, 30323.88763426],\n",
       "       [ 5205.46827354, 18314.24814446, 15077.01370762, 37649.59295455]])"
      ]
     },
     "execution_count": 125,
     "metadata": {},
     "output_type": "execute_result"
    }
   ],
   "source": [
    "X_ofus"
   ]
  },
  {
   "cell_type": "markdown",
   "metadata": {},
   "source": [
    "Se puede recuperar los datos originales de $X'$ siempre y cuando conozcamos $P$ "
   ]
  },
  {
   "cell_type": "markdown",
   "metadata": {},
   "source": [
    "**Si es posible recuperar los datos de conociendo el valor P, solo hay que multiplicarlo por su inversa**"
   ]
  },
  {
   "cell_type": "code",
   "execution_count": 126,
   "metadata": {},
   "outputs": [
    {
     "data": {
      "text/plain": [
       "array([[ 1.00000000e+00,  4.10000000e+01,  4.96000000e+04,\n",
       "         1.00000000e+00],\n",
       "       [-4.47363596e-12,  4.60000000e+01,  3.80000000e+04,\n",
       "         1.00000000e+00],\n",
       "       [-2.51586878e-12,  2.90000000e+01,  2.10000000e+04,\n",
       "         9.52452315e-13],\n",
       "       ...,\n",
       "       [-1.92837871e-12,  2.00000000e+01,  3.39000000e+04,\n",
       "         2.00000000e+00],\n",
       "       [ 1.00000000e+00,  2.20000000e+01,  3.27000000e+04,\n",
       "         3.00000000e+00],\n",
       "       [ 1.00000000e+00,  2.80000000e+01,  4.06000000e+04,\n",
       "         1.00000000e+00]])"
      ]
     },
     "execution_count": 126,
     "metadata": {},
     "output_type": "execute_result"
    }
   ],
   "source": [
    "# Multiplicamos nuestra matriz ofuscada por la matriz p invertida.\n",
    "X_ofus.dot(np.linalg.inv(P))"
   ]
  },
  {
   "cell_type": "markdown",
   "metadata": {},
   "source": [
    "Muestramostres casos para algunos clientes- Datos originales\n"
   ]
  },
  {
   "cell_type": "code",
   "execution_count": 127,
   "metadata": {},
   "outputs": [
    {
     "data": {
      "text/html": [
       "<div>\n",
       "<style scoped>\n",
       "    .dataframe tbody tr th:only-of-type {\n",
       "        vertical-align: middle;\n",
       "    }\n",
       "\n",
       "    .dataframe tbody tr th {\n",
       "        vertical-align: top;\n",
       "    }\n",
       "\n",
       "    .dataframe thead th {\n",
       "        text-align: right;\n",
       "    }\n",
       "</style>\n",
       "<table border=\"1\" class=\"dataframe\">\n",
       "  <thead>\n",
       "    <tr style=\"text-align: right;\">\n",
       "      <th></th>\n",
       "      <th>gender</th>\n",
       "      <th>age</th>\n",
       "      <th>income</th>\n",
       "      <th>family_members</th>\n",
       "    </tr>\n",
       "  </thead>\n",
       "  <tbody>\n",
       "    <tr>\n",
       "      <th>25</th>\n",
       "      <td>1</td>\n",
       "      <td>47</td>\n",
       "      <td>38400.0</td>\n",
       "      <td>3</td>\n",
       "    </tr>\n",
       "    <tr>\n",
       "      <th>45</th>\n",
       "      <td>0</td>\n",
       "      <td>24</td>\n",
       "      <td>30400.0</td>\n",
       "      <td>1</td>\n",
       "    </tr>\n",
       "    <tr>\n",
       "      <th>264</th>\n",
       "      <td>1</td>\n",
       "      <td>46</td>\n",
       "      <td>46500.0</td>\n",
       "      <td>1</td>\n",
       "    </tr>\n",
       "  </tbody>\n",
       "</table>\n",
       "</div>"
      ],
      "text/plain": [
       "     gender  age   income  family_members\n",
       "25        1   47  38400.0               3\n",
       "45        0   24  30400.0               1\n",
       "264       1   46  46500.0               1"
      ]
     },
     "execution_count": 127,
     "metadata": {},
     "output_type": "execute_result"
    }
   ],
   "source": [
    "# Índices a evaluar.\n",
    "indices = [25, 45, 264]\n",
    "\n",
    "# Conjunto original \n",
    "df_pn.loc[indices]"
   ]
  },
  {
   "cell_type": "code",
   "execution_count": 128,
   "metadata": {},
   "outputs": [
    {
     "data": {
      "text/html": [
       "<div>\n",
       "<style scoped>\n",
       "    .dataframe tbody tr th:only-of-type {\n",
       "        vertical-align: middle;\n",
       "    }\n",
       "\n",
       "    .dataframe tbody tr th {\n",
       "        vertical-align: top;\n",
       "    }\n",
       "\n",
       "    .dataframe thead th {\n",
       "        text-align: right;\n",
       "    }\n",
       "</style>\n",
       "<table border=\"1\" class=\"dataframe\">\n",
       "  <thead>\n",
       "    <tr style=\"text-align: right;\">\n",
       "      <th></th>\n",
       "      <th>gender</th>\n",
       "      <th>age</th>\n",
       "      <th>income</th>\n",
       "      <th>family_members</th>\n",
       "    </tr>\n",
       "  </thead>\n",
       "  <tbody>\n",
       "    <tr>\n",
       "      <th>25</th>\n",
       "      <td>4926.695382</td>\n",
       "      <td>17343.581429</td>\n",
       "      <td>14276.606537</td>\n",
       "      <td>35626.099678</td>\n",
       "    </tr>\n",
       "    <tr>\n",
       "      <th>45</th>\n",
       "      <td>3897.558555</td>\n",
       "      <td>13715.970210</td>\n",
       "      <td>11290.970704</td>\n",
       "      <td>28192.748443</td>\n",
       "    </tr>\n",
       "    <tr>\n",
       "      <th>264</th>\n",
       "      <td>5963.033899</td>\n",
       "      <td>20989.086380</td>\n",
       "      <td>17278.422565</td>\n",
       "      <td>43131.655546</td>\n",
       "    </tr>\n",
       "  </tbody>\n",
       "</table>\n",
       "</div>"
      ],
      "text/plain": [
       "          gender           age        income  family_members\n",
       "25   4926.695382  17343.581429  14276.606537    35626.099678\n",
       "45   3897.558555  13715.970210  11290.970704    28192.748443\n",
       "264  5963.033899  20989.086380  17278.422565    43131.655546"
      ]
     },
     "execution_count": 128,
     "metadata": {},
     "output_type": "execute_result"
    }
   ],
   "source": [
    "# Conjunto transformado\n",
    "pd.DataFrame(X_ofus, columns= df_pn.columns).loc[indices]"
   ]
  },
  {
   "cell_type": "code",
   "execution_count": 129,
   "metadata": {},
   "outputs": [
    {
     "data": {
      "text/html": [
       "<div>\n",
       "<style scoped>\n",
       "    .dataframe tbody tr th:only-of-type {\n",
       "        vertical-align: middle;\n",
       "    }\n",
       "\n",
       "    .dataframe tbody tr th {\n",
       "        vertical-align: top;\n",
       "    }\n",
       "\n",
       "    .dataframe thead th {\n",
       "        text-align: right;\n",
       "    }\n",
       "</style>\n",
       "<table border=\"1\" class=\"dataframe\">\n",
       "  <thead>\n",
       "    <tr style=\"text-align: right;\">\n",
       "      <th></th>\n",
       "      <th>gender</th>\n",
       "      <th>age</th>\n",
       "      <th>income</th>\n",
       "      <th>family_members</th>\n",
       "    </tr>\n",
       "  </thead>\n",
       "  <tbody>\n",
       "    <tr>\n",
       "      <th>25</th>\n",
       "      <td>1</td>\n",
       "      <td>47</td>\n",
       "      <td>38400</td>\n",
       "      <td>3</td>\n",
       "    </tr>\n",
       "    <tr>\n",
       "      <th>45</th>\n",
       "      <td>0</td>\n",
       "      <td>24</td>\n",
       "      <td>30400</td>\n",
       "      <td>1</td>\n",
       "    </tr>\n",
       "    <tr>\n",
       "      <th>264</th>\n",
       "      <td>1</td>\n",
       "      <td>46</td>\n",
       "      <td>46500</td>\n",
       "      <td>1</td>\n",
       "    </tr>\n",
       "  </tbody>\n",
       "</table>\n",
       "</div>"
      ],
      "text/plain": [
       "     gender  age  income  family_members\n",
       "25        1   47   38400               3\n",
       "45        0   24   30400               1\n",
       "264       1   46   46500               1"
      ]
     },
     "execution_count": 129,
     "metadata": {},
     "output_type": "execute_result"
    }
   ],
   "source": [
    "# Conjunto recuperado de la transformación\n",
    "pd.DataFrame(X_ofus.dot(np.linalg.inv(P)), columns= df_pn.columns).loc[indices].round().abs().astype(int)"
   ]
  },
  {
   "cell_type": "markdown",
   "metadata": {},
   "source": [
    "Seguramente puedes ver que algunos valores no son exactamente iguales a los de los datos originales. ¿Cuál podría ser la razón de ello?"
   ]
  },
  {
   "cell_type": "markdown",
   "metadata": {},
   "source": [
    "**Se puede observar que algunos valores no son exactamente iguales a los datos originales esto se debe a la precisión de punto flotanta inherente al procesador de las PC's, ya que esta precisión no es infinita redondea los valores, por este motivo no podemos obtener una matriz identidad exacta con valores igual a 0, por este motivo al recuperar los datos del conjunto de datos original, los valores 0 son valores muy pequeños los cuales son cercanos a 0 y se los considera como 0.**"
   ]
  },
  {
   "cell_type": "markdown",
   "metadata": {},
   "source": [
    "## Prueba de que la ofuscación de datos puede funcionar con regresión lineal"
   ]
  },
  {
   "cell_type": "markdown",
   "metadata": {},
   "source": [
    "En este proyecto la tarea de regresión se ha resuelto con la regresión lineal. Ahora vamos a demostrarlo analiticamente que el método de ofuscación no afectará a la regresión lineal en términos de valores predichos, es decir, que sus valores seguirán siendo los mismos."
   ]
  },
  {
   "cell_type": "markdown",
   "metadata": {},
   "source": [
    "Entonces, los datos están ofuscados y ahora tenemos $X \\times P$ en lugar de tener solo $X$. En consecuencia, hay otros pesos $w_P$ como\n",
    "\n",
    "\n",
    "$$\n",
    "w = (X^T X)^{-1} X^T y \\quad \\Rightarrow \\quad w_P = [(XP)^T XP]^{-1} (XP)^T y\n",
    "$$\n",
    "\n"
   ]
  },
  {
   "cell_type": "markdown",
   "metadata": {},
   "source": [
    "**Respuesta**"
   ]
  },
  {
   "cell_type": "markdown",
   "metadata": {},
   "source": [
    "$$\n",
    "wp = P^{-1} w\n",
    "$$"
   ]
  },
  {
   "cell_type": "markdown",
   "metadata": {},
   "source": [
    "**Prueba analítica**"
   ]
  },
  {
   "cell_type": "markdown",
   "metadata": {},
   "source": [
    "$$\n",
    "w = (X^T X)^{-1} X^T y \\quad \\Rightarrow \\quad w_P = [(XP)^T XP]^{-1} (XP)^T y\n",
    "$$\n",
    "\n",
    "Aplicamos Reversibilidad de la transposición de un producto de matrices\n",
    "\n",
    "$$\n",
    "w = X^{-1} (X^T)^{-1} X^T y \\quad \\Rightarrow \\quad w_p = [(P^T X^T)(X P)]^{-1} P^T X^T y\n",
    "$$\n",
    "\n",
    "Agrupamos\n",
    "\n",
    "$$\n",
    "w_p = [P^TX^T XP]^{-1} XP^TX^T y = [P^T(X^T XP)]^{-1} P^TX^T y\n",
    "$$\n",
    "\n",
    "Aplicamos la ley de identidad.\n",
    "\n",
    "$$\n",
    "w_p = (X^T XP)^{-1} (P^T)^{-1} P^TX^T y\n",
    "$$\n",
    "\n",
    "Agrupamos el primer término.\n",
    "\n",
    "$$\n",
    "w_p = ((X^T X)(P))^{-1} (P^T)^{-1} P^TX^T y\n",
    "$$\n",
    "\n",
    "Volvemos a aplicar la ley de identidad al primer término.\n",
    "\n",
    "$$\n",
    "w_p =  (P)^{-1}(X^T X)^{-1} (P^T)^{-1} P^TX^T y\n",
    "$$\n",
    "\n",
    "Reemplazamos por la matriz identidad\n",
    "\n",
    "$$\n",
    "w_p =  (P)^{-1}(X^T X)^{-1} IX^T y\n",
    "$$\n",
    "\n",
    "Que es lo mismo \n",
    "\n",
    "$$\n",
    "w_p =  (P)^{-1}(X^T X)^{-1} X^T y\n",
    "$$\n",
    "\n",
    "Aplicamos la ley de identidad al segundo término.\n",
    "\n",
    "\n",
    "\n",
    "Ya que $$w = (X^TX)^{-1} X^T y$$ entonces $$wp = P^{-1} w$$  \n"
   ]
  },
  {
   "cell_type": "markdown",
   "metadata": {},
   "source": [
    "## Prueba de regresión lineal con ofuscación de datos"
   ]
  },
  {
   "cell_type": "markdown",
   "metadata": {},
   "source": [
    "Ahora, probemos que la regresión lineal pueda funcionar, en términos computacionales, con la transformación de ofuscación elegida.\n",
    "Vamos a construir un procedimiento o una clase que ejecute la regresión lineal opcionalmente con la ofuscación."
   ]
  },
  {
   "cell_type": "markdown",
   "metadata": {},
   "source": [
    "**Procedimiento**\n",
    "\n",
    "  - Creamos una matriz cuadrada $P$ de números aleatorios y verificamos que sea invertible. Si no lo es se repite el primer paso hasta obtener una matriz invertible.\n",
    "    \n",
    "        \n",
    "       \n",
    "  - Utilizamos $XP$ como la nueva matriz de características"
   ]
  },
  {
   "cell_type": "code",
   "execution_count": 130,
   "metadata": {},
   "outputs": [],
   "source": [
    "class MyLinearRegression:\n",
    "    \n",
    "    def fit(self, X, y, P=None):\n",
    "        \n",
    "        X = np.concatenate((np.ones((X.shape[0], 1)), X), axis=1)\n",
    "        y = y\n",
    "        w = np.dot(np.dot(np.linalg.inv(np.dot(np.transpose(X),X)), np.transpose(X)) , y)\n",
    "        self.w = w[1:]    \n",
    "        if P is not None:\n",
    "            \n",
    "            self.w= np.dot(np.linalg.inv(P), self.w)\n",
    "                \n",
    "        \n",
    "        self.w0 = w[0]    \n",
    "  \n",
    "            \n",
    "\n",
    "    def predict(self, test_features):\n",
    "        return test_features.dot(self.w) + self.w0"
   ]
  },
  {
   "cell_type": "code",
   "execution_count": 131,
   "metadata": {},
   "outputs": [],
   "source": [
    "# Definimos una función para evaluar el modelo\n",
    "def eval_regressor(y_true, y_pred):\n",
    "    \n",
    "    try:\n",
    "        rmse = math.sqrt(sklearn.metrics.mean_squared_error(y_true, y_pred))\n",
    "        print(f'RMSE: {rmse:.2f}')\n",
    "    except:\n",
    "        print('Valor 0 en el denominador')\n",
    "    try:\n",
    "        r2_score = math.sqrt(sklearn.metrics.r2_score(y_true, y_pred))\n",
    "        print(f'R2: {r2_score:.2f}')\n",
    "    except:\n",
    "        print('Valor 0 en el denominador')"
   ]
  },
  {
   "cell_type": "code",
   "execution_count": 132,
   "metadata": {},
   "outputs": [
    {
     "name": "stdout",
     "output_type": "stream",
     "text": [
      "RMSE: 0.36\n",
      "R2: 0.65\n"
     ]
    }
   ],
   "source": [
    "X = df[['age', 'gender', 'income', 'family_members']].to_numpy()\n",
    "y = df['insurance_benefits'].to_numpy()\n",
    "\n",
    "# Dividimos nuestro conjunto en prueba y entrenamiento\n",
    "X_train, X_test, y_train, y_test = train_test_split(X, y, test_size=0.3, random_state=42)\n",
    "\n",
    "lr = MyLinearRegression()\n",
    "\n",
    "lr.fit(X_train, y_train)\n",
    "\n",
    "\n",
    "y_test_pred = lr.predict(X_test)\n",
    "\n",
    "eval_regressor(y_test, y_test_pred)"
   ]
  },
  {
   "cell_type": "code",
   "execution_count": 133,
   "metadata": {},
   "outputs": [
    {
     "name": "stdout",
     "output_type": "stream",
     "text": [
      "[ 0.11918387 -0.01575267 -0.23215069  0.16161971]\n",
      "RMSE: 9543.14\n",
      "Valor 0 en el denominador\n"
     ]
    }
   ],
   "source": [
    "X = df[['age', 'gender', 'income', 'family_members']].to_numpy()\n",
    "y = df['insurance_benefits'].to_numpy()\n",
    "\n",
    "# Dividimos nuestro conjunto en prueba y entrenamiento\n",
    "X_train, X_test, y_train, y_test = train_test_split(X, y, test_size=0.3, random_state=42)\n",
    "\n",
    "# Generamos una matriz P para ofuscar\n",
    "rng = np.random.default_rng(seed=42)\n",
    "P = rng.random(size=(X.shape[1], X.shape[1]))\n",
    "\n",
    "# Ofuscamos X\n",
    "X_train = np.dot(X_train, P)\n",
    "\n",
    "lr = MyLinearRegression()\n",
    "\n",
    "# Pasamos P como parámetro ya que nos servirá para recuperar X\n",
    "lr.fit(X_train, y_train, P)\n",
    "print(lr.w)\n",
    "\n",
    "y_test_pred = lr.predict(X_test)\n",
    "\n",
    "eval_regressor(y_test, y_test_pred)"
   ]
  },
  {
   "cell_type": "markdown",
   "metadata": {},
   "source": [
    "# Conclusiones"
   ]
  },
  {
   "cell_type": "markdown",
   "metadata": {},
   "source": [
    "- El algoritmo de KNN funciona bastante bien para encontrar observaciones similares, además escalar los datos nos ayudrá a encontrar vecinos cercanos en base a otras características ya que iguale los pesos en distancias.\n",
    "\n",
    "\n",
    "- El algoritmo de KNN funcionó bastante bien al momento de predecir nuestro objetivo 'insurance_benefits_recived', el cual era un problema de clasificación. Y entregó mejores resultados para el conjunto de datos escalado.\n",
    "\n",
    "\n",
    "- La regresión lineal aplicada a la predicción de nuestros objetivo 'insurance_benefits' nos dió buenos resultados para RMSE y R2, lastimosamente para los datos escalados tuvimos un error de valor 0 en el denominador.\n",
    "\n",
    "\n",
    "- Ofuscar los datos es una herramiento muy útil para proteger información sensible, pero no funciona para realizar el modelo de regresión lineal ya que obtenemos métricas muy distintas.\n"
   ]
  },
  {
   "cell_type": "code",
   "execution_count": null,
   "metadata": {},
   "outputs": [],
   "source": []
  }
 ],
 "metadata": {
  "kernelspec": {
   "display_name": "Python 3",
   "language": "python",
   "name": "python3"
  },
  "language_info": {
   "codemirror_mode": {
    "name": "ipython",
    "version": 3
   },
   "file_extension": ".py",
   "mimetype": "text/x-python",
   "name": "python",
   "nbconvert_exporter": "python",
   "pygments_lexer": "ipython3",
   "version": "3.9.12"
  },
  "toc": {
   "base_numbering": 1,
   "nav_menu": {},
   "number_sections": true,
   "sideBar": true,
   "skip_h1_title": false,
   "title_cell": "Table of Contents",
   "title_sidebar": "Contents",
   "toc_cell": false,
   "toc_position": {},
   "toc_section_display": true,
   "toc_window_display": false
  }
 },
 "nbformat": 4,
 "nbformat_minor": 4
}

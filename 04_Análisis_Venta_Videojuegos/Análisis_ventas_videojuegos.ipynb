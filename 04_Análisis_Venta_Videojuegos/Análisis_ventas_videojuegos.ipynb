{
 "cells": [
  {
   "cell_type": "markdown",
   "metadata": {},
   "source": [
    "# Introducción"
   ]
  },
  {
   "cell_type": "markdown",
   "metadata": {},
   "source": [
    "La tienda online Ice que vende videojuegos por todo el mundo desea realizar un análisis en base a las ventas ralizadas históricamente ya que a partir del análisis desean proyectar la cantidad de ventas para los años siguientes en base a regiones, tipo de juegos, consolas de los juegos y géneros. Los datos proporcionados son desde 1985, los cuales deben ser debidamente depurados."
   ]
  },
  {
   "cell_type": "markdown",
   "metadata": {},
   "source": [
    "# Inicialización"
   ]
  },
  {
   "cell_type": "code",
   "execution_count": 1,
   "metadata": {},
   "outputs": [
    {
     "name": "stderr",
     "output_type": "stream",
     "text": [
      "C:\\Users\\Usuario\\anaconda3\\lib\\site-packages\\scipy\\__init__.py:146: UserWarning: A NumPy version >=1.16.5 and <1.23.0 is required for this version of SciPy (detected version 1.24.3\n",
      "  warnings.warn(f\"A NumPy version >={np_minversion} and <{np_maxversion}\"\n"
     ]
    }
   ],
   "source": [
    "# Importamos las librerías necesarias\n",
    "import pandas as pd\n",
    "import numpy as np\n",
    "from scipy import stats as st\n",
    "from scipy.stats import levene as lv\n",
    "import matplotlib.pyplot as plt"
   ]
  },
  {
   "cell_type": "markdown",
   "metadata": {},
   "source": [
    "# Carga de datos"
   ]
  },
  {
   "cell_type": "code",
   "execution_count": 2,
   "metadata": {},
   "outputs": [],
   "source": [
    "# Cargamos los datos\n",
    "try:\n",
    "    games_df = pd.read_csv(\"games.csv\")\n",
    "except:\n",
    "    games_df = pd.read_csv(\"/datasets/games.csv\")"
   ]
  },
  {
   "cell_type": "code",
   "execution_count": 3,
   "metadata": {},
   "outputs": [
    {
     "data": {
      "text/html": [
       "<div>\n",
       "<style scoped>\n",
       "    .dataframe tbody tr th:only-of-type {\n",
       "        vertical-align: middle;\n",
       "    }\n",
       "\n",
       "    .dataframe tbody tr th {\n",
       "        vertical-align: top;\n",
       "    }\n",
       "\n",
       "    .dataframe thead th {\n",
       "        text-align: right;\n",
       "    }\n",
       "</style>\n",
       "<table border=\"1\" class=\"dataframe\">\n",
       "  <thead>\n",
       "    <tr style=\"text-align: right;\">\n",
       "      <th></th>\n",
       "      <th>Name</th>\n",
       "      <th>Platform</th>\n",
       "      <th>Year_of_Release</th>\n",
       "      <th>Genre</th>\n",
       "      <th>NA_sales</th>\n",
       "      <th>EU_sales</th>\n",
       "      <th>JP_sales</th>\n",
       "      <th>Other_sales</th>\n",
       "      <th>Critic_Score</th>\n",
       "      <th>User_Score</th>\n",
       "      <th>Rating</th>\n",
       "    </tr>\n",
       "  </thead>\n",
       "  <tbody>\n",
       "    <tr>\n",
       "      <th>0</th>\n",
       "      <td>Wii Sports</td>\n",
       "      <td>Wii</td>\n",
       "      <td>2006.0</td>\n",
       "      <td>Sports</td>\n",
       "      <td>41.36</td>\n",
       "      <td>28.96</td>\n",
       "      <td>3.77</td>\n",
       "      <td>8.45</td>\n",
       "      <td>76.0</td>\n",
       "      <td>8</td>\n",
       "      <td>E</td>\n",
       "    </tr>\n",
       "    <tr>\n",
       "      <th>1</th>\n",
       "      <td>Super Mario Bros.</td>\n",
       "      <td>NES</td>\n",
       "      <td>1985.0</td>\n",
       "      <td>Platform</td>\n",
       "      <td>29.08</td>\n",
       "      <td>3.58</td>\n",
       "      <td>6.81</td>\n",
       "      <td>0.77</td>\n",
       "      <td>NaN</td>\n",
       "      <td>NaN</td>\n",
       "      <td>NaN</td>\n",
       "    </tr>\n",
       "    <tr>\n",
       "      <th>2</th>\n",
       "      <td>Mario Kart Wii</td>\n",
       "      <td>Wii</td>\n",
       "      <td>2008.0</td>\n",
       "      <td>Racing</td>\n",
       "      <td>15.68</td>\n",
       "      <td>12.76</td>\n",
       "      <td>3.79</td>\n",
       "      <td>3.29</td>\n",
       "      <td>82.0</td>\n",
       "      <td>8.3</td>\n",
       "      <td>E</td>\n",
       "    </tr>\n",
       "    <tr>\n",
       "      <th>3</th>\n",
       "      <td>Wii Sports Resort</td>\n",
       "      <td>Wii</td>\n",
       "      <td>2009.0</td>\n",
       "      <td>Sports</td>\n",
       "      <td>15.61</td>\n",
       "      <td>10.93</td>\n",
       "      <td>3.28</td>\n",
       "      <td>2.95</td>\n",
       "      <td>80.0</td>\n",
       "      <td>8</td>\n",
       "      <td>E</td>\n",
       "    </tr>\n",
       "    <tr>\n",
       "      <th>4</th>\n",
       "      <td>Pokemon Red/Pokemon Blue</td>\n",
       "      <td>GB</td>\n",
       "      <td>1996.0</td>\n",
       "      <td>Role-Playing</td>\n",
       "      <td>11.27</td>\n",
       "      <td>8.89</td>\n",
       "      <td>10.22</td>\n",
       "      <td>1.00</td>\n",
       "      <td>NaN</td>\n",
       "      <td>NaN</td>\n",
       "      <td>NaN</td>\n",
       "    </tr>\n",
       "    <tr>\n",
       "      <th>5</th>\n",
       "      <td>Tetris</td>\n",
       "      <td>GB</td>\n",
       "      <td>1989.0</td>\n",
       "      <td>Puzzle</td>\n",
       "      <td>23.20</td>\n",
       "      <td>2.26</td>\n",
       "      <td>4.22</td>\n",
       "      <td>0.58</td>\n",
       "      <td>NaN</td>\n",
       "      <td>NaN</td>\n",
       "      <td>NaN</td>\n",
       "    </tr>\n",
       "    <tr>\n",
       "      <th>6</th>\n",
       "      <td>New Super Mario Bros.</td>\n",
       "      <td>DS</td>\n",
       "      <td>2006.0</td>\n",
       "      <td>Platform</td>\n",
       "      <td>11.28</td>\n",
       "      <td>9.14</td>\n",
       "      <td>6.50</td>\n",
       "      <td>2.88</td>\n",
       "      <td>89.0</td>\n",
       "      <td>8.5</td>\n",
       "      <td>E</td>\n",
       "    </tr>\n",
       "    <tr>\n",
       "      <th>7</th>\n",
       "      <td>Wii Play</td>\n",
       "      <td>Wii</td>\n",
       "      <td>2006.0</td>\n",
       "      <td>Misc</td>\n",
       "      <td>13.96</td>\n",
       "      <td>9.18</td>\n",
       "      <td>2.93</td>\n",
       "      <td>2.84</td>\n",
       "      <td>58.0</td>\n",
       "      <td>6.6</td>\n",
       "      <td>E</td>\n",
       "    </tr>\n",
       "    <tr>\n",
       "      <th>8</th>\n",
       "      <td>New Super Mario Bros. Wii</td>\n",
       "      <td>Wii</td>\n",
       "      <td>2009.0</td>\n",
       "      <td>Platform</td>\n",
       "      <td>14.44</td>\n",
       "      <td>6.94</td>\n",
       "      <td>4.70</td>\n",
       "      <td>2.24</td>\n",
       "      <td>87.0</td>\n",
       "      <td>8.4</td>\n",
       "      <td>E</td>\n",
       "    </tr>\n",
       "    <tr>\n",
       "      <th>9</th>\n",
       "      <td>Duck Hunt</td>\n",
       "      <td>NES</td>\n",
       "      <td>1984.0</td>\n",
       "      <td>Shooter</td>\n",
       "      <td>26.93</td>\n",
       "      <td>0.63</td>\n",
       "      <td>0.28</td>\n",
       "      <td>0.47</td>\n",
       "      <td>NaN</td>\n",
       "      <td>NaN</td>\n",
       "      <td>NaN</td>\n",
       "    </tr>\n",
       "  </tbody>\n",
       "</table>\n",
       "</div>"
      ],
      "text/plain": [
       "                        Name Platform  Year_of_Release         Genre  \\\n",
       "0                 Wii Sports      Wii           2006.0        Sports   \n",
       "1          Super Mario Bros.      NES           1985.0      Platform   \n",
       "2             Mario Kart Wii      Wii           2008.0        Racing   \n",
       "3          Wii Sports Resort      Wii           2009.0        Sports   \n",
       "4   Pokemon Red/Pokemon Blue       GB           1996.0  Role-Playing   \n",
       "5                     Tetris       GB           1989.0        Puzzle   \n",
       "6      New Super Mario Bros.       DS           2006.0      Platform   \n",
       "7                   Wii Play      Wii           2006.0          Misc   \n",
       "8  New Super Mario Bros. Wii      Wii           2009.0      Platform   \n",
       "9                  Duck Hunt      NES           1984.0       Shooter   \n",
       "\n",
       "   NA_sales  EU_sales  JP_sales  Other_sales  Critic_Score User_Score Rating  \n",
       "0     41.36     28.96      3.77         8.45          76.0          8      E  \n",
       "1     29.08      3.58      6.81         0.77           NaN        NaN    NaN  \n",
       "2     15.68     12.76      3.79         3.29          82.0        8.3      E  \n",
       "3     15.61     10.93      3.28         2.95          80.0          8      E  \n",
       "4     11.27      8.89     10.22         1.00           NaN        NaN    NaN  \n",
       "5     23.20      2.26      4.22         0.58           NaN        NaN    NaN  \n",
       "6     11.28      9.14      6.50         2.88          89.0        8.5      E  \n",
       "7     13.96      9.18      2.93         2.84          58.0        6.6      E  \n",
       "8     14.44      6.94      4.70         2.24          87.0        8.4      E  \n",
       "9     26.93      0.63      0.28         0.47           NaN        NaN    NaN  "
      ]
     },
     "execution_count": 3,
     "metadata": {},
     "output_type": "execute_result"
    }
   ],
   "source": [
    "# Visualizamos los datos\n",
    "games_df.head(10)"
   ]
  },
  {
   "cell_type": "code",
   "execution_count": 4,
   "metadata": {},
   "outputs": [
    {
     "name": "stdout",
     "output_type": "stream",
     "text": [
      "<class 'pandas.core.frame.DataFrame'>\n",
      "RangeIndex: 16715 entries, 0 to 16714\n",
      "Data columns (total 11 columns):\n",
      " #   Column           Non-Null Count  Dtype  \n",
      "---  ------           --------------  -----  \n",
      " 0   Name             16713 non-null  object \n",
      " 1   Platform         16715 non-null  object \n",
      " 2   Year_of_Release  16446 non-null  float64\n",
      " 3   Genre            16713 non-null  object \n",
      " 4   NA_sales         16715 non-null  float64\n",
      " 5   EU_sales         16715 non-null  float64\n",
      " 6   JP_sales         16715 non-null  float64\n",
      " 7   Other_sales      16715 non-null  float64\n",
      " 8   Critic_Score     8137 non-null   float64\n",
      " 9   User_Score       10014 non-null  object \n",
      " 10  Rating           9949 non-null   object \n",
      "dtypes: float64(6), object(5)\n",
      "memory usage: 1.4+ MB\n"
     ]
    }
   ],
   "source": [
    "games_df.info()"
   ]
  },
  {
   "cell_type": "markdown",
   "metadata": {},
   "source": [
    "**Conclusiones:**\n",
    "\n",
    "Luego de observar un resumen los datos, se determina lo siguiente:\n",
    "\n",
    "- Existen valores ausentes para la variable 'name'.\n",
    "- Existen valores ausentes para la variable 'year_of_release'.\n",
    "- Existen valores ausentes para la variable 'genre'.\n",
    "- Existen valores ausentes para la variable 'critic score'.\n",
    "- Existen valores ausentes para la variable 'user_score'.\n",
    "- Existen valores ausentes para la variable 'rating'.\n",
    "- El tipo de dato de la variable user_score es object y debería ser float."
   ]
  },
  {
   "cell_type": "markdown",
   "metadata": {},
   "source": [
    "# Preparación de datos"
   ]
  },
  {
   "cell_type": "markdown",
   "metadata": {},
   "source": [
    "## Asignación de nombres a columnas"
   ]
  },
  {
   "cell_type": "code",
   "execution_count": 5,
   "metadata": {},
   "outputs": [
    {
     "data": {
      "text/plain": [
       "Index(['name', 'platform', 'year_of_release', 'genre', 'na_sales', 'eu_sales',\n",
       "       'jp_sales', 'other_sales', 'critic_score', 'user_score', 'rating'],\n",
       "      dtype='object')"
      ]
     },
     "execution_count": 5,
     "metadata": {},
     "output_type": "execute_result"
    }
   ],
   "source": [
    "# Convertimos los nombres de las columnas a minúsculas.\n",
    "games_df.columns = games_df.columns.str.lower()\n",
    "games_df.columns"
   ]
  },
  {
   "cell_type": "markdown",
   "metadata": {},
   "source": [
    "## Correción de tipos de datos"
   ]
  },
  {
   "cell_type": "markdown",
   "metadata": {},
   "source": [
    "La columna tiene valores 'TBD', ya que este valor no nos da una idea de la calificación de los usuarios, le asignaremos un valor nulo o ausernte (nan), una vez asignado este valor cambiamos el tipo de dato a float."
   ]
  },
  {
   "cell_type": "code",
   "execution_count": 6,
   "metadata": {},
   "outputs": [],
   "source": [
    "# Asignamos valor nan a las filas de 'user_score' con valor 'tbd'.\n",
    "games_df.loc[games_df['user_score'] == 'tbd', 'user_score'] = np.nan\n",
    "\n",
    "# Cambiamos el tipo de dato a float.\n",
    "games_df['user_score'] = games_df['user_score'].astype('float')"
   ]
  },
  {
   "cell_type": "code",
   "execution_count": 7,
   "metadata": {},
   "outputs": [
    {
     "name": "stdout",
     "output_type": "stream",
     "text": [
      "<class 'pandas.core.frame.DataFrame'>\n",
      "RangeIndex: 16715 entries, 0 to 16714\n",
      "Data columns (total 11 columns):\n",
      " #   Column           Non-Null Count  Dtype  \n",
      "---  ------           --------------  -----  \n",
      " 0   name             16713 non-null  object \n",
      " 1   platform         16715 non-null  object \n",
      " 2   year_of_release  16446 non-null  float64\n",
      " 3   genre            16713 non-null  object \n",
      " 4   na_sales         16715 non-null  float64\n",
      " 5   eu_sales         16715 non-null  float64\n",
      " 6   jp_sales         16715 non-null  float64\n",
      " 7   other_sales      16715 non-null  float64\n",
      " 8   critic_score     8137 non-null   float64\n",
      " 9   user_score       7590 non-null   float64\n",
      " 10  rating           9949 non-null   object \n",
      "dtypes: float64(7), object(4)\n",
      "memory usage: 1.4+ MB\n"
     ]
    }
   ],
   "source": [
    "games_df.info()"
   ]
  },
  {
   "cell_type": "markdown",
   "metadata": {},
   "source": [
    "## Tratamiento valores ausentes"
   ]
  },
  {
   "cell_type": "markdown",
   "metadata": {},
   "source": [
    "### Tratamiento para la columna 'name'"
   ]
  },
  {
   "cell_type": "code",
   "execution_count": 8,
   "metadata": {},
   "outputs": [
    {
     "name": "stdout",
     "output_type": "stream",
     "text": [
      "La cantidad de valores ausentes para la columna \"name\" es 0.01%\n"
     ]
    }
   ],
   "source": [
    "# Contamos el % de valores nulos de esta variable\n",
    "name_nan_count = games_df[games_df['name'].isna()].shape[0]\n",
    "print(f'La cantidad de valores ausentes para la columna \"name\" es {(name_nan_count/games_df.shape[0])*100:.2f}%')"
   ]
  },
  {
   "cell_type": "markdown",
   "metadata": {},
   "source": [
    "Ya que el porcentaje de valores ausentes para esta columna es del 0.01% eliminaremos estas filas."
   ]
  },
  {
   "cell_type": "code",
   "execution_count": 9,
   "metadata": {},
   "outputs": [
    {
     "data": {
      "text/plain": [
       "0"
      ]
     },
     "execution_count": 9,
     "metadata": {},
     "output_type": "execute_result"
    }
   ],
   "source": [
    "#Eliminamos las filas con volor ausente en la variable 'name'.\n",
    "\n",
    "games_df = games_df.dropna(subset= ['name']).reset_index(drop= True)\n",
    "games_df[games_df['name'].isna()].shape[0]"
   ]
  },
  {
   "cell_type": "markdown",
   "metadata": {},
   "source": [
    "### Tratamiento para la columna 'year_of_release'"
   ]
  },
  {
   "cell_type": "code",
   "execution_count": 10,
   "metadata": {},
   "outputs": [
    {
     "name": "stdout",
     "output_type": "stream",
     "text": [
      "La cantidad de valores ausentes para la columna \"year_of_ralease\" es 1.61%\n"
     ]
    }
   ],
   "source": [
    "# Contamos el % de valores nulos de esta variable\n",
    "year_release_nan_count = games_df[games_df['year_of_release'].isna()].shape[0]\n",
    "print(f'La cantidad de valores ausentes para la columna \"year_of_ralease\" es {(year_release_nan_count/games_df.shape[0])*100:.2f}%')"
   ]
  },
  {
   "cell_type": "markdown",
   "metadata": {},
   "source": [
    "Ya que el porcentaje de valores ausentes para esta columna es del 1.61% eliminaremos estas filas."
   ]
  },
  {
   "cell_type": "code",
   "execution_count": 11,
   "metadata": {},
   "outputs": [
    {
     "data": {
      "text/plain": [
       "0"
      ]
     },
     "execution_count": 11,
     "metadata": {},
     "output_type": "execute_result"
    }
   ],
   "source": [
    "games_df = games_df.dropna(subset= ['year_of_release']).reset_index(drop= True)\n",
    "games_df[games_df['year_of_release'].isna()].shape[0]"
   ]
  },
  {
   "cell_type": "markdown",
   "metadata": {},
   "source": [
    "### Tratamiento para la columna 'genre'"
   ]
  },
  {
   "cell_type": "code",
   "execution_count": 12,
   "metadata": {},
   "outputs": [
    {
     "name": "stdout",
     "output_type": "stream",
     "text": [
      "La cantidad de valores ausentes para la columna \"year_of_ralease\" es 0.00%\n"
     ]
    }
   ],
   "source": [
    "# Contamos el % de valores nulos de esta variable\n",
    "year_release_nan_count = games_df[games_df['year_of_release'].isna()].shape[0]\n",
    "print(f'La cantidad de valores ausentes para la columna \"year_of_ralease\" es {(year_release_nan_count/games_df.shape[0])*100:.2f}%')"
   ]
  },
  {
   "cell_type": "markdown",
   "metadata": {},
   "source": [
    "### Tratamiento para la columna 'critic_score' y 'user_score'"
   ]
  },
  {
   "cell_type": "markdown",
   "metadata": {},
   "source": [
    "La columna tiene valores 'TBD', ya que este valor no nos da una idea de la calificación de los usuarios, le asignaremos un valor nulo o ausernte (nan)"
   ]
  },
  {
   "cell_type": "code",
   "execution_count": 13,
   "metadata": {},
   "outputs": [],
   "source": [
    "#Asignamos valor nan a las filas de 'user_score' con valor 'tbd'.\n",
    "games_df.loc[games_df['user_score'] == 'tbd', 'user_score'] = np.nan"
   ]
  },
  {
   "cell_type": "code",
   "execution_count": 14,
   "metadata": {},
   "outputs": [
    {
     "data": {
      "text/plain": [
       "count    7983.000000\n",
       "mean       68.994363\n",
       "std        13.920060\n",
       "min        13.000000\n",
       "25%        60.000000\n",
       "50%        71.000000\n",
       "75%        79.000000\n",
       "max        98.000000\n",
       "Name: critic_score, dtype: float64"
      ]
     },
     "execution_count": 14,
     "metadata": {},
     "output_type": "execute_result"
    }
   ],
   "source": [
    "games_df['critic_score'].describe()"
   ]
  },
  {
   "cell_type": "code",
   "execution_count": 15,
   "metadata": {},
   "outputs": [
    {
     "data": {
      "text/plain": [
       "count    7463.000000\n",
       "mean        7.126330\n",
       "std         1.499447\n",
       "min         0.000000\n",
       "25%         6.400000\n",
       "50%         7.500000\n",
       "75%         8.200000\n",
       "max         9.700000\n",
       "Name: user_score, dtype: float64"
      ]
     },
     "execution_count": 15,
     "metadata": {},
     "output_type": "execute_result"
    }
   ],
   "source": [
    "games_df['user_score'].describe()"
   ]
  },
  {
   "cell_type": "markdown",
   "metadata": {},
   "source": [
    "Una vez aplicado el método 'describe()' a ambas columnas, descubrimos que tenemos un comportamiento casi idéntico en sus medidas de disperción y su desviación standard. La diferencia es que la calificación de los usuarios es del 0 al 10 y la de la crítica es del 0 al 100. \n",
    "\n",
    "Dada esta similitud se reemplazará los valores ausentes del user_score con los valores del critic_socore y viceversa."
   ]
  },
  {
   "cell_type": "code",
   "execution_count": 16,
   "metadata": {},
   "outputs": [
    {
     "data": {
      "text/plain": [
       "8981"
      ]
     },
     "execution_count": 16,
     "metadata": {},
     "output_type": "execute_result"
    }
   ],
   "source": [
    "games_df['user_score'].isna().sum()"
   ]
  },
  {
   "cell_type": "code",
   "execution_count": 17,
   "metadata": {},
   "outputs": [],
   "source": [
    "# Reemplazamos los valores ausentes de 'user_score' con los valores de 'critic_score'.\n",
    "games_df.loc[(games_df['user_score'].isna()) & (games_df['critic_score'].notnull()), 'user_score'] = games_df[(games_df['user_score'].isna()) & (games_df['critic_score'].notnull())]['critic_score']/10\n"
   ]
  },
  {
   "cell_type": "code",
   "execution_count": 18,
   "metadata": {},
   "outputs": [
    {
     "data": {
      "text/plain": [
       "7892"
      ]
     },
     "execution_count": 18,
     "metadata": {},
     "output_type": "execute_result"
    }
   ],
   "source": [
    "games_df['user_score'].isna().sum()"
   ]
  },
  {
   "cell_type": "code",
   "execution_count": 19,
   "metadata": {},
   "outputs": [
    {
     "data": {
      "text/plain": [
       "8461"
      ]
     },
     "execution_count": 19,
     "metadata": {},
     "output_type": "execute_result"
    }
   ],
   "source": [
    "games_df['critic_score'].isna().sum()"
   ]
  },
  {
   "cell_type": "code",
   "execution_count": 20,
   "metadata": {},
   "outputs": [],
   "source": [
    "# Reemplazamos los valores ausentes de 'critic_score' con los valores de 'user_score'.\n",
    "games_df.loc[(games_df['critic_score'].isna()) & (games_df['user_score'].notnull()), 'critic_score'] = games_df[(games_df['critic_score'].isna()) & (games_df['user_score'].notnull())]['user_score']*10\n"
   ]
  },
  {
   "cell_type": "code",
   "execution_count": 21,
   "metadata": {},
   "outputs": [
    {
     "data": {
      "text/plain": [
       "7892"
      ]
     },
     "execution_count": 21,
     "metadata": {},
     "output_type": "execute_result"
    }
   ],
   "source": [
    "games_df['critic_score'].isna().sum()"
   ]
  },
  {
   "cell_type": "markdown",
   "metadata": {},
   "source": [
    "Hemos reemplazado en lo posible los valores ausentes de las variables 'user_score' y 'critic_score', para los valores ausentes sobrantes se utilizará la media o la mediana de los datos agrupados por el género."
   ]
  },
  {
   "cell_type": "code",
   "execution_count": 22,
   "metadata": {},
   "outputs": [
    {
     "data": {
      "text/html": [
       "<div>\n",
       "<style scoped>\n",
       "    .dataframe tbody tr th:only-of-type {\n",
       "        vertical-align: middle;\n",
       "    }\n",
       "\n",
       "    .dataframe tbody tr th {\n",
       "        vertical-align: top;\n",
       "    }\n",
       "\n",
       "    .dataframe thead tr th {\n",
       "        text-align: left;\n",
       "    }\n",
       "\n",
       "    .dataframe thead tr:last-of-type th {\n",
       "        text-align: right;\n",
       "    }\n",
       "</style>\n",
       "<table border=\"1\" class=\"dataframe\">\n",
       "  <thead>\n",
       "    <tr>\n",
       "      <th></th>\n",
       "      <th colspan=\"2\" halign=\"left\">mean</th>\n",
       "      <th colspan=\"2\" halign=\"left\">median</th>\n",
       "    </tr>\n",
       "    <tr>\n",
       "      <th></th>\n",
       "      <th>critic_score</th>\n",
       "      <th>user_score</th>\n",
       "      <th>critic_score</th>\n",
       "      <th>user_score</th>\n",
       "    </tr>\n",
       "    <tr>\n",
       "      <th>genre</th>\n",
       "      <th></th>\n",
       "      <th></th>\n",
       "      <th></th>\n",
       "      <th></th>\n",
       "    </tr>\n",
       "  </thead>\n",
       "  <tbody>\n",
       "    <tr>\n",
       "      <th>Action</th>\n",
       "      <td>66.634049</td>\n",
       "      <td>6.922566</td>\n",
       "      <td>68.0</td>\n",
       "      <td>7.20</td>\n",
       "    </tr>\n",
       "    <tr>\n",
       "      <th>Adventure</th>\n",
       "      <td>65.477401</td>\n",
       "      <td>6.951977</td>\n",
       "      <td>67.0</td>\n",
       "      <td>7.40</td>\n",
       "    </tr>\n",
       "    <tr>\n",
       "      <th>Fighting</th>\n",
       "      <td>69.244656</td>\n",
       "      <td>7.223990</td>\n",
       "      <td>72.0</td>\n",
       "      <td>7.50</td>\n",
       "    </tr>\n",
       "    <tr>\n",
       "      <th>Misc</th>\n",
       "      <td>66.516304</td>\n",
       "      <td>6.720833</td>\n",
       "      <td>69.0</td>\n",
       "      <td>6.95</td>\n",
       "    </tr>\n",
       "    <tr>\n",
       "      <th>Platform</th>\n",
       "      <td>67.765166</td>\n",
       "      <td>7.073973</td>\n",
       "      <td>69.0</td>\n",
       "      <td>7.30</td>\n",
       "    </tr>\n",
       "    <tr>\n",
       "      <th>Puzzle</th>\n",
       "      <td>66.775330</td>\n",
       "      <td>6.771806</td>\n",
       "      <td>70.0</td>\n",
       "      <td>7.00</td>\n",
       "    </tr>\n",
       "    <tr>\n",
       "      <th>Racing</th>\n",
       "      <td>67.608073</td>\n",
       "      <td>6.874219</td>\n",
       "      <td>69.0</td>\n",
       "      <td>7.10</td>\n",
       "    </tr>\n",
       "    <tr>\n",
       "      <th>Role-Playing</th>\n",
       "      <td>72.792829</td>\n",
       "      <td>7.600797</td>\n",
       "      <td>74.0</td>\n",
       "      <td>7.80</td>\n",
       "    </tr>\n",
       "    <tr>\n",
       "      <th>Shooter</th>\n",
       "      <td>69.944792</td>\n",
       "      <td>6.987604</td>\n",
       "      <td>73.0</td>\n",
       "      <td>7.40</td>\n",
       "    </tr>\n",
       "    <tr>\n",
       "      <th>Simulation</th>\n",
       "      <td>68.402597</td>\n",
       "      <td>6.991948</td>\n",
       "      <td>70.0</td>\n",
       "      <td>7.30</td>\n",
       "    </tr>\n",
       "    <tr>\n",
       "      <th>Sports</th>\n",
       "      <td>70.668726</td>\n",
       "      <td>6.839846</td>\n",
       "      <td>74.0</td>\n",
       "      <td>7.10</td>\n",
       "    </tr>\n",
       "    <tr>\n",
       "      <th>Strategy</th>\n",
       "      <td>72.114551</td>\n",
       "      <td>7.230031</td>\n",
       "      <td>74.0</td>\n",
       "      <td>7.70</td>\n",
       "    </tr>\n",
       "  </tbody>\n",
       "</table>\n",
       "</div>"
      ],
      "text/plain": [
       "                     mean                  median           \n",
       "             critic_score user_score critic_score user_score\n",
       "genre                                                       \n",
       "Action          66.634049   6.922566         68.0       7.20\n",
       "Adventure       65.477401   6.951977         67.0       7.40\n",
       "Fighting        69.244656   7.223990         72.0       7.50\n",
       "Misc            66.516304   6.720833         69.0       6.95\n",
       "Platform        67.765166   7.073973         69.0       7.30\n",
       "Puzzle          66.775330   6.771806         70.0       7.00\n",
       "Racing          67.608073   6.874219         69.0       7.10\n",
       "Role-Playing    72.792829   7.600797         74.0       7.80\n",
       "Shooter         69.944792   6.987604         73.0       7.40\n",
       "Simulation      68.402597   6.991948         70.0       7.30\n",
       "Sports          70.668726   6.839846         74.0       7.10\n",
       "Strategy        72.114551   7.230031         74.0       7.70"
      ]
     },
     "execution_count": 22,
     "metadata": {},
     "output_type": "execute_result"
    }
   ],
   "source": [
    "#Visualizamos la media y mediana de las calificaciones de usuario y crítica.\n",
    "(games_df\n",
    "         .query('user_score.notnull() and critic_score.notnull()')\n",
    "         .pivot_table(index= 'genre', values=['critic_score', 'user_score'], aggfunc= ['mean','median']))"
   ]
  },
  {
   "cell_type": "markdown",
   "metadata": {},
   "source": [
    "Una vez visualizado las medianas y medias, se identificó que son muy similares esto nos indica que no existen valores que influyen sobre la media, por lo tanto se usará esta para el cálculo."
   ]
  },
  {
   "cell_type": "markdown",
   "metadata": {},
   "source": [
    "Ya que para la columna 'user_score' y 'critic_score' los valores ausentes son alrededor del 50%, los reemplazaremos con nan."
   ]
  },
  {
   "cell_type": "code",
   "execution_count": 23,
   "metadata": {},
   "outputs": [
    {
     "name": "stdout",
     "output_type": "stream",
     "text": [
      "<class 'pandas.core.frame.DataFrame'>\n",
      "RangeIndex: 16444 entries, 0 to 16443\n",
      "Data columns (total 11 columns):\n",
      " #   Column           Non-Null Count  Dtype  \n",
      "---  ------           --------------  -----  \n",
      " 0   name             16444 non-null  object \n",
      " 1   platform         16444 non-null  object \n",
      " 2   year_of_release  16444 non-null  float64\n",
      " 3   genre            16444 non-null  object \n",
      " 4   na_sales         16444 non-null  float64\n",
      " 5   eu_sales         16444 non-null  float64\n",
      " 6   jp_sales         16444 non-null  float64\n",
      " 7   other_sales      16444 non-null  float64\n",
      " 8   critic_score     8552 non-null   float64\n",
      " 9   user_score       8552 non-null   float64\n",
      " 10  rating           9768 non-null   object \n",
      "dtypes: float64(7), object(4)\n",
      "memory usage: 1.4+ MB\n"
     ]
    }
   ],
   "source": [
    "# Reemplazamos los valores nulos de las variables 'user_score' y 'critic_score'.\n",
    "games_df['critic_score'] = games_df['critic_score'].fillna(np.nan)\n",
    "games_df['user_score'] = games_df['user_score'].fillna(np.nan)\n",
    "\n",
    "\n",
    "games_df.info()"
   ]
  },
  {
   "cell_type": "markdown",
   "metadata": {},
   "source": [
    "### Tratamiento para la columna 'rating'"
   ]
  },
  {
   "cell_type": "code",
   "execution_count": 24,
   "metadata": {},
   "outputs": [],
   "source": [
    "#Definimos una función para reemplazar los datos ausentes según la columna elegida por la moda.\n",
    "def fillna_by_other_column(df, target_column, column_to_replace):\n",
    "    grouped = df.groupby(column_to_replace).agg({target_column: [pd.Series.mode]})\n",
    "    \n",
    "    for index in grouped.index:\n",
    "        df.loc[df[target_column].isna() & (df[column_to_replace] == index),  target_column] = grouped.loc[index,(target_column, 'mode')]\n",
    "        \n",
    "    return df"
   ]
  },
  {
   "cell_type": "code",
   "execution_count": 25,
   "metadata": {},
   "outputs": [],
   "source": [
    "games_df = fillna_by_other_column(games_df, 'rating', 'genre')"
   ]
  },
  {
   "cell_type": "code",
   "execution_count": 26,
   "metadata": {},
   "outputs": [
    {
     "name": "stdout",
     "output_type": "stream",
     "text": [
      "<class 'pandas.core.frame.DataFrame'>\n",
      "RangeIndex: 16444 entries, 0 to 16443\n",
      "Data columns (total 11 columns):\n",
      " #   Column           Non-Null Count  Dtype  \n",
      "---  ------           --------------  -----  \n",
      " 0   name             16444 non-null  object \n",
      " 1   platform         16444 non-null  object \n",
      " 2   year_of_release  16444 non-null  float64\n",
      " 3   genre            16444 non-null  object \n",
      " 4   na_sales         16444 non-null  float64\n",
      " 5   eu_sales         16444 non-null  float64\n",
      " 6   jp_sales         16444 non-null  float64\n",
      " 7   other_sales      16444 non-null  float64\n",
      " 8   critic_score     8552 non-null   float64\n",
      " 9   user_score       8552 non-null   float64\n",
      " 10  rating           16444 non-null  object \n",
      "dtypes: float64(7), object(4)\n",
      "memory usage: 1.4+ MB\n"
     ]
    }
   ],
   "source": [
    "# Visualizamos el conjunto de datos y verificamos que los valores se hayan insertado correctamente.\n",
    "games_df.info()"
   ]
  },
  {
   "cell_type": "markdown",
   "metadata": {},
   "source": [
    "## Aumento de columnas"
   ]
  },
  {
   "cell_type": "code",
   "execution_count": 27,
   "metadata": {},
   "outputs": [
    {
     "data": {
      "text/html": [
       "<div>\n",
       "<style scoped>\n",
       "    .dataframe tbody tr th:only-of-type {\n",
       "        vertical-align: middle;\n",
       "    }\n",
       "\n",
       "    .dataframe tbody tr th {\n",
       "        vertical-align: top;\n",
       "    }\n",
       "\n",
       "    .dataframe thead th {\n",
       "        text-align: right;\n",
       "    }\n",
       "</style>\n",
       "<table border=\"1\" class=\"dataframe\">\n",
       "  <thead>\n",
       "    <tr style=\"text-align: right;\">\n",
       "      <th></th>\n",
       "      <th>name</th>\n",
       "      <th>platform</th>\n",
       "      <th>year_of_release</th>\n",
       "      <th>genre</th>\n",
       "      <th>na_sales</th>\n",
       "      <th>eu_sales</th>\n",
       "      <th>jp_sales</th>\n",
       "      <th>other_sales</th>\n",
       "      <th>critic_score</th>\n",
       "      <th>user_score</th>\n",
       "      <th>rating</th>\n",
       "      <th>total_sales</th>\n",
       "    </tr>\n",
       "  </thead>\n",
       "  <tbody>\n",
       "    <tr>\n",
       "      <th>0</th>\n",
       "      <td>Wii Sports</td>\n",
       "      <td>Wii</td>\n",
       "      <td>2006.0</td>\n",
       "      <td>Sports</td>\n",
       "      <td>41.36</td>\n",
       "      <td>28.96</td>\n",
       "      <td>3.77</td>\n",
       "      <td>8.45</td>\n",
       "      <td>76.0</td>\n",
       "      <td>8.0</td>\n",
       "      <td>E</td>\n",
       "      <td>74.09</td>\n",
       "    </tr>\n",
       "    <tr>\n",
       "      <th>1</th>\n",
       "      <td>Super Mario Bros.</td>\n",
       "      <td>NES</td>\n",
       "      <td>1985.0</td>\n",
       "      <td>Platform</td>\n",
       "      <td>29.08</td>\n",
       "      <td>3.58</td>\n",
       "      <td>6.81</td>\n",
       "      <td>0.77</td>\n",
       "      <td>NaN</td>\n",
       "      <td>NaN</td>\n",
       "      <td>E</td>\n",
       "      <td>39.47</td>\n",
       "    </tr>\n",
       "    <tr>\n",
       "      <th>2</th>\n",
       "      <td>Mario Kart Wii</td>\n",
       "      <td>Wii</td>\n",
       "      <td>2008.0</td>\n",
       "      <td>Racing</td>\n",
       "      <td>15.68</td>\n",
       "      <td>12.76</td>\n",
       "      <td>3.79</td>\n",
       "      <td>3.29</td>\n",
       "      <td>82.0</td>\n",
       "      <td>8.3</td>\n",
       "      <td>E</td>\n",
       "      <td>32.23</td>\n",
       "    </tr>\n",
       "    <tr>\n",
       "      <th>3</th>\n",
       "      <td>Wii Sports Resort</td>\n",
       "      <td>Wii</td>\n",
       "      <td>2009.0</td>\n",
       "      <td>Sports</td>\n",
       "      <td>15.61</td>\n",
       "      <td>10.93</td>\n",
       "      <td>3.28</td>\n",
       "      <td>2.95</td>\n",
       "      <td>80.0</td>\n",
       "      <td>8.0</td>\n",
       "      <td>E</td>\n",
       "      <td>29.82</td>\n",
       "    </tr>\n",
       "    <tr>\n",
       "      <th>4</th>\n",
       "      <td>Pokemon Red/Pokemon Blue</td>\n",
       "      <td>GB</td>\n",
       "      <td>1996.0</td>\n",
       "      <td>Role-Playing</td>\n",
       "      <td>11.27</td>\n",
       "      <td>8.89</td>\n",
       "      <td>10.22</td>\n",
       "      <td>1.00</td>\n",
       "      <td>NaN</td>\n",
       "      <td>NaN</td>\n",
       "      <td>T</td>\n",
       "      <td>30.38</td>\n",
       "    </tr>\n",
       "  </tbody>\n",
       "</table>\n",
       "</div>"
      ],
      "text/plain": [
       "                       name platform  year_of_release         genre  na_sales  \\\n",
       "0                Wii Sports      Wii           2006.0        Sports     41.36   \n",
       "1         Super Mario Bros.      NES           1985.0      Platform     29.08   \n",
       "2            Mario Kart Wii      Wii           2008.0        Racing     15.68   \n",
       "3         Wii Sports Resort      Wii           2009.0        Sports     15.61   \n",
       "4  Pokemon Red/Pokemon Blue       GB           1996.0  Role-Playing     11.27   \n",
       "\n",
       "   eu_sales  jp_sales  other_sales  critic_score  user_score rating  \\\n",
       "0     28.96      3.77         8.45          76.0         8.0      E   \n",
       "1      3.58      6.81         0.77           NaN         NaN      E   \n",
       "2     12.76      3.79         3.29          82.0         8.3      E   \n",
       "3     10.93      3.28         2.95          80.0         8.0      E   \n",
       "4      8.89     10.22         1.00           NaN         NaN      T   \n",
       "\n",
       "   total_sales  \n",
       "0        74.09  \n",
       "1        39.47  \n",
       "2        32.23  \n",
       "3        29.82  \n",
       "4        30.38  "
      ]
     },
     "execution_count": 27,
     "metadata": {},
     "output_type": "execute_result"
    }
   ],
   "source": [
    "# Aumentamos la columna total en ventas, la cual representa la sumatoria de las ventas de las tres regiones para cada juego.\n",
    "games_df['total_sales'] = games_df['na_sales']  + games_df['eu_sales'] + games_df['jp_sales']\n",
    "games_df.head()"
   ]
  },
  {
   "cell_type": "markdown",
   "metadata": {},
   "source": [
    "# Análisis de datos"
   ]
  },
  {
   "cell_type": "markdown",
   "metadata": {},
   "source": [
    "## Visualización de cantidad de juegos lanzados por año."
   ]
  },
  {
   "cell_type": "code",
   "execution_count": 28,
   "metadata": {},
   "outputs": [
    {
     "data": {
      "image/png": "[encoded data removed]",
      "text/plain": [
       "<Figure size 1152x648 with 1 Axes>"
      ]
     },
     "metadata": {
      "needs_background": "light"
     },
     "output_type": "display_data"
    }
   ],
   "source": [
    "# Generamos un gráfico de barras para visualizar el número de juegos lanzado por año.\n",
    "(games_df\n",
    "        .pivot_table(index= 'year_of_release', values= 'name',  aggfunc= 'count')\n",
    "        .plot(kind= 'bar', grid= True, figsize= (16, 9)))\n",
    "\n",
    "plt.title('Juegos lanzados por año')\n",
    "plt.show()"
   ]
  },
  {
   "cell_type": "markdown",
   "metadata": {},
   "source": [
    "**Conclusiones:**\n",
    "    \n",
    "- En este gráfico podemos observar la cantidad de juegos por año, y se puede evidenciar como los juegos lanzados aumenta drásticamente a partir 1995.\n",
    "\n",
    "- También se puede observar como las ventas de videojuegos disminuye a partir del año 2012."
   ]
  },
  {
   "cell_type": "markdown",
   "metadata": {},
   "source": [
    "## Análisis de ventas por plataformas histórico"
   ]
  },
  {
   "cell_type": "code",
   "execution_count": 29,
   "metadata": {},
   "outputs": [
    {
     "data": {
      "image/png": "[encoded data removed]",
      "text/plain": [
       "<Figure size 1152x648 with 1 Axes>"
      ]
     },
     "metadata": {
      "needs_background": "light"
     },
     "output_type": "display_data"
    }
   ],
   "source": [
    "#Visualizamos las plataformas con mas ventas.\n",
    "(games_df\n",
    "        .pivot_table(index= 'platform', values= 'total_sales')\n",
    "        .sort_values(by= 'total_sales')\n",
    "        .plot(kind= 'bar', grid= True, figsize= (16, 9), title= 'VENTAS TOTALES POR PLATAFORMAS'))\n",
    "plt.show()"
   ]
  },
  {
   "cell_type": "markdown",
   "metadata": {},
   "source": [
    "Generamos histogramas de las ventas de las plataformas con mas ventas para observar el periodo de vigencia y sus picos de ventas."
   ]
  },
  {
   "cell_type": "code",
   "execution_count": 30,
   "metadata": {},
   "outputs": [
    {
     "data": {
      "image/png": "[encoded data removed]",
      "text/plain": [
       "<Figure size 1152x360 with 1 Axes>"
      ]
     },
     "metadata": {
      "needs_background": "light"
     },
     "output_type": "display_data"
    },
    {
     "data": {
      "image/png": "[encoded data removed]",
      "text/plain": [
       "<Figure size 1152x360 with 1 Axes>"
      ]
     },
     "metadata": {
      "needs_background": "light"
     },
     "output_type": "display_data"
    },
    {
     "data": {
      "image/png": "[encoded data removed]",
      "text/plain": [
       "<Figure size 1152x360 with 1 Axes>"
      ]
     },
     "metadata": {
      "needs_background": "light"
     },
     "output_type": "display_data"
    },
    {
     "data": {
      "image/png": "[encoded data removed]",
      "text/plain": [
       "<Figure size 1152x360 with 1 Axes>"
      ]
     },
     "metadata": {
      "needs_background": "light"
     },
     "output_type": "display_data"
    },
    {
     "data": {
      "image/png": "[encoded data removed]",
      "text/plain": [
       "<Figure size 1152x360 with 1 Axes>"
      ]
     },
     "metadata": {
      "needs_background": "light"
     },
     "output_type": "display_data"
    },
    {
     "data": {
      "image/png": "[encoded data removed]",
      "text/plain": [
       "<Figure size 1152x360 with 1 Axes>"
      ]
     },
     "metadata": {
      "needs_background": "light"
     },
     "output_type": "display_data"
    }
   ],
   "source": [
    "# Generamos histogramas de las plataformas con mas ventas.\n",
    "platforms =list(games_df\n",
    "        .pivot_table(index= 'platform', values= 'total_sales')\n",
    "        .sort_values(by= 'total_sales', ascending= False)\n",
    "        .reset_index()\n",
    "        .loc[:5,'platform'])\n",
    "\n",
    "for plat in platforms:\n",
    "    \n",
    "    (games_df\n",
    "        .query('platform == @plat')\n",
    "        .hist('year_of_release', bins= 10, grid= True, figsize= (16, 5)))\n",
    "    plt.title(f'VENTAS TOTALES POR AÑO DE LA PLATAFORMA {plat}')"
   ]
  },
  {
   "cell_type": "markdown",
   "metadata": {},
   "source": [
    "**Conclusiones:**\n",
    "\n",
    "- Una vez visualizado las ventas de juegos por año de las 5 plataformas con mayores ventas, podemos llegar a la conclusión de que se mantienen vigentes durante 10 años a excepción del Play Statio 4 (PS4).\n",
    "\n",
    "\n",
    "- El periodo de vigencia de estas plataformas es de 10 años, sin embargo el pico de ventas para cada plataforma es diferente, por ejemplo para 'GB' el pico de ventas es en su último año, para 'NES' el pico es en su primer año, para 'SNES' y 'X360' el pico es en la mitad de su periodo vigente."
   ]
  },
  {
   "cell_type": "markdown",
   "metadata": {},
   "source": [
    "## Análisis de ventas por plataformas de años significativos"
   ]
  },
  {
   "cell_type": "markdown",
   "metadata": {},
   "source": [
    "Para este análisis tomaremos en cuenta los lanzamientos desde 2012, ya que el total de ventas generadas previo a este año no son sinnificativas, además si queremos realizar una proyección para el 2017, nos servirá de muy poco tomar en cuenta datos muy antiguos ya que la cantidad de fabricantes es mucho mayor en la actualidad."
   ]
  },
  {
   "cell_type": "code",
   "execution_count": 31,
   "metadata": {},
   "outputs": [
    {
     "data": {
      "text/html": [
       "<div>\n",
       "<style scoped>\n",
       "    .dataframe tbody tr th:only-of-type {\n",
       "        vertical-align: middle;\n",
       "    }\n",
       "\n",
       "    .dataframe tbody tr th {\n",
       "        vertical-align: top;\n",
       "    }\n",
       "\n",
       "    .dataframe thead th {\n",
       "        text-align: right;\n",
       "    }\n",
       "</style>\n",
       "<table border=\"1\" class=\"dataframe\">\n",
       "  <thead>\n",
       "    <tr style=\"text-align: right;\">\n",
       "      <th></th>\n",
       "      <th>name</th>\n",
       "      <th>platform</th>\n",
       "      <th>year_of_release</th>\n",
       "      <th>genre</th>\n",
       "      <th>na_sales</th>\n",
       "      <th>eu_sales</th>\n",
       "      <th>jp_sales</th>\n",
       "      <th>other_sales</th>\n",
       "      <th>critic_score</th>\n",
       "      <th>user_score</th>\n",
       "      <th>rating</th>\n",
       "      <th>total_sales</th>\n",
       "    </tr>\n",
       "  </thead>\n",
       "  <tbody>\n",
       "    <tr>\n",
       "      <th>16</th>\n",
       "      <td>Grand Theft Auto V</td>\n",
       "      <td>PS3</td>\n",
       "      <td>2013.0</td>\n",
       "      <td>Action</td>\n",
       "      <td>7.02</td>\n",
       "      <td>9.09</td>\n",
       "      <td>0.98</td>\n",
       "      <td>3.96</td>\n",
       "      <td>97.0</td>\n",
       "      <td>8.2</td>\n",
       "      <td>M</td>\n",
       "      <td>17.09</td>\n",
       "    </tr>\n",
       "    <tr>\n",
       "      <th>23</th>\n",
       "      <td>Grand Theft Auto V</td>\n",
       "      <td>X360</td>\n",
       "      <td>2013.0</td>\n",
       "      <td>Action</td>\n",
       "      <td>9.66</td>\n",
       "      <td>5.14</td>\n",
       "      <td>0.06</td>\n",
       "      <td>1.41</td>\n",
       "      <td>97.0</td>\n",
       "      <td>8.1</td>\n",
       "      <td>M</td>\n",
       "      <td>14.86</td>\n",
       "    </tr>\n",
       "    <tr>\n",
       "      <th>31</th>\n",
       "      <td>Call of Duty: Black Ops 3</td>\n",
       "      <td>PS4</td>\n",
       "      <td>2015.0</td>\n",
       "      <td>Shooter</td>\n",
       "      <td>6.03</td>\n",
       "      <td>5.86</td>\n",
       "      <td>0.36</td>\n",
       "      <td>2.38</td>\n",
       "      <td>NaN</td>\n",
       "      <td>NaN</td>\n",
       "      <td>M</td>\n",
       "      <td>12.25</td>\n",
       "    </tr>\n",
       "    <tr>\n",
       "      <th>33</th>\n",
       "      <td>Pokemon X/Pokemon Y</td>\n",
       "      <td>3DS</td>\n",
       "      <td>2013.0</td>\n",
       "      <td>Role-Playing</td>\n",
       "      <td>5.28</td>\n",
       "      <td>4.19</td>\n",
       "      <td>4.35</td>\n",
       "      <td>0.78</td>\n",
       "      <td>NaN</td>\n",
       "      <td>NaN</td>\n",
       "      <td>T</td>\n",
       "      <td>13.82</td>\n",
       "    </tr>\n",
       "    <tr>\n",
       "      <th>34</th>\n",
       "      <td>Call of Duty: Black Ops II</td>\n",
       "      <td>PS3</td>\n",
       "      <td>2012.0</td>\n",
       "      <td>Shooter</td>\n",
       "      <td>4.99</td>\n",
       "      <td>5.73</td>\n",
       "      <td>0.65</td>\n",
       "      <td>2.42</td>\n",
       "      <td>83.0</td>\n",
       "      <td>5.3</td>\n",
       "      <td>M</td>\n",
       "      <td>11.37</td>\n",
       "    </tr>\n",
       "  </tbody>\n",
       "</table>\n",
       "</div>"
      ],
      "text/plain": [
       "                          name platform  year_of_release         genre  \\\n",
       "16          Grand Theft Auto V      PS3           2013.0        Action   \n",
       "23          Grand Theft Auto V     X360           2013.0        Action   \n",
       "31   Call of Duty: Black Ops 3      PS4           2015.0       Shooter   \n",
       "33         Pokemon X/Pokemon Y      3DS           2013.0  Role-Playing   \n",
       "34  Call of Duty: Black Ops II      PS3           2012.0       Shooter   \n",
       "\n",
       "    na_sales  eu_sales  jp_sales  other_sales  critic_score  user_score  \\\n",
       "16      7.02      9.09      0.98         3.96          97.0         8.2   \n",
       "23      9.66      5.14      0.06         1.41          97.0         8.1   \n",
       "31      6.03      5.86      0.36         2.38           NaN         NaN   \n",
       "33      5.28      4.19      4.35         0.78           NaN         NaN   \n",
       "34      4.99      5.73      0.65         2.42          83.0         5.3   \n",
       "\n",
       "   rating  total_sales  \n",
       "16      M        17.09  \n",
       "23      M        14.86  \n",
       "31      M        12.25  \n",
       "33      T        13.82  \n",
       "34      M        11.37  "
      ]
     },
     "execution_count": 31,
     "metadata": {},
     "output_type": "execute_result"
    }
   ],
   "source": [
    "# Filtramos nuestro dataset a partir del año 2012.\n",
    "\n",
    "good_games_df = games_df.query('year_of_release >= 2012')\n",
    "good_games_df.head()"
   ]
  },
  {
   "cell_type": "code",
   "execution_count": 32,
   "metadata": {},
   "outputs": [
    {
     "name": "stdout",
     "output_type": "stream",
     "text": [
      "<class 'pandas.core.frame.DataFrame'>\n",
      "Int64Index: 2886 entries, 16 to 16443\n",
      "Data columns (total 12 columns):\n",
      " #   Column           Non-Null Count  Dtype  \n",
      "---  ------           --------------  -----  \n",
      " 0   name             2886 non-null   object \n",
      " 1   platform         2886 non-null   object \n",
      " 2   year_of_release  2886 non-null   float64\n",
      " 3   genre            2886 non-null   object \n",
      " 4   na_sales         2886 non-null   float64\n",
      " 5   eu_sales         2886 non-null   float64\n",
      " 6   jp_sales         2886 non-null   float64\n",
      " 7   other_sales      2886 non-null   float64\n",
      " 8   critic_score     1546 non-null   float64\n",
      " 9   user_score       1546 non-null   float64\n",
      " 10  rating           2886 non-null   object \n",
      " 11  total_sales      2886 non-null   float64\n",
      "dtypes: float64(8), object(4)\n",
      "memory usage: 293.1+ KB\n"
     ]
    }
   ],
   "source": [
    "#Visualizamos un resumen de nuetro conjunto de datos.\n",
    "good_games_df.info()"
   ]
  },
  {
   "cell_type": "code",
   "execution_count": 33,
   "metadata": {},
   "outputs": [
    {
     "data": {
      "text/plain": [
       "array([2013., 2015., 2012., 2014., 2016.])"
      ]
     },
     "execution_count": 33,
     "metadata": {},
     "output_type": "execute_result"
    }
   ],
   "source": [
    "good_games_df['year_of_release'].unique()"
   ]
  },
  {
   "cell_type": "markdown",
   "metadata": {},
   "source": [
    "**Conclusión:**\n",
    "\n",
    "- Tomamos un periodo bastante significativo para poder proyectar las ventas del 2016, este conjunto de datos representa las ventas desde 2012, lo que nos dará una idea clara de los videojuegos mas vendidos en el perido previo al 2017."
   ]
  },
  {
   "cell_type": "markdown",
   "metadata": {},
   "source": [
    "## Identificación de plataformas lideres en ventas"
   ]
  },
  {
   "cell_type": "code",
   "execution_count": 34,
   "metadata": {},
   "outputs": [
    {
     "data": {
      "image/png": "[encoded data removed]",
      "text/plain": [
       "<Figure size 1152x648 with 1 Axes>"
      ]
     },
     "metadata": {
      "needs_background": "light"
     },
     "output_type": "display_data"
    }
   ],
   "source": [
    "#Visualizamos las plataformas con mas ventas.\n",
    "(good_games_df\n",
    "        .pivot_table(index= 'platform', values= 'total_sales')\n",
    "        .sort_values(by= 'total_sales')\n",
    "        .plot(kind= 'bar', grid= True, figsize= (16, 9), title= 'VENTAS TOTALES POR PLATAFORMAS'))\n",
    "plt.show()"
   ]
  },
  {
   "cell_type": "code",
   "execution_count": 37,
   "metadata": {},
   "outputs": [
    {
     "data": {
      "image/png": "[encoded data removed]",
      "text/plain": [
       "<Figure size 1152x360 with 1 Axes>"
      ]
     },
     "metadata": {
      "needs_background": "light"
     },
     "output_type": "display_data"
    },
    {
     "data": {
      "image/png": "[encoded data removed]",
      "text/plain": [
       "<Figure size 1152x360 with 1 Axes>"
      ]
     },
     "metadata": {
      "needs_background": "light"
     },
     "output_type": "display_data"
    },
    {
     "data": {
      "image/png": "[encoded data removed]",
      "text/plain": [
       "<Figure size 1152x360 with 1 Axes>"
      ]
     },
     "metadata": {
      "needs_background": "light"
     },
     "output_type": "display_data"
    },
    {
     "data": {
      "image/png": "[encoded data removed]",
      "text/plain": [
       "<Figure size 1152x360 with 1 Axes>"
      ]
     },
     "metadata": {
      "needs_background": "light"
     },
     "output_type": "display_data"
    },
    {
     "data": {
      "image/png": "[encoded data removed]",
      "text/plain": [
       "<Figure size 1152x360 with 1 Axes>"
      ]
     },
     "metadata": {
      "needs_background": "light"
     },
     "output_type": "display_data"
    },
    {
     "data": {
      "image/png": "[encoded data removed]",
      "text/plain": [
       "<Figure size 1152x360 with 1 Axes>"
      ]
     },
     "metadata": {
      "needs_background": "light"
     },
     "output_type": "display_data"
    }
   ],
   "source": [
    "# Generamos histogramas de las plataformas con mas ventas.\n",
    "platforms =(good_games_df\n",
    "        .pivot_table(index= 'platform', values= 'total_sales')\n",
    "        .sort_values(by= 'total_sales', ascending= False)\n",
    "        .reset_index()\n",
    "        .loc[:5,'platform'])\n",
    "\n",
    "for plat in platforms:\n",
    "    \n",
    "    (games_df\n",
    "        .query('platform == @plat')\n",
    "        .hist('year_of_release', bins= 10, grid= True, figsize= (16, 5)))\n",
    "    plt.title(f'VENTAS TOTALES POR AÑO DE LA PLATAFORMA {plat}')"
   ]
  },
  {
   "cell_type": "markdown",
   "metadata": {},
   "source": [
    "**Conclusiones:**\n",
    "\n",
    "1. Existes tres fabricantes principales que se dividen la cuota de mercado de la venta de videojuegos, los cuales son:\n",
    "    - Nintendo: Con sus plataformas Wii y WiiU.\n",
    "    - Microsoft: Con sus plataformas X360 y XONE.\n",
    "    - Sony: Con sus plataformas PS3 y PS4.\n",
    "    \n",
    "    \n",
    "2. También se identificó que en el 2006 se lanzaron las plataformas Wii, X360 y PS3. Y que en el año 2012, se lanzaron las plataformas WiiU, XONE y PS4.\n",
    "\n",
    "\n",
    "3. Se puede observar que para las plataformas X360 y PS3 en el perido de 2012 a 2016 tienen un pico de ventas y un comportamiento muy similar, se puede evidenciar un aumento de ventas en los primeros 5 años, luego empieza el declive pero con una cantidad de ventas considerable para el final del 2016. Para la plataforma Wii el comportamiento de ventas es diferente, alcanza su pico tres años después de su lanzamiento antes de empezar el declive, además termina el 2016 con ventas muy reducidas.\n",
    "\n",
    "\n",
    "4. Esto significa que la propuesta de valor por parte de los fabricantes Microsoft y Sony es mucho mas acertada que el fabricante Nintendo.\n",
    "\n",
    "\n",
    "5. Se puede observar el mismo comportamiento para la siguiente generación de plataformas de los tres fabricantes, la plataforma WiiU con un ascenso de ventas prematuro y seguido de su declive, por otro lado se evidencia un ascenso constante para las plataformas XONE y PS4.\n",
    "\n",
    "\n",
    "6. Si el comportamiento se repite para la genración anterior de plataformas podemos concluir que para 2017 la mayor cuota de mercado se llevará los juegos para las plataformas XONE y PS4."
   ]
  },
  {
   "cell_type": "markdown",
   "metadata": {},
   "source": [
    "## Ventas globales por plataformas"
   ]
  },
  {
   "cell_type": "code",
   "execution_count": 168,
   "metadata": {},
   "outputs": [
    {
     "data": {
      "image/png": "[encoded data removed]",
      "text/plain": [
       "<Figure size 1152x648 with 1 Axes>"
      ]
     },
     "metadata": {
      "needs_background": "light"
     },
     "output_type": "display_data"
    }
   ],
   "source": [
    "#Realizamos un diagrama de cajas para visualizar el comportamiento de las ventas por plataforma.\n",
    "\n",
    "good_games_df.boxplot(column= 'total_sales', by= 'platform', grid= True, figsize= (16, 9))\n",
    "\n",
    "plt.title('VENTAS GLOBALES POR PLATAFORMA')\n",
    "plt.ylim(0, 10)\n",
    "plt.show()"
   ]
  },
  {
   "cell_type": "code",
   "execution_count": 169,
   "metadata": {},
   "outputs": [
    {
     "name": "stdout",
     "output_type": "stream",
     "text": [
      "La desviación standard de la plataforma PS3 es: 1.201291641817536\n",
      "La desviación standard de la plataforma X360 es: 1.5658354024166403\n",
      "La desviación standard de la plataforma PS4 es: 1.3552212072058045\n",
      "La desviación standard de la plataforma 3DS es: 1.3125004017875554\n",
      "La desviación standard de la plataforma DS es: 1.3660854520730363\n",
      "La desviación standard de la plataforma XOne es: 0.942411557893962\n",
      "La desviación standard de la plataforma WiiU es: 0.9851393333451931\n",
      "La desviación standard de la plataforma Wii es: 1.0699744310117263\n",
      "La desviación standard de la plataforma PC es: 0.44405606940012016\n",
      "La desviación standard de la plataforma PSV es: 0.16987478763832106\n",
      "La desviación standard de la plataforma PSP es: 0.06870193330029963\n"
     ]
    }
   ],
   "source": [
    "# Calculamos la desviación standard de las ventas por plataformas.\n",
    "for plat in good_games_df['platform'].unique():\n",
    "    std = good_games_df.query('platform == @plat')['total_sales'].std()\n",
    "    print(f'La desviación standard de la plataforma {plat} es: {std}')"
   ]
  },
  {
   "cell_type": "markdown",
   "metadata": {},
   "source": [
    "**Conclusiones:**\n",
    "\n",
    "- Se puede observar un comportamiento claro y generalizado para la mayoría de plataformas.\n",
    "\n",
    "\n",
    "- Se puede concluir que las ventas totales por cada plataforma dependen de las ventas de muy pocos juegos que se llevan la mayoría de cuota de mercado, en otras palabras el exito en ventas no está determinado por la plataforma, sino por la popularidad de ciertos videojuegos."
   ]
  },
  {
   "cell_type": "markdown",
   "metadata": {},
   "source": [
    "## Relación de ventas con el puntaje definido por la crítica y los usuarios"
   ]
  },
  {
   "cell_type": "markdown",
   "metadata": {},
   "source": [
    "### Relación de ventas con el puntaje de la crítica"
   ]
  },
  {
   "cell_type": "markdown",
   "metadata": {},
   "source": [
    "Para identificar si existe una correlación entre las ventas y las críticas, seleccionaremos la plataforma xbox 360, ya que esta lidera las ventas de videouegos en el periodo 2012 - 2016. "
   ]
  },
  {
   "cell_type": "code",
   "execution_count": 170,
   "metadata": {},
   "outputs": [
    {
     "data": {
      "image/png": "[encoded data removed]",
      "text/plain": [
       "<Figure size 1152x648 with 1 Axes>"
      ]
     },
     "metadata": {
      "needs_background": "light"
     },
     "output_type": "display_data"
    }
   ],
   "source": [
    "# Segmentamos el conjunto de datos y lugo generamos un gráfico de dispersión de las ventas totales vs el puntaje de la crítica.\n",
    "(good_games_df\n",
    "             .query('platform == \"X360\"')\n",
    "             .plot(x= 'critic_score', y= 'total_sales', kind= 'scatter', grid= True, figsize= (16, 9)))\n",
    "plt.title('CORRELACIÓ VENTAS VS PUNTAJE CRÍTICA XBOX 360')\n",
    "plt.show()"
   ]
  },
  {
   "cell_type": "code",
   "execution_count": 171,
   "metadata": {},
   "outputs": [
    {
     "name": "stdout",
     "output_type": "stream",
     "text": [
      "La correlación entre las ventas totales y el puntaje de la crítica es de: 0.2898450767134213\n"
     ]
    }
   ],
   "source": [
    "#Obtenemos la correlación entre estas dos varibles.\n",
    "corr_1 = good_games_df.query('platform == \"X360\"')['critic_score'].corr(good_games_df.query('platform == \"X360\"')['total_sales'])\n",
    "print(f'La correlación entre las ventas totales y el puntaje de la crítica es de: {corr_1}')"
   ]
  },
  {
   "cell_type": "markdown",
   "metadata": {},
   "source": [
    "### Relación de ventas con el puntaje de los usuarios"
   ]
  },
  {
   "cell_type": "code",
   "execution_count": 172,
   "metadata": {},
   "outputs": [
    {
     "data": {
      "image/png": "[encoded data removed]",
      "text/plain": [
       "<Figure size 1152x648 with 1 Axes>"
      ]
     },
     "metadata": {
      "needs_background": "light"
     },
     "output_type": "display_data"
    }
   ],
   "source": [
    "# Segmentamos el conjunto de datos y lugo generamos un gráfico de dispersión de las ventas totales vs el puntaje de la crítica.\n",
    "(good_games_df\n",
    "             .query('platform == \"X360\"')\n",
    "             .plot(x= 'user_score', y= 'total_sales', kind= 'scatter', grid= True, figsize= (16, 9)))\n",
    "plt.title('CORRELACIÓ VENTAS VS PUNTAJE USUARIOS XBOX 360')\n",
    "plt.show()"
   ]
  },
  {
   "cell_type": "code",
   "execution_count": 173,
   "metadata": {},
   "outputs": [
    {
     "name": "stdout",
     "output_type": "stream",
     "text": [
      "La correlación entre las ventas totales y el puntaje de la crítica es de: 0.006562723093225382\n"
     ]
    }
   ],
   "source": [
    "#Obtenemos la correlación entre estas dos varibles.\n",
    "corr_2 = good_games_df.query('platform == \"X360\"')['user_score'].corr(good_games_df.query('platform == \"X360\"')['total_sales'])\n",
    "print(f'La correlación entre las ventas totales y el puntaje de la crítica es de: {corr_2}')"
   ]
  },
  {
   "cell_type": "markdown",
   "metadata": {},
   "source": [
    "**Conclusiones:**\n",
    "\n",
    "\n",
    "- Una vez obsesvado la correalción entre las dos variables puntaje de la crítica y ventas totales, podemos concluir que la correlación es debil pero positiva, la cual es de 0.289.\n",
    "\n",
    "- Mientras en el caso anterior existe una correlación debil positiva, para este caso, entre las variables puntaje de los usuarios y ventas totales, no existe correlación, el valor es de 0.006."
   ]
  },
  {
   "cell_type": "markdown",
   "metadata": {},
   "source": [
    "## Análisis de ventas por videojuego"
   ]
  },
  {
   "cell_type": "markdown",
   "metadata": {},
   "source": [
    "Para realizar un análisis de ventas de videojuegos primero vamos a seleccionar los videojuegos con mas ventas de las plataformas del periodo 2012 - 2016 (Wii, Xbox360 y PS3), de esta manera podremos identificar que juegos podrían ser un éxito para el año 2017. Para esto identificaremos videojuegos que estén presentes en lo posible en las tres plataformas."
   ]
  },
  {
   "cell_type": "code",
   "execution_count": 174,
   "metadata": {},
   "outputs": [
    {
     "data": {
      "text/html": [
       "<div>\n",
       "<style scoped>\n",
       "    .dataframe tbody tr th:only-of-type {\n",
       "        vertical-align: middle;\n",
       "    }\n",
       "\n",
       "    .dataframe tbody tr th {\n",
       "        vertical-align: top;\n",
       "    }\n",
       "\n",
       "    .dataframe thead th {\n",
       "        text-align: right;\n",
       "    }\n",
       "</style>\n",
       "<table border=\"1\" class=\"dataframe\">\n",
       "  <thead>\n",
       "    <tr style=\"text-align: right;\">\n",
       "      <th></th>\n",
       "      <th>name</th>\n",
       "      <th>platform</th>\n",
       "      <th>year_of_release</th>\n",
       "      <th>genre</th>\n",
       "      <th>na_sales</th>\n",
       "      <th>eu_sales</th>\n",
       "      <th>jp_sales</th>\n",
       "      <th>other_sales</th>\n",
       "      <th>critic_score</th>\n",
       "      <th>user_score</th>\n",
       "      <th>rating</th>\n",
       "      <th>total_sales</th>\n",
       "    </tr>\n",
       "  </thead>\n",
       "  <tbody>\n",
       "    <tr>\n",
       "      <th>116</th>\n",
       "      <td>Just Dance 4</td>\n",
       "      <td>Wii</td>\n",
       "      <td>2012.0</td>\n",
       "      <td>Misc</td>\n",
       "      <td>4.05</td>\n",
       "      <td>2.16</td>\n",
       "      <td>0.00</td>\n",
       "      <td>0.55</td>\n",
       "      <td>74.0</td>\n",
       "      <td>7.3</td>\n",
       "      <td>E10+</td>\n",
       "      <td>6.21</td>\n",
       "    </tr>\n",
       "    <tr>\n",
       "      <th>358</th>\n",
       "      <td>Just Dance 2014</td>\n",
       "      <td>Wii</td>\n",
       "      <td>2013.0</td>\n",
       "      <td>Misc</td>\n",
       "      <td>1.88</td>\n",
       "      <td>1.39</td>\n",
       "      <td>0.00</td>\n",
       "      <td>0.31</td>\n",
       "      <td>62.0</td>\n",
       "      <td>6.2</td>\n",
       "      <td>E10+</td>\n",
       "      <td>3.27</td>\n",
       "    </tr>\n",
       "    <tr>\n",
       "      <th>437</th>\n",
       "      <td>Mario Party 9</td>\n",
       "      <td>Wii</td>\n",
       "      <td>2012.0</td>\n",
       "      <td>Misc</td>\n",
       "      <td>1.06</td>\n",
       "      <td>1.09</td>\n",
       "      <td>0.76</td>\n",
       "      <td>0.22</td>\n",
       "      <td>73.0</td>\n",
       "      <td>6.8</td>\n",
       "      <td>E</td>\n",
       "      <td>2.91</td>\n",
       "    </tr>\n",
       "    <tr>\n",
       "      <th>609</th>\n",
       "      <td>Skylanders Giants</td>\n",
       "      <td>Wii</td>\n",
       "      <td>2012.0</td>\n",
       "      <td>Action</td>\n",
       "      <td>1.48</td>\n",
       "      <td>0.83</td>\n",
       "      <td>0.00</td>\n",
       "      <td>0.21</td>\n",
       "      <td>78.0</td>\n",
       "      <td>7.0</td>\n",
       "      <td>E10+</td>\n",
       "      <td>2.31</td>\n",
       "    </tr>\n",
       "    <tr>\n",
       "      <th>756</th>\n",
       "      <td>Skylanders SWAP Force</td>\n",
       "      <td>Wii</td>\n",
       "      <td>2013.0</td>\n",
       "      <td>Platform</td>\n",
       "      <td>1.21</td>\n",
       "      <td>0.75</td>\n",
       "      <td>0.00</td>\n",
       "      <td>0.19</td>\n",
       "      <td>66.0</td>\n",
       "      <td>6.6</td>\n",
       "      <td>E10+</td>\n",
       "      <td>1.96</td>\n",
       "    </tr>\n",
       "  </tbody>\n",
       "</table>\n",
       "</div>"
      ],
      "text/plain": [
       "                      name platform  year_of_release     genre  na_sales  \\\n",
       "116           Just Dance 4      Wii           2012.0      Misc      4.05   \n",
       "358        Just Dance 2014      Wii           2013.0      Misc      1.88   \n",
       "437          Mario Party 9      Wii           2012.0      Misc      1.06   \n",
       "609      Skylanders Giants      Wii           2012.0    Action      1.48   \n",
       "756  Skylanders SWAP Force      Wii           2013.0  Platform      1.21   \n",
       "\n",
       "     eu_sales  jp_sales  other_sales  critic_score  user_score rating  \\\n",
       "116      2.16      0.00         0.55          74.0         7.3   E10+   \n",
       "358      1.39      0.00         0.31          62.0         6.2   E10+   \n",
       "437      1.09      0.76         0.22          73.0         6.8      E   \n",
       "609      0.83      0.00         0.21          78.0         7.0   E10+   \n",
       "756      0.75      0.00         0.19          66.0         6.6   E10+   \n",
       "\n",
       "     total_sales  \n",
       "116         6.21  \n",
       "358         3.27  \n",
       "437         2.91  \n",
       "609         2.31  \n",
       "756         1.96  "
      ]
     },
     "execution_count": 174,
     "metadata": {},
     "output_type": "execute_result"
    }
   ],
   "source": [
    "# Verificamos los juegos mas vendidos de la plataforma Wii\n",
    "wii_games_df = (good_games_df\n",
    "            .query('platform == \"Wii\"')\n",
    "            .sort_values(by= 'total_sales', ascending= False))\n",
    "wii_games_df.head()           "
   ]
  },
  {
   "cell_type": "code",
   "execution_count": 175,
   "metadata": {},
   "outputs": [
    {
     "data": {
      "text/html": [
       "<div>\n",
       "<style scoped>\n",
       "    .dataframe tbody tr th:only-of-type {\n",
       "        vertical-align: middle;\n",
       "    }\n",
       "\n",
       "    .dataframe tbody tr th {\n",
       "        vertical-align: top;\n",
       "    }\n",
       "\n",
       "    .dataframe thead th {\n",
       "        text-align: right;\n",
       "    }\n",
       "</style>\n",
       "<table border=\"1\" class=\"dataframe\">\n",
       "  <thead>\n",
       "    <tr style=\"text-align: right;\">\n",
       "      <th></th>\n",
       "      <th>name</th>\n",
       "      <th>platform</th>\n",
       "      <th>year_of_release</th>\n",
       "      <th>genre</th>\n",
       "      <th>na_sales</th>\n",
       "      <th>eu_sales</th>\n",
       "      <th>jp_sales</th>\n",
       "      <th>other_sales</th>\n",
       "      <th>critic_score</th>\n",
       "      <th>user_score</th>\n",
       "      <th>rating</th>\n",
       "      <th>total_sales</th>\n",
       "    </tr>\n",
       "  </thead>\n",
       "  <tbody>\n",
       "    <tr>\n",
       "      <th>23</th>\n",
       "      <td>Grand Theft Auto V</td>\n",
       "      <td>X360</td>\n",
       "      <td>2013.0</td>\n",
       "      <td>Action</td>\n",
       "      <td>9.66</td>\n",
       "      <td>5.14</td>\n",
       "      <td>0.06</td>\n",
       "      <td>1.41</td>\n",
       "      <td>97.0</td>\n",
       "      <td>8.1</td>\n",
       "      <td>M</td>\n",
       "      <td>14.86</td>\n",
       "    </tr>\n",
       "    <tr>\n",
       "      <th>35</th>\n",
       "      <td>Call of Duty: Black Ops II</td>\n",
       "      <td>X360</td>\n",
       "      <td>2012.0</td>\n",
       "      <td>Shooter</td>\n",
       "      <td>8.25</td>\n",
       "      <td>4.24</td>\n",
       "      <td>0.07</td>\n",
       "      <td>1.12</td>\n",
       "      <td>83.0</td>\n",
       "      <td>4.8</td>\n",
       "      <td>M</td>\n",
       "      <td>12.56</td>\n",
       "    </tr>\n",
       "    <tr>\n",
       "      <th>60</th>\n",
       "      <td>Call of Duty: Ghosts</td>\n",
       "      <td>X360</td>\n",
       "      <td>2013.0</td>\n",
       "      <td>Shooter</td>\n",
       "      <td>6.73</td>\n",
       "      <td>2.56</td>\n",
       "      <td>0.04</td>\n",
       "      <td>0.91</td>\n",
       "      <td>73.0</td>\n",
       "      <td>2.6</td>\n",
       "      <td>M</td>\n",
       "      <td>9.33</td>\n",
       "    </tr>\n",
       "    <tr>\n",
       "      <th>66</th>\n",
       "      <td>Halo 4</td>\n",
       "      <td>X360</td>\n",
       "      <td>2012.0</td>\n",
       "      <td>Shooter</td>\n",
       "      <td>6.65</td>\n",
       "      <td>2.28</td>\n",
       "      <td>0.04</td>\n",
       "      <td>0.74</td>\n",
       "      <td>87.0</td>\n",
       "      <td>7.0</td>\n",
       "      <td>M</td>\n",
       "      <td>8.97</td>\n",
       "    </tr>\n",
       "    <tr>\n",
       "      <th>72</th>\n",
       "      <td>Minecraft</td>\n",
       "      <td>X360</td>\n",
       "      <td>2013.0</td>\n",
       "      <td>Misc</td>\n",
       "      <td>5.70</td>\n",
       "      <td>2.65</td>\n",
       "      <td>0.02</td>\n",
       "      <td>0.81</td>\n",
       "      <td>NaN</td>\n",
       "      <td>NaN</td>\n",
       "      <td>E</td>\n",
       "      <td>8.37</td>\n",
       "    </tr>\n",
       "  </tbody>\n",
       "</table>\n",
       "</div>"
      ],
      "text/plain": [
       "                          name platform  year_of_release    genre  na_sales  \\\n",
       "23          Grand Theft Auto V     X360           2013.0   Action      9.66   \n",
       "35  Call of Duty: Black Ops II     X360           2012.0  Shooter      8.25   \n",
       "60        Call of Duty: Ghosts     X360           2013.0  Shooter      6.73   \n",
       "66                      Halo 4     X360           2012.0  Shooter      6.65   \n",
       "72                   Minecraft     X360           2013.0     Misc      5.70   \n",
       "\n",
       "    eu_sales  jp_sales  other_sales  critic_score  user_score rating  \\\n",
       "23      5.14      0.06         1.41          97.0         8.1      M   \n",
       "35      4.24      0.07         1.12          83.0         4.8      M   \n",
       "60      2.56      0.04         0.91          73.0         2.6      M   \n",
       "66      2.28      0.04         0.74          87.0         7.0      M   \n",
       "72      2.65      0.02         0.81           NaN         NaN      E   \n",
       "\n",
       "    total_sales  \n",
       "23        14.86  \n",
       "35        12.56  \n",
       "60         9.33  \n",
       "66         8.97  \n",
       "72         8.37  "
      ]
     },
     "execution_count": 175,
     "metadata": {},
     "output_type": "execute_result"
    }
   ],
   "source": [
    "# Verificamos los juegos mas vendidos de la plataforma X360\n",
    "x360_games_df = (good_games_df\n",
    "            .query('platform == \"X360\"')\n",
    "            .sort_values(by= 'total_sales', ascending= False))\n",
    "x360_games_df.head()"
   ]
  },
  {
   "cell_type": "code",
   "execution_count": 176,
   "metadata": {},
   "outputs": [
    {
     "data": {
      "text/html": [
       "<div>\n",
       "<style scoped>\n",
       "    .dataframe tbody tr th:only-of-type {\n",
       "        vertical-align: middle;\n",
       "    }\n",
       "\n",
       "    .dataframe tbody tr th {\n",
       "        vertical-align: top;\n",
       "    }\n",
       "\n",
       "    .dataframe thead th {\n",
       "        text-align: right;\n",
       "    }\n",
       "</style>\n",
       "<table border=\"1\" class=\"dataframe\">\n",
       "  <thead>\n",
       "    <tr style=\"text-align: right;\">\n",
       "      <th></th>\n",
       "      <th>name</th>\n",
       "      <th>platform</th>\n",
       "      <th>year_of_release</th>\n",
       "      <th>genre</th>\n",
       "      <th>na_sales</th>\n",
       "      <th>eu_sales</th>\n",
       "      <th>jp_sales</th>\n",
       "      <th>other_sales</th>\n",
       "      <th>critic_score</th>\n",
       "      <th>user_score</th>\n",
       "      <th>rating</th>\n",
       "      <th>total_sales</th>\n",
       "    </tr>\n",
       "  </thead>\n",
       "  <tbody>\n",
       "    <tr>\n",
       "      <th>16</th>\n",
       "      <td>Grand Theft Auto V</td>\n",
       "      <td>PS3</td>\n",
       "      <td>2013.0</td>\n",
       "      <td>Action</td>\n",
       "      <td>7.02</td>\n",
       "      <td>9.09</td>\n",
       "      <td>0.98</td>\n",
       "      <td>3.96</td>\n",
       "      <td>97.0</td>\n",
       "      <td>8.2</td>\n",
       "      <td>M</td>\n",
       "      <td>17.09</td>\n",
       "    </tr>\n",
       "    <tr>\n",
       "      <th>34</th>\n",
       "      <td>Call of Duty: Black Ops II</td>\n",
       "      <td>PS3</td>\n",
       "      <td>2012.0</td>\n",
       "      <td>Shooter</td>\n",
       "      <td>4.99</td>\n",
       "      <td>5.73</td>\n",
       "      <td>0.65</td>\n",
       "      <td>2.42</td>\n",
       "      <td>83.0</td>\n",
       "      <td>5.3</td>\n",
       "      <td>M</td>\n",
       "      <td>11.37</td>\n",
       "    </tr>\n",
       "    <tr>\n",
       "      <th>69</th>\n",
       "      <td>Call of Duty: Ghosts</td>\n",
       "      <td>PS3</td>\n",
       "      <td>2013.0</td>\n",
       "      <td>Shooter</td>\n",
       "      <td>4.10</td>\n",
       "      <td>3.63</td>\n",
       "      <td>0.38</td>\n",
       "      <td>1.25</td>\n",
       "      <td>71.0</td>\n",
       "      <td>2.6</td>\n",
       "      <td>M</td>\n",
       "      <td>8.11</td>\n",
       "    </tr>\n",
       "    <tr>\n",
       "      <th>81</th>\n",
       "      <td>FIFA Soccer 13</td>\n",
       "      <td>PS3</td>\n",
       "      <td>2012.0</td>\n",
       "      <td>Action</td>\n",
       "      <td>1.06</td>\n",
       "      <td>5.01</td>\n",
       "      <td>0.13</td>\n",
       "      <td>1.97</td>\n",
       "      <td>88.0</td>\n",
       "      <td>6.6</td>\n",
       "      <td>E</td>\n",
       "      <td>6.20</td>\n",
       "    </tr>\n",
       "    <tr>\n",
       "      <th>127</th>\n",
       "      <td>Assassin's Creed III</td>\n",
       "      <td>PS3</td>\n",
       "      <td>2012.0</td>\n",
       "      <td>Action</td>\n",
       "      <td>2.64</td>\n",
       "      <td>2.52</td>\n",
       "      <td>0.16</td>\n",
       "      <td>1.12</td>\n",
       "      <td>85.0</td>\n",
       "      <td>6.9</td>\n",
       "      <td>M</td>\n",
       "      <td>5.32</td>\n",
       "    </tr>\n",
       "  </tbody>\n",
       "</table>\n",
       "</div>"
      ],
      "text/plain": [
       "                           name platform  year_of_release    genre  na_sales  \\\n",
       "16           Grand Theft Auto V      PS3           2013.0   Action      7.02   \n",
       "34   Call of Duty: Black Ops II      PS3           2012.0  Shooter      4.99   \n",
       "69         Call of Duty: Ghosts      PS3           2013.0  Shooter      4.10   \n",
       "81               FIFA Soccer 13      PS3           2012.0   Action      1.06   \n",
       "127        Assassin's Creed III      PS3           2012.0   Action      2.64   \n",
       "\n",
       "     eu_sales  jp_sales  other_sales  critic_score  user_score rating  \\\n",
       "16       9.09      0.98         3.96          97.0         8.2      M   \n",
       "34       5.73      0.65         2.42          83.0         5.3      M   \n",
       "69       3.63      0.38         1.25          71.0         2.6      M   \n",
       "81       5.01      0.13         1.97          88.0         6.6      E   \n",
       "127      2.52      0.16         1.12          85.0         6.9      M   \n",
       "\n",
       "     total_sales  \n",
       "16         17.09  \n",
       "34         11.37  \n",
       "69          8.11  \n",
       "81          6.20  \n",
       "127         5.32  "
      ]
     },
     "execution_count": 176,
     "metadata": {},
     "output_type": "execute_result"
    }
   ],
   "source": [
    "# Verificamos los 10 juegos mas vendidos de la plataforma X360\n",
    "ps3_games_df = (good_games_df\n",
    "            .query('platform == \"PS3\"')\n",
    "            .sort_values(by= 'total_sales', ascending= False))\n",
    "ps3_games_df.head()           "
   ]
  },
  {
   "cell_type": "code",
   "execution_count": 177,
   "metadata": {},
   "outputs": [
    {
     "data": {
      "text/html": [
       "<div>\n",
       "<style scoped>\n",
       "    .dataframe tbody tr th:only-of-type {\n",
       "        vertical-align: middle;\n",
       "    }\n",
       "\n",
       "    .dataframe tbody tr th {\n",
       "        vertical-align: top;\n",
       "    }\n",
       "\n",
       "    .dataframe thead th {\n",
       "        text-align: right;\n",
       "    }\n",
       "</style>\n",
       "<table border=\"1\" class=\"dataframe\">\n",
       "  <thead>\n",
       "    <tr style=\"text-align: right;\">\n",
       "      <th></th>\n",
       "      <th>total_sales</th>\n",
       "    </tr>\n",
       "    <tr>\n",
       "      <th>name</th>\n",
       "      <th></th>\n",
       "    </tr>\n",
       "  </thead>\n",
       "  <tbody>\n",
       "    <tr>\n",
       "      <th>FIFA Soccer 13</th>\n",
       "      <td>6.20</td>\n",
       "    </tr>\n",
       "    <tr>\n",
       "      <th>FIFA 14</th>\n",
       "      <td>5.09</td>\n",
       "    </tr>\n",
       "    <tr>\n",
       "      <th>FIFA 15</th>\n",
       "      <td>3.64</td>\n",
       "    </tr>\n",
       "    <tr>\n",
       "      <th>Madden NFL 13</th>\n",
       "      <td>2.34</td>\n",
       "    </tr>\n",
       "    <tr>\n",
       "      <th>NBA 2K13</th>\n",
       "      <td>2.21</td>\n",
       "    </tr>\n",
       "    <tr>\n",
       "      <th>Pro Evolution Soccer 2013</th>\n",
       "      <td>1.30</td>\n",
       "    </tr>\n",
       "    <tr>\n",
       "      <th>WWE '13</th>\n",
       "      <td>1.11</td>\n",
       "    </tr>\n",
       "    <tr>\n",
       "      <th>LEGO Batman 2: DC Super Heroes</th>\n",
       "      <td>1.00</td>\n",
       "    </tr>\n",
       "    <tr>\n",
       "      <th>LEGO The Lord of the Rings</th>\n",
       "      <td>0.86</td>\n",
       "    </tr>\n",
       "    <tr>\n",
       "      <th>Skylanders SWAP Force</th>\n",
       "      <td>0.85</td>\n",
       "    </tr>\n",
       "  </tbody>\n",
       "</table>\n",
       "</div>"
      ],
      "text/plain": [
       "                                total_sales\n",
       "name                                       \n",
       "FIFA Soccer 13                         6.20\n",
       "FIFA 14                                5.09\n",
       "FIFA 15                                3.64\n",
       "Madden NFL 13                          2.34\n",
       "NBA 2K13                               2.21\n",
       "Pro Evolution Soccer 2013              1.30\n",
       "WWE '13                                1.11\n",
       "LEGO Batman 2: DC Super Heroes         1.00\n",
       "LEGO The Lord of the Rings             0.86\n",
       "Skylanders SWAP Force                  0.85"
      ]
     },
     "execution_count": 177,
     "metadata": {},
     "output_type": "execute_result"
    }
   ],
   "source": [
    "# Verificamos los 10 juegos mas vendidos que estén presentes en las tres plataformas\n",
    "\n",
    "top_10_games_df = (ps3_games_df\n",
    "            .query('name in @x360_games_df[\"name\"].unique() and name in @wii_games_df[\"name\"].unique() ')\n",
    "            .pivot_table(index= 'name', values= 'total_sales', aggfunc= 'sum')\n",
    "            .sort_values(by= 'total_sales', ascending= False)\n",
    "            .head(10))\n",
    "top_10_games_df"
   ]
  },
  {
   "cell_type": "code",
   "execution_count": 178,
   "metadata": {},
   "outputs": [
    {
     "data": {
      "image/png": "[encoded data removed]",
      "text/plain": [
       "<Figure size 1152x648 with 1 Axes>"
      ]
     },
     "metadata": {
      "needs_background": "light"
     },
     "output_type": "display_data"
    }
   ],
   "source": [
    "(good_games_df\n",
    "        .query('name in @top_10_games_df.index')\n",
    "        .pivot_table(index= 'name', columns= 'platform', values= 'total_sales', aggfunc= 'sum')[['Wii', 'PS3', 'X360']]\n",
    "        .plot(kind= 'bar', grid= True, figsize= (16, 9)))\n",
    "plt.title('VENTAS DE JUEGOS MAS VENDIDOS POR PLATAFORMA')\n",
    "plt.show()"
   ]
  },
  {
   "cell_type": "code",
   "execution_count": 179,
   "metadata": {},
   "outputs": [
    {
     "data": {
      "image/png": "[encoded data removed]",
      "text/plain": [
       "<Figure size 576x288 with 1 Axes>"
      ]
     },
     "metadata": {
      "needs_background": "light"
     },
     "output_type": "display_data"
    }
   ],
   "source": [
    "(good_games_df\n",
    "            .query('platform == \"Wii\" or platform == \"X360\" or platform == \"PS3\"')\n",
    "            .pivot_table(index= 'platform', values= 'total_sales', aggfunc= 'sum')\n",
    "            .plot(kind= 'bar', grid= True, figsize= (8,4)))\n",
    "plt.title('VENTAS TOTALES POR PLATAFORMA')\n",
    "plt.show()"
   ]
  },
  {
   "cell_type": "markdown",
   "metadata": {},
   "source": [
    "**Conclusiones:**\n",
    "\n",
    "- A simple vista podríamos concluir que las plataformas con mas éxito son PS3 y X360 ya que las ventas son mucho mayores para los videojuegos en esta plataformas. Sin embargo las ventas para la plataforma Wii son similares a las ventas totales de las otras plataformas. Se puede suponer que existen videojuegos exclusivos para la plataforma Wii que han tenido mucho éxito.\n",
    "\n",
    "\n",
    "- Se puede concluir que los top 10 jugos para las plataformas PS3 y X360 son exelentes candidatos para tener éxito en el 2017, además también las secuelas de estos juegos tienen una alta probabilidad de tener un buen desempeño en ventas ya que estarían disponibles las siguiente generación de plataformas (WiiU, XONE, PS4)."
   ]
  },
  {
   "cell_type": "markdown",
   "metadata": {},
   "source": [
    "## Análisis de ventas por género"
   ]
  },
  {
   "cell_type": "code",
   "execution_count": 180,
   "metadata": {},
   "outputs": [
    {
     "data": {
      "image/png": "[encoded data removed]",
      "text/plain": [
       "<Figure size 1152x648 with 1 Axes>"
      ]
     },
     "metadata": {
      "needs_background": "light"
     },
     "output_type": "display_data"
    }
   ],
   "source": [
    "# Creamos un df que agrupe los lanzamientos y cantidad de ventas por género.\n",
    "games_by_genre =(good_games_df\n",
    "            .pivot_table(index= 'genre', values= 'total_sales', aggfunc= ['count', 'sum'])\n",
    "            .sort_values(by= ('count','total_sales'), ascending= False))\n",
    "\n",
    "# Creamos la columna rendimiento que es el cantidad de ventas por cada lanzamiento, para visualizar el rendimiento de ventas de \n",
    "# cada categoría\n",
    "games_by_genre.columns = ['cantidad_lanzamientos', 'ventas_totales']\n",
    "games_by_genre['rendimiento'] = games_by_genre['ventas_totales'] / games_by_genre['cantidad_lanzamientos']\n",
    "\n",
    "#Visualizamos el rendimiento por género\n",
    "(games_by_genre\n",
    "                .sort_values(by= 'rendimiento', ascending= False)\n",
    "                .plot(kind= 'bar', grid= True, y= 'rendimiento', figsize= (16, 9)))\n",
    "\n",
    "plt.title('RENDIMIENTO DE VENTAS POR VIDEOJUEGOS LANZADOS POR GéNERO')\n",
    "plt.show()"
   ]
  },
  {
   "cell_type": "markdown",
   "metadata": {},
   "source": [
    "**Conclusiones:**\n",
    "\n",
    "- Al ver el gráfico podemos concluir que el género que mas vende por cada lanzamiento es 'Shooter', esto nos da una idea de las preferencias del público en general."
   ]
  },
  {
   "cell_type": "markdown",
   "metadata": {},
   "source": [
    "# Perfiles de usuario para cada región "
   ]
  },
  {
   "cell_type": "markdown",
   "metadata": {},
   "source": [
    "## Principales plataformas por región"
   ]
  },
  {
   "cell_type": "code",
   "execution_count": 181,
   "metadata": {},
   "outputs": [
    {
     "data": {
      "text/html": [
       "<div>\n",
       "<style scoped>\n",
       "    .dataframe tbody tr th:only-of-type {\n",
       "        vertical-align: middle;\n",
       "    }\n",
       "\n",
       "    .dataframe tbody tr th {\n",
       "        vertical-align: top;\n",
       "    }\n",
       "\n",
       "    .dataframe thead th {\n",
       "        text-align: right;\n",
       "    }\n",
       "</style>\n",
       "<table border=\"1\" class=\"dataframe\">\n",
       "  <thead>\n",
       "    <tr style=\"text-align: right;\">\n",
       "      <th></th>\n",
       "      <th>name</th>\n",
       "      <th>platform</th>\n",
       "      <th>year_of_release</th>\n",
       "      <th>genre</th>\n",
       "      <th>na_sales</th>\n",
       "      <th>eu_sales</th>\n",
       "      <th>jp_sales</th>\n",
       "      <th>other_sales</th>\n",
       "      <th>critic_score</th>\n",
       "      <th>user_score</th>\n",
       "      <th>rating</th>\n",
       "      <th>total_sales</th>\n",
       "    </tr>\n",
       "  </thead>\n",
       "  <tbody>\n",
       "    <tr>\n",
       "      <th>16</th>\n",
       "      <td>Grand Theft Auto V</td>\n",
       "      <td>PS3</td>\n",
       "      <td>2013.0</td>\n",
       "      <td>Action</td>\n",
       "      <td>7.02</td>\n",
       "      <td>9.09</td>\n",
       "      <td>0.98</td>\n",
       "      <td>3.96</td>\n",
       "      <td>97.0</td>\n",
       "      <td>8.2</td>\n",
       "      <td>M</td>\n",
       "      <td>17.09</td>\n",
       "    </tr>\n",
       "    <tr>\n",
       "      <th>23</th>\n",
       "      <td>Grand Theft Auto V</td>\n",
       "      <td>X360</td>\n",
       "      <td>2013.0</td>\n",
       "      <td>Action</td>\n",
       "      <td>9.66</td>\n",
       "      <td>5.14</td>\n",
       "      <td>0.06</td>\n",
       "      <td>1.41</td>\n",
       "      <td>97.0</td>\n",
       "      <td>8.1</td>\n",
       "      <td>M</td>\n",
       "      <td>14.86</td>\n",
       "    </tr>\n",
       "    <tr>\n",
       "      <th>31</th>\n",
       "      <td>Call of Duty: Black Ops 3</td>\n",
       "      <td>PS4</td>\n",
       "      <td>2015.0</td>\n",
       "      <td>Shooter</td>\n",
       "      <td>6.03</td>\n",
       "      <td>5.86</td>\n",
       "      <td>0.36</td>\n",
       "      <td>2.38</td>\n",
       "      <td>NaN</td>\n",
       "      <td>NaN</td>\n",
       "      <td>M</td>\n",
       "      <td>12.25</td>\n",
       "    </tr>\n",
       "    <tr>\n",
       "      <th>33</th>\n",
       "      <td>Pokemon X/Pokemon Y</td>\n",
       "      <td>3DS</td>\n",
       "      <td>2013.0</td>\n",
       "      <td>Role-Playing</td>\n",
       "      <td>5.28</td>\n",
       "      <td>4.19</td>\n",
       "      <td>4.35</td>\n",
       "      <td>0.78</td>\n",
       "      <td>NaN</td>\n",
       "      <td>NaN</td>\n",
       "      <td>T</td>\n",
       "      <td>13.82</td>\n",
       "    </tr>\n",
       "    <tr>\n",
       "      <th>34</th>\n",
       "      <td>Call of Duty: Black Ops II</td>\n",
       "      <td>PS3</td>\n",
       "      <td>2012.0</td>\n",
       "      <td>Shooter</td>\n",
       "      <td>4.99</td>\n",
       "      <td>5.73</td>\n",
       "      <td>0.65</td>\n",
       "      <td>2.42</td>\n",
       "      <td>83.0</td>\n",
       "      <td>5.3</td>\n",
       "      <td>M</td>\n",
       "      <td>11.37</td>\n",
       "    </tr>\n",
       "  </tbody>\n",
       "</table>\n",
       "</div>"
      ],
      "text/plain": [
       "                          name platform  year_of_release         genre  \\\n",
       "16          Grand Theft Auto V      PS3           2013.0        Action   \n",
       "23          Grand Theft Auto V     X360           2013.0        Action   \n",
       "31   Call of Duty: Black Ops 3      PS4           2015.0       Shooter   \n",
       "33         Pokemon X/Pokemon Y      3DS           2013.0  Role-Playing   \n",
       "34  Call of Duty: Black Ops II      PS3           2012.0       Shooter   \n",
       "\n",
       "    na_sales  eu_sales  jp_sales  other_sales  critic_score  user_score  \\\n",
       "16      7.02      9.09      0.98         3.96          97.0         8.2   \n",
       "23      9.66      5.14      0.06         1.41          97.0         8.1   \n",
       "31      6.03      5.86      0.36         2.38           NaN         NaN   \n",
       "33      5.28      4.19      4.35         0.78           NaN         NaN   \n",
       "34      4.99      5.73      0.65         2.42          83.0         5.3   \n",
       "\n",
       "   rating  total_sales  \n",
       "16      M        17.09  \n",
       "23      M        14.86  \n",
       "31      M        12.25  \n",
       "33      T        13.82  \n",
       "34      M        11.37  "
      ]
     },
     "execution_count": 181,
     "metadata": {},
     "output_type": "execute_result"
    }
   ],
   "source": [
    "# Definimos las 5 plataformas lideres en ventas por región.\n",
    "good_games_df.head()"
   ]
  },
  {
   "cell_type": "code",
   "execution_count": 182,
   "metadata": {},
   "outputs": [
    {
     "data": {
      "text/html": [
       "<div>\n",
       "<style scoped>\n",
       "    .dataframe tbody tr th:only-of-type {\n",
       "        vertical-align: middle;\n",
       "    }\n",
       "\n",
       "    .dataframe tbody tr th {\n",
       "        vertical-align: top;\n",
       "    }\n",
       "\n",
       "    .dataframe thead th {\n",
       "        text-align: right;\n",
       "    }\n",
       "</style>\n",
       "<table border=\"1\" class=\"dataframe\">\n",
       "  <thead>\n",
       "    <tr style=\"text-align: right;\">\n",
       "      <th></th>\n",
       "      <th>na_sales</th>\n",
       "      <th>na_quote</th>\n",
       "    </tr>\n",
       "    <tr>\n",
       "      <th>platform</th>\n",
       "      <th></th>\n",
       "      <th></th>\n",
       "    </tr>\n",
       "  </thead>\n",
       "  <tbody>\n",
       "    <tr>\n",
       "      <th>X360</th>\n",
       "      <td>140.05</td>\n",
       "      <td>27.98</td>\n",
       "    </tr>\n",
       "    <tr>\n",
       "      <th>PS4</th>\n",
       "      <td>108.74</td>\n",
       "      <td>21.72</td>\n",
       "    </tr>\n",
       "    <tr>\n",
       "      <th>PS3</th>\n",
       "      <td>103.38</td>\n",
       "      <td>20.65</td>\n",
       "    </tr>\n",
       "    <tr>\n",
       "      <th>XOne</th>\n",
       "      <td>93.12</td>\n",
       "      <td>18.60</td>\n",
       "    </tr>\n",
       "    <tr>\n",
       "      <th>3DS</th>\n",
       "      <td>55.31</td>\n",
       "      <td>11.05</td>\n",
       "    </tr>\n",
       "  </tbody>\n",
       "</table>\n",
       "</div>"
      ],
      "text/plain": [
       "          na_sales  na_quote\n",
       "platform                    \n",
       "X360        140.05     27.98\n",
       "PS4         108.74     21.72\n",
       "PS3         103.38     20.65\n",
       "XOne         93.12     18.60\n",
       "3DS          55.31     11.05"
      ]
     },
     "execution_count": 182,
     "metadata": {},
     "output_type": "execute_result"
    }
   ],
   "source": [
    "# Definimos las 5 plataformas con mas ventas en 'NA'\n",
    "top_plat_NA = (good_games_df\n",
    "            .pivot_table(index= 'platform', values= 'na_sales', aggfunc= 'sum')\n",
    "            .sort_values(by= 'na_sales', ascending= False)\n",
    "            .head(5))\n",
    "\n",
    "top_plat_NA['na_quote'] = (top_plat_NA['na_sales'] /  top_plat_NA['na_sales'].sum()) *100\n",
    "top_plat_NA['na_quote'] = top_plat_NA['na_quote'].round(decimals= 2)\n",
    "top_plat_NA"
   ]
  },
  {
   "cell_type": "code",
   "execution_count": 183,
   "metadata": {},
   "outputs": [
    {
     "data": {
      "text/html": [
       "<div>\n",
       "<style scoped>\n",
       "    .dataframe tbody tr th:only-of-type {\n",
       "        vertical-align: middle;\n",
       "    }\n",
       "\n",
       "    .dataframe tbody tr th {\n",
       "        vertical-align: top;\n",
       "    }\n",
       "\n",
       "    .dataframe thead th {\n",
       "        text-align: right;\n",
       "    }\n",
       "</style>\n",
       "<table border=\"1\" class=\"dataframe\">\n",
       "  <thead>\n",
       "    <tr style=\"text-align: right;\">\n",
       "      <th></th>\n",
       "      <th>eu_sales</th>\n",
       "      <th>eu_quote</th>\n",
       "    </tr>\n",
       "    <tr>\n",
       "      <th>platform</th>\n",
       "      <th></th>\n",
       "      <th></th>\n",
       "    </tr>\n",
       "  </thead>\n",
       "  <tbody>\n",
       "    <tr>\n",
       "      <th>PS4</th>\n",
       "      <td>141.09</td>\n",
       "      <td>33.86</td>\n",
       "    </tr>\n",
       "    <tr>\n",
       "      <th>PS3</th>\n",
       "      <td>106.86</td>\n",
       "      <td>25.64</td>\n",
       "    </tr>\n",
       "    <tr>\n",
       "      <th>X360</th>\n",
       "      <td>74.52</td>\n",
       "      <td>17.88</td>\n",
       "    </tr>\n",
       "    <tr>\n",
       "      <th>XOne</th>\n",
       "      <td>51.59</td>\n",
       "      <td>12.38</td>\n",
       "    </tr>\n",
       "    <tr>\n",
       "      <th>3DS</th>\n",
       "      <td>42.64</td>\n",
       "      <td>10.23</td>\n",
       "    </tr>\n",
       "  </tbody>\n",
       "</table>\n",
       "</div>"
      ],
      "text/plain": [
       "          eu_sales  eu_quote\n",
       "platform                    \n",
       "PS4         141.09     33.86\n",
       "PS3         106.86     25.64\n",
       "X360         74.52     17.88\n",
       "XOne         51.59     12.38\n",
       "3DS          42.64     10.23"
      ]
     },
     "execution_count": 183,
     "metadata": {},
     "output_type": "execute_result"
    }
   ],
   "source": [
    "# Definimos las 5 plataformas con mas ventas en 'EU'\n",
    "top_plat_EU = (good_games_df\n",
    "            .pivot_table(index= 'platform', values= 'eu_sales', aggfunc= 'sum')\n",
    "            .sort_values(by= 'eu_sales', ascending= False)\n",
    "            .head())\n",
    "\n",
    "top_plat_EU['eu_quote'] = (top_plat_EU['eu_sales'] /  top_plat_EU['eu_sales'].sum()) *100\n",
    "top_plat_EU['eu_quote'] = top_plat_EU['eu_quote'].round(decimals= 2)\n",
    "top_plat_EU"
   ]
  },
  {
   "cell_type": "code",
   "execution_count": 184,
   "metadata": {},
   "outputs": [
    {
     "data": {
      "text/html": [
       "<div>\n",
       "<style scoped>\n",
       "    .dataframe tbody tr th:only-of-type {\n",
       "        vertical-align: middle;\n",
       "    }\n",
       "\n",
       "    .dataframe tbody tr th {\n",
       "        vertical-align: top;\n",
       "    }\n",
       "\n",
       "    .dataframe thead th {\n",
       "        text-align: right;\n",
       "    }\n",
       "</style>\n",
       "<table border=\"1\" class=\"dataframe\">\n",
       "  <thead>\n",
       "    <tr style=\"text-align: right;\">\n",
       "      <th></th>\n",
       "      <th>jp_sales</th>\n",
       "      <th>jp_quote</th>\n",
       "    </tr>\n",
       "    <tr>\n",
       "      <th>platform</th>\n",
       "      <th></th>\n",
       "      <th></th>\n",
       "    </tr>\n",
       "  </thead>\n",
       "  <tbody>\n",
       "    <tr>\n",
       "      <th>3DS</th>\n",
       "      <td>87.79</td>\n",
       "      <td>50.72</td>\n",
       "    </tr>\n",
       "    <tr>\n",
       "      <th>PS3</th>\n",
       "      <td>35.29</td>\n",
       "      <td>20.39</td>\n",
       "    </tr>\n",
       "    <tr>\n",
       "      <th>PSV</th>\n",
       "      <td>21.04</td>\n",
       "      <td>12.16</td>\n",
       "    </tr>\n",
       "    <tr>\n",
       "      <th>PS4</th>\n",
       "      <td>15.96</td>\n",
       "      <td>9.22</td>\n",
       "    </tr>\n",
       "    <tr>\n",
       "      <th>WiiU</th>\n",
       "      <td>13.01</td>\n",
       "      <td>7.52</td>\n",
       "    </tr>\n",
       "  </tbody>\n",
       "</table>\n",
       "</div>"
      ],
      "text/plain": [
       "          jp_sales  jp_quote\n",
       "platform                    \n",
       "3DS          87.79     50.72\n",
       "PS3          35.29     20.39\n",
       "PSV          21.04     12.16\n",
       "PS4          15.96      9.22\n",
       "WiiU         13.01      7.52"
      ]
     },
     "execution_count": 184,
     "metadata": {},
     "output_type": "execute_result"
    }
   ],
   "source": [
    "# Definimos las 5 plataformas con mas ventas en 'JP'\n",
    "top_plat_JP = (good_games_df\n",
    "            .pivot_table(index= 'platform', values= 'jp_sales', aggfunc= 'sum')\n",
    "            .sort_values(by= 'jp_sales', ascending= False)\n",
    "            .head())\n",
    "\n",
    "top_plat_JP['jp_quote'] = (top_plat_JP['jp_sales'] /  top_plat_JP['jp_sales'].sum()) *100\n",
    "top_plat_JP['jp_quote'] = top_plat_JP['jp_quote'].round(decimals= 2)\n",
    "top_plat_JP"
   ]
  },
  {
   "cell_type": "markdown",
   "metadata": {},
   "source": [
    "Una vez definidas las plataformas mas importantes para cada región analizaremos la las cuotas de mercados para cada una.\n"
   ]
  },
  {
   "cell_type": "code",
   "execution_count": 185,
   "metadata": {},
   "outputs": [
    {
     "data": {
      "image/png": "[encoded data removed]",
      "text/plain": [
       "<Figure size 1152x648 with 1 Axes>"
      ]
     },
     "metadata": {
      "needs_background": "light"
     },
     "output_type": "display_data"
    }
   ],
   "source": [
    "# Unimos las tablas para realizar un análisis \n",
    "\n",
    "(top_plat_NA\n",
    "            .join(top_plat_EU, how= 'outer')\n",
    "            .join(top_plat_JP, how= 'outer')[['na_quote', 'eu_quote', 'jp_quote']]\n",
    "            .transpose()\n",
    "            .plot(kind= 'bar', stacked= True, grid= True, figsize= (16, 9), legend= True))\n",
    "\n",
    "plt.title('CUOTA DE MERCADO DE PLATAFORMAS POR REGÓN')\n",
    "plt.show()"
   ]
  },
  {
   "cell_type": "markdown",
   "metadata": {},
   "source": [
    "**Conclusiones:**\n",
    "\n",
    "- Podemos observar que la plataforma 'PS2' es igual de popular en las tres regiones.\n",
    "\n",
    "\n",
    "- Los usuarios de las regiones NA y EU tiene las mismas preferencias, a excepcion de PS3 que tiene mayor cuota de mercados en EU y X360 que es preferida en NA.\n",
    "\n",
    "\n",
    "- En la región JP tienen mayor cuota de mercado las plataformas DS y 3DS, además existe la plataforma psp la cual no aperece en NA y EU. Estas plataformas son dispositivos portátiles, esto nos dice mucho de la personalidad de los usuarios de la región JP.\n"
   ]
  },
  {
   "cell_type": "markdown",
   "metadata": {},
   "source": [
    "## Principales generos por región"
   ]
  },
  {
   "cell_type": "code",
   "execution_count": 186,
   "metadata": {},
   "outputs": [
    {
     "data": {
      "text/html": [
       "<div>\n",
       "<style scoped>\n",
       "    .dataframe tbody tr th:only-of-type {\n",
       "        vertical-align: middle;\n",
       "    }\n",
       "\n",
       "    .dataframe tbody tr th {\n",
       "        vertical-align: top;\n",
       "    }\n",
       "\n",
       "    .dataframe thead th {\n",
       "        text-align: right;\n",
       "    }\n",
       "</style>\n",
       "<table border=\"1\" class=\"dataframe\">\n",
       "  <thead>\n",
       "    <tr style=\"text-align: right;\">\n",
       "      <th></th>\n",
       "      <th>na_sales</th>\n",
       "      <th>na_quote</th>\n",
       "    </tr>\n",
       "    <tr>\n",
       "      <th>genre</th>\n",
       "      <th></th>\n",
       "      <th></th>\n",
       "    </tr>\n",
       "  </thead>\n",
       "  <tbody>\n",
       "    <tr>\n",
       "      <th>Action</th>\n",
       "      <td>177.84</td>\n",
       "      <td>35.12</td>\n",
       "    </tr>\n",
       "    <tr>\n",
       "      <th>Shooter</th>\n",
       "      <td>144.77</td>\n",
       "      <td>28.59</td>\n",
       "    </tr>\n",
       "    <tr>\n",
       "      <th>Sports</th>\n",
       "      <td>81.53</td>\n",
       "      <td>16.10</td>\n",
       "    </tr>\n",
       "    <tr>\n",
       "      <th>Role-Playing</th>\n",
       "      <td>64.00</td>\n",
       "      <td>12.64</td>\n",
       "    </tr>\n",
       "    <tr>\n",
       "      <th>Misc</th>\n",
       "      <td>38.19</td>\n",
       "      <td>7.54</td>\n",
       "    </tr>\n",
       "  </tbody>\n",
       "</table>\n",
       "</div>"
      ],
      "text/plain": [
       "              na_sales  na_quote\n",
       "genre                           \n",
       "Action          177.84     35.12\n",
       "Shooter         144.77     28.59\n",
       "Sports           81.53     16.10\n",
       "Role-Playing     64.00     12.64\n",
       "Misc             38.19      7.54"
      ]
     },
     "execution_count": 186,
     "metadata": {},
     "output_type": "execute_result"
    }
   ],
   "source": [
    "# Definimos las 5 generos con mas ventas en 'NA'\n",
    "top_gen_NA = (good_games_df\n",
    "            .pivot_table(index= 'genre', values= 'na_sales', aggfunc= 'sum')\n",
    "            .sort_values(by= 'na_sales', ascending= False)\n",
    "            .head(5))\n",
    "\n",
    "top_gen_NA['na_quote'] = (top_gen_NA['na_sales'] /  top_gen_NA['na_sales'].sum()) *100\n",
    "top_gen_NA['na_quote'] = top_gen_NA['na_quote'].round(decimals= 2)\n",
    "top_gen_NA"
   ]
  },
  {
   "cell_type": "code",
   "execution_count": 187,
   "metadata": {},
   "outputs": [
    {
     "data": {
      "text/html": [
       "<div>\n",
       "<style scoped>\n",
       "    .dataframe tbody tr th:only-of-type {\n",
       "        vertical-align: middle;\n",
       "    }\n",
       "\n",
       "    .dataframe tbody tr th {\n",
       "        vertical-align: top;\n",
       "    }\n",
       "\n",
       "    .dataframe thead th {\n",
       "        text-align: right;\n",
       "    }\n",
       "</style>\n",
       "<table border=\"1\" class=\"dataframe\">\n",
       "  <thead>\n",
       "    <tr style=\"text-align: right;\">\n",
       "      <th></th>\n",
       "      <th>eu_sales</th>\n",
       "      <th>eu_quote</th>\n",
       "    </tr>\n",
       "    <tr>\n",
       "      <th>genre</th>\n",
       "      <th></th>\n",
       "      <th></th>\n",
       "    </tr>\n",
       "  </thead>\n",
       "  <tbody>\n",
       "    <tr>\n",
       "      <th>Action</th>\n",
       "      <td>159.34</td>\n",
       "      <td>38.15</td>\n",
       "    </tr>\n",
       "    <tr>\n",
       "      <th>Shooter</th>\n",
       "      <td>113.47</td>\n",
       "      <td>27.16</td>\n",
       "    </tr>\n",
       "    <tr>\n",
       "      <th>Sports</th>\n",
       "      <td>69.09</td>\n",
       "      <td>16.54</td>\n",
       "    </tr>\n",
       "    <tr>\n",
       "      <th>Role-Playing</th>\n",
       "      <td>48.53</td>\n",
       "      <td>11.62</td>\n",
       "    </tr>\n",
       "    <tr>\n",
       "      <th>Racing</th>\n",
       "      <td>27.29</td>\n",
       "      <td>6.53</td>\n",
       "    </tr>\n",
       "  </tbody>\n",
       "</table>\n",
       "</div>"
      ],
      "text/plain": [
       "              eu_sales  eu_quote\n",
       "genre                           \n",
       "Action          159.34     38.15\n",
       "Shooter         113.47     27.16\n",
       "Sports           69.09     16.54\n",
       "Role-Playing     48.53     11.62\n",
       "Racing           27.29      6.53"
      ]
     },
     "execution_count": 187,
     "metadata": {},
     "output_type": "execute_result"
    }
   ],
   "source": [
    "# Definimos las 5 generos con mas ventas en 'EU'\n",
    "top_gen_EU = (good_games_df\n",
    "            .pivot_table(index= 'genre', values= 'eu_sales', aggfunc= 'sum')\n",
    "            .sort_values(by= 'eu_sales', ascending= False)\n",
    "            .head(5))\n",
    "\n",
    "top_gen_EU['eu_quote'] = (top_gen_EU['eu_sales'] /  top_gen_EU['eu_sales'].sum()) *100\n",
    "top_gen_EU['eu_quote'] = top_gen_EU['eu_quote'].round(decimals= 2)\n",
    "top_gen_EU"
   ]
  },
  {
   "cell_type": "code",
   "execution_count": 188,
   "metadata": {},
   "outputs": [
    {
     "data": {
      "text/html": [
       "<div>\n",
       "<style scoped>\n",
       "    .dataframe tbody tr th:only-of-type {\n",
       "        vertical-align: middle;\n",
       "    }\n",
       "\n",
       "    .dataframe tbody tr th {\n",
       "        vertical-align: top;\n",
       "    }\n",
       "\n",
       "    .dataframe thead th {\n",
       "        text-align: right;\n",
       "    }\n",
       "</style>\n",
       "<table border=\"1\" class=\"dataframe\">\n",
       "  <thead>\n",
       "    <tr style=\"text-align: right;\">\n",
       "      <th></th>\n",
       "      <th>jp_sales</th>\n",
       "      <th>jp_quote</th>\n",
       "    </tr>\n",
       "    <tr>\n",
       "      <th>genre</th>\n",
       "      <th></th>\n",
       "      <th></th>\n",
       "    </tr>\n",
       "  </thead>\n",
       "  <tbody>\n",
       "    <tr>\n",
       "      <th>Role-Playing</th>\n",
       "      <td>65.44</td>\n",
       "      <td>43.35</td>\n",
       "    </tr>\n",
       "    <tr>\n",
       "      <th>Action</th>\n",
       "      <td>52.80</td>\n",
       "      <td>34.98</td>\n",
       "    </tr>\n",
       "    <tr>\n",
       "      <th>Misc</th>\n",
       "      <td>12.86</td>\n",
       "      <td>8.52</td>\n",
       "    </tr>\n",
       "    <tr>\n",
       "      <th>Simulation</th>\n",
       "      <td>10.41</td>\n",
       "      <td>6.90</td>\n",
       "    </tr>\n",
       "    <tr>\n",
       "      <th>Fighting</th>\n",
       "      <td>9.44</td>\n",
       "      <td>6.25</td>\n",
       "    </tr>\n",
       "  </tbody>\n",
       "</table>\n",
       "</div>"
      ],
      "text/plain": [
       "              jp_sales  jp_quote\n",
       "genre                           \n",
       "Role-Playing     65.44     43.35\n",
       "Action           52.80     34.98\n",
       "Misc             12.86      8.52\n",
       "Simulation       10.41      6.90\n",
       "Fighting          9.44      6.25"
      ]
     },
     "execution_count": 188,
     "metadata": {},
     "output_type": "execute_result"
    }
   ],
   "source": [
    "# Definimos las 5 generos con mas ventas en 'JP'\n",
    "top_gen_JP = (good_games_df\n",
    "            .pivot_table(index= 'genre', values= 'jp_sales', aggfunc= 'sum')\n",
    "            .sort_values(by= 'jp_sales', ascending= False)\n",
    "            .head(5))\n",
    "\n",
    "top_gen_JP['jp_quote'] = (top_gen_JP['jp_sales'] /  top_gen_JP['jp_sales'].sum()) *100\n",
    "top_gen_JP['jp_quote'] = top_gen_JP['jp_quote'].round(decimals= 2)\n",
    "top_gen_JP"
   ]
  },
  {
   "cell_type": "code",
   "execution_count": 189,
   "metadata": {},
   "outputs": [
    {
     "data": {
      "image/png": "[encoded data removed]",
      "text/plain": [
       "<Figure size 1152x648 with 1 Axes>"
      ]
     },
     "metadata": {
      "needs_background": "light"
     },
     "output_type": "display_data"
    }
   ],
   "source": [
    "(top_gen_NA\n",
    "            .join(top_gen_EU, how= 'outer')\n",
    "            .join(top_gen_JP, how= 'outer')[['na_quote', 'eu_quote', 'jp_quote']]\n",
    "            .transpose()\n",
    "            .plot(kind= 'bar', stacked= True, grid= True, figsize= (16, 9), legend= True))\n",
    "\n",
    "plt.title('CUOTA DE MERCADO DE GÉNERO POR REGÓN')\n",
    "plt.show()"
   ]
  },
  {
   "cell_type": "markdown",
   "metadata": {},
   "source": [
    "**Conclusiones:**\n",
    "\n",
    "- Se puede concluir que en las regiones NA y EU las preferencias son similares, para los géneros sports, shooter, action y misc, la cuota de mercado es casi la misma, sin embargo NA prefiere role playing y EU prefiere racing.\n",
    "\n",
    "\n",
    "- Nuevamente la región JP es muy diferente a las otras dos regiones hablando de preferencias por género, la maypría de usuarios en JP prefiere videojuegos del género role-playing, y aparece un género que en las otras dos regiones no está presente, que es platform.\n",
    "\n",
    "\n",
    "- El género Misc tiene una cuota de mercado similar para las tres regiones, esto nos dice que es un género que satisface a cualquier usuario.\n",
    "\n",
    "\n",
    "- El género shooter el cual tiene una porción importante en la cuota de mercado en las regiones NA y EU, no está presente en la región JP, esto nos indica la clara diferencia cultural que tiene JP frente a las otras dos regiones."
   ]
  },
  {
   "cell_type": "markdown",
   "metadata": {},
   "source": [
    "## Influencia de calificaciones ESRB sobre ventas en cada región."
   ]
  },
  {
   "cell_type": "markdown",
   "metadata": {},
   "source": [
    "Par definir si existe influencia de las calificaciones ESRB sobre las ventas, debemos calcular si existe alguna correlación entre estas variables.\n",
    "\n",
    "Para este tenemos que representar de forma numérica las calificaciones ESRB, le haremos de esta manera.\n",
    "\n",
    "none ->  0\n",
    "E    ->  1\n",
    "M    ->  2\n",
    "T    ->  3\n",
    "E10+ ->  4\n",
    "AO   ->  5\n",
    "EC   ->  6\n",
    "RP   ->  7"
   ]
  },
  {
   "cell_type": "code",
   "execution_count": 190,
   "metadata": {},
   "outputs": [],
   "source": [
    "#Definimos un función para asignar estas variables.\n",
    "def rating_num (row):\n",
    "    \n",
    "    if row == 'E':\n",
    "        return 1\n",
    "    elif row == 'M':\n",
    "        return 2\n",
    "    elif row == 'T':\n",
    "        return 3\n",
    "    elif row == 'E10+':\n",
    "        return 4\n",
    "    elif row == 'AO':\n",
    "        return 5\n",
    "    elif row == 'EC':\n",
    "        return 6\n",
    "    elif row == 'rp':\n",
    "        return 7\n",
    "    else:\n",
    "        return 0\n",
    "    "
   ]
  },
  {
   "cell_type": "code",
   "execution_count": 191,
   "metadata": {},
   "outputs": [
    {
     "name": "stderr",
     "output_type": "stream",
     "text": [
      "/tmp/ipykernel_27/3220255525.py:2: SettingWithCopyWarning: \n",
      "A value is trying to be set on a copy of a slice from a DataFrame.\n",
      "Try using .loc[row_indexer,col_indexer] = value instead\n",
      "\n",
      "See the caveats in the documentation: https://pandas.pydata.org/pandas-docs/stable/user_guide/indexing.html#returning-a-view-versus-a-copy\n",
      "  good_games_df['rating_num'] = good_games_df['rating'].apply(rating_num)\n"
     ]
    },
    {
     "data": {
      "text/html": [
       "<div>\n",
       "<style scoped>\n",
       "    .dataframe tbody tr th:only-of-type {\n",
       "        vertical-align: middle;\n",
       "    }\n",
       "\n",
       "    .dataframe tbody tr th {\n",
       "        vertical-align: top;\n",
       "    }\n",
       "\n",
       "    .dataframe thead th {\n",
       "        text-align: right;\n",
       "    }\n",
       "</style>\n",
       "<table border=\"1\" class=\"dataframe\">\n",
       "  <thead>\n",
       "    <tr style=\"text-align: right;\">\n",
       "      <th></th>\n",
       "      <th>name</th>\n",
       "      <th>platform</th>\n",
       "      <th>year_of_release</th>\n",
       "      <th>genre</th>\n",
       "      <th>na_sales</th>\n",
       "      <th>eu_sales</th>\n",
       "      <th>jp_sales</th>\n",
       "      <th>other_sales</th>\n",
       "      <th>critic_score</th>\n",
       "      <th>user_score</th>\n",
       "      <th>rating</th>\n",
       "      <th>total_sales</th>\n",
       "      <th>rating_num</th>\n",
       "    </tr>\n",
       "  </thead>\n",
       "  <tbody>\n",
       "    <tr>\n",
       "      <th>16</th>\n",
       "      <td>Grand Theft Auto V</td>\n",
       "      <td>PS3</td>\n",
       "      <td>2013.0</td>\n",
       "      <td>Action</td>\n",
       "      <td>7.02</td>\n",
       "      <td>9.09</td>\n",
       "      <td>0.98</td>\n",
       "      <td>3.96</td>\n",
       "      <td>97.0</td>\n",
       "      <td>8.2</td>\n",
       "      <td>M</td>\n",
       "      <td>17.09</td>\n",
       "      <td>2</td>\n",
       "    </tr>\n",
       "    <tr>\n",
       "      <th>23</th>\n",
       "      <td>Grand Theft Auto V</td>\n",
       "      <td>X360</td>\n",
       "      <td>2013.0</td>\n",
       "      <td>Action</td>\n",
       "      <td>9.66</td>\n",
       "      <td>5.14</td>\n",
       "      <td>0.06</td>\n",
       "      <td>1.41</td>\n",
       "      <td>97.0</td>\n",
       "      <td>8.1</td>\n",
       "      <td>M</td>\n",
       "      <td>14.86</td>\n",
       "      <td>2</td>\n",
       "    </tr>\n",
       "    <tr>\n",
       "      <th>31</th>\n",
       "      <td>Call of Duty: Black Ops 3</td>\n",
       "      <td>PS4</td>\n",
       "      <td>2015.0</td>\n",
       "      <td>Shooter</td>\n",
       "      <td>6.03</td>\n",
       "      <td>5.86</td>\n",
       "      <td>0.36</td>\n",
       "      <td>2.38</td>\n",
       "      <td>NaN</td>\n",
       "      <td>NaN</td>\n",
       "      <td>M</td>\n",
       "      <td>12.25</td>\n",
       "      <td>2</td>\n",
       "    </tr>\n",
       "    <tr>\n",
       "      <th>33</th>\n",
       "      <td>Pokemon X/Pokemon Y</td>\n",
       "      <td>3DS</td>\n",
       "      <td>2013.0</td>\n",
       "      <td>Role-Playing</td>\n",
       "      <td>5.28</td>\n",
       "      <td>4.19</td>\n",
       "      <td>4.35</td>\n",
       "      <td>0.78</td>\n",
       "      <td>NaN</td>\n",
       "      <td>NaN</td>\n",
       "      <td>T</td>\n",
       "      <td>13.82</td>\n",
       "      <td>3</td>\n",
       "    </tr>\n",
       "    <tr>\n",
       "      <th>34</th>\n",
       "      <td>Call of Duty: Black Ops II</td>\n",
       "      <td>PS3</td>\n",
       "      <td>2012.0</td>\n",
       "      <td>Shooter</td>\n",
       "      <td>4.99</td>\n",
       "      <td>5.73</td>\n",
       "      <td>0.65</td>\n",
       "      <td>2.42</td>\n",
       "      <td>83.0</td>\n",
       "      <td>5.3</td>\n",
       "      <td>M</td>\n",
       "      <td>11.37</td>\n",
       "      <td>2</td>\n",
       "    </tr>\n",
       "  </tbody>\n",
       "</table>\n",
       "</div>"
      ],
      "text/plain": [
       "                          name platform  year_of_release         genre  \\\n",
       "16          Grand Theft Auto V      PS3           2013.0        Action   \n",
       "23          Grand Theft Auto V     X360           2013.0        Action   \n",
       "31   Call of Duty: Black Ops 3      PS4           2015.0       Shooter   \n",
       "33         Pokemon X/Pokemon Y      3DS           2013.0  Role-Playing   \n",
       "34  Call of Duty: Black Ops II      PS3           2012.0       Shooter   \n",
       "\n",
       "    na_sales  eu_sales  jp_sales  other_sales  critic_score  user_score  \\\n",
       "16      7.02      9.09      0.98         3.96          97.0         8.2   \n",
       "23      9.66      5.14      0.06         1.41          97.0         8.1   \n",
       "31      6.03      5.86      0.36         2.38           NaN         NaN   \n",
       "33      5.28      4.19      4.35         0.78           NaN         NaN   \n",
       "34      4.99      5.73      0.65         2.42          83.0         5.3   \n",
       "\n",
       "   rating  total_sales  rating_num  \n",
       "16      M        17.09           2  \n",
       "23      M        14.86           2  \n",
       "31      M        12.25           2  \n",
       "33      T        13.82           3  \n",
       "34      M        11.37           2  "
      ]
     },
     "execution_count": 191,
     "metadata": {},
     "output_type": "execute_result"
    }
   ],
   "source": [
    "# Creamos la columna numérica\n",
    "good_games_df['rating_num'] = good_games_df['rating'].apply(rating_num)\n",
    "good_games_df.head()"
   ]
  },
  {
   "cell_type": "code",
   "execution_count": 133,
   "metadata": {},
   "outputs": [
    {
     "name": "stdout",
     "output_type": "stream",
     "text": [
      "<class 'pandas.core.frame.DataFrame'>\n",
      "Int64Index: 13638 entries, 0 to 16714\n",
      "Data columns (total 13 columns):\n",
      " #   Column           Non-Null Count  Dtype  \n",
      "---  ------           --------------  -----  \n",
      " 0   name             13638 non-null  object \n",
      " 1   platform         13638 non-null  object \n",
      " 2   year_of_release  13638 non-null  float64\n",
      " 3   genre            13638 non-null  object \n",
      " 4   na_sales         13638 non-null  float64\n",
      " 5   eu_sales         13638 non-null  float64\n",
      " 6   jp_sales         13638 non-null  float64\n",
      " 7   other_sales      13638 non-null  float64\n",
      " 8   critic_score     13638 non-null  float64\n",
      " 9   user_score       13638 non-null  float64\n",
      " 10  rating           13638 non-null  object \n",
      " 11  total_sales      13638 non-null  float64\n",
      " 12  rating_num       13638 non-null  int64  \n",
      "dtypes: float64(8), int64(1), object(4)\n",
      "memory usage: 1.5+ MB\n"
     ]
    }
   ],
   "source": [
    "good_games_df.info()"
   ]
  },
  {
   "cell_type": "code",
   "execution_count": 192,
   "metadata": {},
   "outputs": [
    {
     "data": {
      "image/png": "[encoded data removed]",
      "text/plain": [
       "<Figure size 1152x648 with 1 Axes>"
      ]
     },
     "metadata": {
      "needs_background": "light"
     },
     "output_type": "display_data"
    },
    {
     "name": "stdout",
     "output_type": "stream",
     "text": [
      "La correlación entre ventas en NA y califición ESRB es: -0.03003087902565971\n",
      "\n",
      "\n",
      "\n",
      "\n",
      "\n",
      "\n",
      "------------------------------------------------------------------------------------------------------------------------\n",
      "\n",
      "\n",
      "\n",
      "\n",
      "\n",
      "\n"
     ]
    },
    {
     "data": {
      "image/png": "[encoded data removed]",
      "text/plain": [
       "<Figure size 1152x648 with 1 Axes>"
      ]
     },
     "metadata": {
      "needs_background": "light"
     },
     "output_type": "display_data"
    },
    {
     "name": "stdout",
     "output_type": "stream",
     "text": [
      "La correlación entre ventas en EU y califición ESRB es: -0.06409845148517504\n",
      "\n",
      "\n",
      "\n",
      "\n",
      "\n",
      "\n",
      "------------------------------------------------------------------------------------------------------------------------\n",
      "\n",
      "\n",
      "\n",
      "\n",
      "\n",
      "\n"
     ]
    },
    {
     "data": {
      "image/png": "[encoded data removed]",
      "text/plain": [
       "<Figure size 1152x648 with 1 Axes>"
      ]
     },
     "metadata": {
      "needs_background": "light"
     },
     "output_type": "display_data"
    },
    {
     "name": "stdout",
     "output_type": "stream",
     "text": [
      "La correlación entre ventas en JP y califición ESRB es: 0.017301578211779477\n",
      "\n",
      "\n",
      "\n",
      "\n",
      "\n",
      "\n",
      "------------------------------------------------------------------------------------------------------------------------\n",
      "\n",
      "\n",
      "\n",
      "\n",
      "\n",
      "\n"
     ]
    }
   ],
   "source": [
    "#Visualizamos un gráfico de dispersión e imprimimos la correlación de las tres regiones con las ventas.\n",
    "regions = ['na_sales', 'eu_sales', 'jp_sales']\n",
    "for region in regions:\n",
    "    \n",
    "    (good_games_df\n",
    "            .pivot_table(index= 'rating_num', values= region, aggfunc= 'sum')\n",
    "            .sort_values(by= region, ascending= False)\n",
    "            .head(3)\n",
    "            .plot(kind= 'bar', grid= True, figsize= (16, 9)))\n",
    "\n",
    "    plt.title(f'CORRELACIÓN ENTRE CALIFICACIÓN Y VENTAS {region[:2].upper()}')\n",
    "    plt.show()\n",
    "\n",
    "    cor = good_games_df['rating_num'].corr(good_games_df[region])\n",
    "\n",
    "    print(f'La correlación entre ventas en {region[:2].upper()} y califición ESRB es: {cor}')\n",
    "    print('\\n'* 5)\n",
    "    print('--'*60)\n",
    "    print('\\n' *5)"
   ]
  },
  {
   "cell_type": "markdown",
   "metadata": {},
   "source": [
    "**Conclusiones:**\n",
    "\n",
    "- No se encontró ninguna correlación significativa para las regiones y las calificaciones ESRB."
   ]
  },
  {
   "cell_type": "markdown",
   "metadata": {},
   "source": [
    "# Prueba de hipótesis"
   ]
  },
  {
   "cell_type": "markdown",
   "metadata": {},
   "source": [
    "## Hipótesis 1"
   ]
  },
  {
   "cell_type": "markdown",
   "metadata": {},
   "source": [
    "Hipótesis nula H0: Las calificaciones promedio de los usuarios para las plataformas Xbox One y PC son las mismas.\n",
    "Hipótesis alterna: Las calificaciones promedio de los usuarios para las plataformas Xbox One y PC no son las mismas."
   ]
  },
  {
   "cell_type": "code",
   "execution_count": 232,
   "metadata": {},
   "outputs": [],
   "source": [
    "# Definimos nuestras datos.\n",
    "\n",
    "cali_xbox = good_games_df.query('platform == \"XOne\"')['user_score']\n",
    "cali_xbox = cali_xbox.dropna().reset_index(drop= True)\n",
    "\n",
    "cali_pc = good_games_df.query('platform == \"PC\"')['user_score']\n",
    "cali_pc = cali_pc.dropna().reset_index(drop= True)\n"
   ]
  },
  {
   "cell_type": "code",
   "execution_count": 221,
   "metadata": {},
   "outputs": [
    {
     "data": {
      "image/png": "[encoded data removed]",
      "text/plain": [
       "<Figure size 1080x288 with 2 Axes>"
      ]
     },
     "metadata": {
      "needs_background": "light"
     },
     "output_type": "display_data"
    }
   ],
   "source": [
    "#Verificamos la la distribución de ambas muestras\n",
    "\n",
    "plt.rcParams[\"figure.figsize\"] = [10, 3.50]\n",
    "plt.rcParams[\"figure.autolayout\"] = True\n",
    "\n",
    "fig, axes = plt.subplots(1, 2)\n",
    "\n",
    "cali_xbox.plot(kind= 'hist', figsize= (15, 4), bins= 20, ax=axes[0])\n",
    "\n",
    "cali_pc.plot(kind= 'hist', figsize= (15, 4), bins= 30, ax=axes[1])\n",
    "\n",
    "\n",
    "plt.show()\n"
   ]
  },
  {
   "cell_type": "markdown",
   "metadata": {},
   "source": [
    "**Conclusiones:**\n",
    "\n",
    "- Ambas muestras tienen distribución normal."
   ]
  },
  {
   "cell_type": "code",
   "execution_count": 223,
   "metadata": {},
   "outputs": [
    {
     "name": "stdout",
     "output_type": "stream",
     "text": [
      "0.011466672869387766\n"
     ]
    }
   ],
   "source": [
    "# Verificamos si las dos muestras tienen varianzas iguales.\n",
    "\n",
    "stat, p_value = lv(list(cali_xbox), list(cali_pc))\n",
    "print(p_value)"
   ]
  },
  {
   "cell_type": "markdown",
   "metadata": {},
   "source": [
    "**Conclusiones:**\n",
    "\n",
    "- Ya que el p-value luego de realizar la prueba de levene es tan bajo, queda descartada la posibilidad de que las varianzas de las muestras sean iguales."
   ]
  },
  {
   "cell_type": "code",
   "execution_count": 224,
   "metadata": {},
   "outputs": [
    {
     "name": "stdout",
     "output_type": "stream",
     "text": [
      "p-value: 0.5907361767479966\n",
      "No rechazamos la hipótesis nula\n"
     ]
    }
   ],
   "source": [
    "# Realizamos la prueba\n",
    "\n",
    "alpha = 0.05\n",
    "\n",
    "results = st.ttest_ind(cali_xbox, cali_pc, equal_var= False)\n",
    "print(f'p-value: {results.pvalue}')\n",
    "if results.pvalue < alpha:\n",
    "    print('Rechazamos la hipótesis nula')\n",
    "else:\n",
    "    print('No rechazamos la hipótesis nula')"
   ]
  },
  {
   "cell_type": "markdown",
   "metadata": {},
   "source": [
    "## Hipótesis 2"
   ]
  },
  {
   "cell_type": "markdown",
   "metadata": {},
   "source": [
    "Hipótesis nula H0: Las calificaciones promedio de los usuarios para los géneros de Acción y Deportes no son iguales.\n",
    "Hipótesis alterna H1: Las calificaciones promedio de los usuarios para los géneros de Acción y Deportes son iguales."
   ]
  },
  {
   "cell_type": "code",
   "execution_count": 228,
   "metadata": {},
   "outputs": [],
   "source": [
    "# Definimos nuestros conjuntos de datos.\n",
    "\n",
    "cali_acc = good_games_df.query('genre == \"Action\"')['user_score']\n",
    "cali_acc = cali_acc.dropna().reset_index(drop= True)\n",
    "\n",
    "cali_spo = good_games_df.query('genre == \"Sports\"')['user_score']\n",
    "cali_spo = cali_spo.dropna().reset_index(drop= True)\n"
   ]
  },
  {
   "cell_type": "code",
   "execution_count": 229,
   "metadata": {},
   "outputs": [
    {
     "data": {
      "image/png": "[encoded data removed]",
      "text/plain": [
       "<Figure size 1080x288 with 2 Axes>"
      ]
     },
     "metadata": {
      "needs_background": "light"
     },
     "output_type": "display_data"
    }
   ],
   "source": [
    "#Verificamos la la distribución de ambas muestras\n",
    "\n",
    "plt.rcParams[\"figure.figsize\"] = [10, 3.50]\n",
    "plt.rcParams[\"figure.autolayout\"] = True\n",
    "\n",
    "fig, axes = plt.subplots(1, 2)\n",
    "\n",
    "cali_acc.plot(kind= 'hist', figsize= (15, 4), bins= 20, ax=axes[0])\n",
    "\n",
    "cali_spo.plot(kind= 'hist', figsize= (15, 4), bins= 30, ax=axes[1])\n",
    "\n",
    "\n",
    "plt.show()\n"
   ]
  },
  {
   "cell_type": "markdown",
   "metadata": {},
   "source": [
    "**Conclusiones:**\n",
    "\n",
    "- Ambas muestras tienen distribución normal."
   ]
  },
  {
   "cell_type": "code",
   "execution_count": 230,
   "metadata": {},
   "outputs": [
    {
     "name": "stdout",
     "output_type": "stream",
     "text": [
      "1.2222145679472618e-05\n"
     ]
    }
   ],
   "source": [
    "# Verificamos si las dos muestras tienen varianzas iguales.\n",
    "\n",
    "stat, p_value = lv(list(cali_acc), list(cali_spo))\n",
    "print(p_value)"
   ]
  },
  {
   "cell_type": "markdown",
   "metadata": {},
   "source": [
    "**Conclusiones:**\n",
    "\n",
    "- Ya que el p-value luego de realizar la prueba de levene es tan bajo, queda descartada la posibilidad de que las varianzas de las muestras sean iguales."
   ]
  },
  {
   "cell_type": "code",
   "execution_count": 231,
   "metadata": {},
   "outputs": [
    {
     "name": "stdout",
     "output_type": "stream",
     "text": [
      "p-value 1.8174388269289055e-20\n",
      "Rechazamos la hipótesis nula\n"
     ]
    }
   ],
   "source": [
    "# Realizamos la prueba \n",
    "\n",
    "alpha = 0.05\n",
    "\n",
    "results = st.ttest_ind(cali_acc, cali_spo, equal_var = False)\n",
    "print(f'p-value {results.pvalue}')\n",
    "\n",
    "if results.pvalue < alpha:\n",
    "    print('Rechazamos la hipótesis nula')\n",
    "else:\n",
    "    print('No rechazamos la hipótesis nula')"
   ]
  },
  {
   "cell_type": "markdown",
   "metadata": {},
   "source": [
    "# Conclusiones"
   ]
  },
  {
   "cell_type": "markdown",
   "metadata": {},
   "source": [
    "1. La industria de los videojuegos es muy importante y esxiste desde el lanzamiento del NES en 1980, sin embargo a partir del año 2012 ha tenido un crecimeinto exponencial hasta 2009 donde experimenta su pico en ventas, luego ha experimentado un declive hasta 2016, esto puede ser ocasionado a la preferencia de usuarios por juegos online donde no hay necesidad de comprar juegos físicos.\n",
    "\n",
    "\n",
    "2. Históricamente las plataformas mas populares son GB y NES, casualmente son del mismo fabricante Nintendo, esto se debe a que por mucho tiempo prácticamente era el único fabricante de plataformas y videojuegos.\n",
    "\n",
    "\n",
    "3. Una vez identificado los años significativos para nuestro análisis el cual es identificar que videojuegos podrían ser un éxito en ventas, seleccionamos un periodo a partir de 2012, año en que SONY, Microsoft y Nintendo disputan la cuota de mercado a nivel mundial.\n",
    "\n",
    "\n",
    "4. Gracias a un análisis de las distribuciones de ventas totales de estos tres fabricantes, encontramos un desempeño interensante en sus ventas por ejemplo:\n",
    "\n",
    "      - La plataforma de nintendo (Wii) experimentó en 2006 un desempeño explosivo en ventas de sus videojuegos los primeros dos años llegando a su pico, posteriormente al pico experimenta un declive en popularidad vertijinoso.\n",
    "        \n",
    "      - Las plataformas de Microsft y Sony (X360 y PS3), en sus lanzamientos en 2006 experimentaron un ascenso paulatino, alcanzando su pico máximo en 5 años, y luego desciendiieron lentamente de la misma manera. \n",
    "        \n",
    "    Para el lanzamiento de la segunda generación de sus plataformas en 2012, se evidenció una exploción de ventas para la platforma WiiU en 2014 y un decenso brusco para años posteriores.\n",
    "\n",
    "    Mientras que Microsoft y Sony con sus plataformas XOne y PS4 respectivamente en 2012 se obtuvo un crecimiento paulatino el cual hasta finales de 2016 no ha parado de subir.\n",
    "\n",
    "    Por lo tanto si este comportamiento en ventas se repite para esta segunda generación de plataformas se pude esperar una gran desempeño de ventas en videojuegos para estas dos plataformas en 2017.\n",
    "    \n",
    "\n",
    "5. Otro análisis reveló que el éxito en ventas de videojuegos no depende mucho de la plataforma sino del videojuego como tal, sería una buena idea no solo considerar las plataformas al momento de proyectar ventas para el siguiente el 2017, sino también considerar la popularidad de las precuelas de los videojuegos lanzados años anteriores, por ejemplo si en 2016 fue un éxito FIFa 16 sería de esperar que fifa 17 tenga una buena acogida por el público.\n",
    "\n",
    "\n",
    "6. Se trató de indentficar una relación entre las ventas de los videojuegos y el puntaje imitido por la crítica y los usuarios, pero no se encontró ninguna dependencia.\n",
    "\n",
    "\n",
    "7. También se realizó comportamientos de ventas en las diferentes regiones y se observó resultados muy interesantes por ejemplo:\n",
    "\n",
    "    - Las preferencias de los usuarios en NA y EU son casi las mismas, eso quiere decir que si ciertos videojuegos en USA fueron un éxito, muy probablemente lo serán en EU.\n",
    "  \n",
    "    - En la regió de Japón los usuarios prefieren plataformas portátiles y videojuegos de tipo role-playing, seguramente si tenemos un videojuego que sea para una plataforma portatil y se de este tipo será un éxito en 2017 en Japón.\n"
   ]
  }
 ],
 "metadata": {
  "kernelspec": {
   "display_name": "Python 3",
   "language": "python",
   "name": "python3"
  },
  "language_info": {
   "codemirror_mode": {
    "name": "ipython",
    "version": 3
   },
   "file_extension": ".py",
   "mimetype": "text/x-python",
   "name": "python",
   "nbconvert_exporter": "python",
   "pygments_lexer": "ipython3",
   "version": "3.9.12"
  },
  "toc": {
   "base_numbering": 1,
   "nav_menu": {},
   "number_sections": true,
   "sideBar": true,
   "skip_h1_title": false,
   "title_cell": "Table of Contents",
   "title_sidebar": "Contents",
   "toc_cell": false,
   "toc_position": {
    "height": "calc(100% - 180px)",
    "left": "10px",
    "top": "150px",
    "width": "165px"
   },
   "toc_section_display": true,
   "toc_window_display": true
  }
 },
 "nbformat": 4,
 "nbformat_minor": 2
}

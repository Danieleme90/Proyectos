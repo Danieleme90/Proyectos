{
 "cells": [
  {
   "cell_type": "markdown",
   "metadata": {},
   "source": [
    "# Introducción"
   ]
  },
  {
   "cell_type": "markdown",
   "metadata": {},
   "source": [
    "La compañía móvil Megaline no está satisfecha al ver que muchos de sus clientes utilizan planes heredados. Quieren desarrollar un modelo que pueda analizar el comportamiento de los clientes y recomendar uno de los nuevos planes de Megaline: Smart o Ultra.\n",
    "La empresa ha entregado el cojunto de datos de comportamiento de los suscriptores que ya se han cambiado a los planes nuevos.\n",
    "\n",
    "La empresa desea implementar un modelo de ML de Clasificación para determinar que plan escojerá el cliente. "
   ]
  },
  {
   "cell_type": "markdown",
   "metadata": {},
   "source": [
    "# Inicialización "
   ]
  },
  {
   "cell_type": "code",
   "execution_count": 1,
   "metadata": {},
   "outputs": [],
   "source": [
    "import pandas as pd\n",
    "from sklearn.model_selection import train_test_split\n",
    "from sklearn.tree import DecisionTreeClassifier\n",
    "from sklearn.metrics import accuracy_score\n",
    "from sklearn.ensemble import RandomForestClassifier\n",
    "from sklearn.linear_model import LogisticRegression"
   ]
  },
  {
   "cell_type": "markdown",
   "metadata": {},
   "source": [
    "# Carga de datos"
   ]
  },
  {
   "cell_type": "code",
   "execution_count": 2,
   "metadata": {},
   "outputs": [],
   "source": [
    "try:\n",
    "    users_df = pd.read_csv(\"/datasets/users_behavior.csv\")\n",
    "except:\n",
    "    users_df = pd.read_csv(\"users_behavior.csv\")"
   ]
  },
  {
   "cell_type": "code",
   "execution_count": 3,
   "metadata": {},
   "outputs": [
    {
     "data": {
      "text/html": [
       "<div>\n",
       "<style scoped>\n",
       "    .dataframe tbody tr th:only-of-type {\n",
       "        vertical-align: middle;\n",
       "    }\n",
       "\n",
       "    .dataframe tbody tr th {\n",
       "        vertical-align: top;\n",
       "    }\n",
       "\n",
       "    .dataframe thead th {\n",
       "        text-align: right;\n",
       "    }\n",
       "</style>\n",
       "<table border=\"1\" class=\"dataframe\">\n",
       "  <thead>\n",
       "    <tr style=\"text-align: right;\">\n",
       "      <th></th>\n",
       "      <th>calls</th>\n",
       "      <th>minutes</th>\n",
       "      <th>messages</th>\n",
       "      <th>mb_used</th>\n",
       "      <th>is_ultra</th>\n",
       "    </tr>\n",
       "  </thead>\n",
       "  <tbody>\n",
       "    <tr>\n",
       "      <th>0</th>\n",
       "      <td>40.0</td>\n",
       "      <td>311.90</td>\n",
       "      <td>83.0</td>\n",
       "      <td>19915.42</td>\n",
       "      <td>0</td>\n",
       "    </tr>\n",
       "    <tr>\n",
       "      <th>1</th>\n",
       "      <td>85.0</td>\n",
       "      <td>516.75</td>\n",
       "      <td>56.0</td>\n",
       "      <td>22696.96</td>\n",
       "      <td>0</td>\n",
       "    </tr>\n",
       "    <tr>\n",
       "      <th>2</th>\n",
       "      <td>77.0</td>\n",
       "      <td>467.66</td>\n",
       "      <td>86.0</td>\n",
       "      <td>21060.45</td>\n",
       "      <td>0</td>\n",
       "    </tr>\n",
       "    <tr>\n",
       "      <th>3</th>\n",
       "      <td>106.0</td>\n",
       "      <td>745.53</td>\n",
       "      <td>81.0</td>\n",
       "      <td>8437.39</td>\n",
       "      <td>1</td>\n",
       "    </tr>\n",
       "    <tr>\n",
       "      <th>4</th>\n",
       "      <td>66.0</td>\n",
       "      <td>418.74</td>\n",
       "      <td>1.0</td>\n",
       "      <td>14502.75</td>\n",
       "      <td>0</td>\n",
       "    </tr>\n",
       "    <tr>\n",
       "      <th>5</th>\n",
       "      <td>58.0</td>\n",
       "      <td>344.56</td>\n",
       "      <td>21.0</td>\n",
       "      <td>15823.37</td>\n",
       "      <td>0</td>\n",
       "    </tr>\n",
       "    <tr>\n",
       "      <th>6</th>\n",
       "      <td>57.0</td>\n",
       "      <td>431.64</td>\n",
       "      <td>20.0</td>\n",
       "      <td>3738.90</td>\n",
       "      <td>1</td>\n",
       "    </tr>\n",
       "    <tr>\n",
       "      <th>7</th>\n",
       "      <td>15.0</td>\n",
       "      <td>132.40</td>\n",
       "      <td>6.0</td>\n",
       "      <td>21911.60</td>\n",
       "      <td>0</td>\n",
       "    </tr>\n",
       "    <tr>\n",
       "      <th>8</th>\n",
       "      <td>7.0</td>\n",
       "      <td>43.39</td>\n",
       "      <td>3.0</td>\n",
       "      <td>2538.67</td>\n",
       "      <td>1</td>\n",
       "    </tr>\n",
       "    <tr>\n",
       "      <th>9</th>\n",
       "      <td>90.0</td>\n",
       "      <td>665.41</td>\n",
       "      <td>38.0</td>\n",
       "      <td>17358.61</td>\n",
       "      <td>0</td>\n",
       "    </tr>\n",
       "  </tbody>\n",
       "</table>\n",
       "</div>"
      ],
      "text/plain": [
       "   calls  minutes  messages   mb_used  is_ultra\n",
       "0   40.0   311.90      83.0  19915.42         0\n",
       "1   85.0   516.75      56.0  22696.96         0\n",
       "2   77.0   467.66      86.0  21060.45         0\n",
       "3  106.0   745.53      81.0   8437.39         1\n",
       "4   66.0   418.74       1.0  14502.75         0\n",
       "5   58.0   344.56      21.0  15823.37         0\n",
       "6   57.0   431.64      20.0   3738.90         1\n",
       "7   15.0   132.40       6.0  21911.60         0\n",
       "8    7.0    43.39       3.0   2538.67         1\n",
       "9   90.0   665.41      38.0  17358.61         0"
      ]
     },
     "execution_count": 3,
     "metadata": {},
     "output_type": "execute_result"
    }
   ],
   "source": [
    "# Visualizamos los datos\n",
    "\n",
    "users_df.head(10)"
   ]
  },
  {
   "cell_type": "code",
   "execution_count": 4,
   "metadata": {},
   "outputs": [
    {
     "name": "stdout",
     "output_type": "stream",
     "text": [
      "<class 'pandas.core.frame.DataFrame'>\n",
      "RangeIndex: 3214 entries, 0 to 3213\n",
      "Data columns (total 5 columns):\n",
      " #   Column    Non-Null Count  Dtype  \n",
      "---  ------    --------------  -----  \n",
      " 0   calls     3214 non-null   float64\n",
      " 1   minutes   3214 non-null   float64\n",
      " 2   messages  3214 non-null   float64\n",
      " 3   mb_used   3214 non-null   float64\n",
      " 4   is_ultra  3214 non-null   int64  \n",
      "dtypes: float64(4), int64(1)\n",
      "memory usage: 125.7 KB\n"
     ]
    }
   ],
   "source": [
    "# Verificamos la calidad del conjunto de datos.\n",
    "users_df.info()"
   ]
  },
  {
   "cell_type": "markdown",
   "metadata": {},
   "source": [
    "**Conclusiones:**\n",
    "\n",
    "- El cojunto de datos no tine valores ausentes y el tipo de datos para sus varables es correcto."
   ]
  },
  {
   "cell_type": "markdown",
   "metadata": {},
   "source": [
    "# Segmentando el conjunto de datos"
   ]
  },
  {
   "cell_type": "code",
   "execution_count": 5,
   "metadata": {},
   "outputs": [],
   "source": [
    "# Definimos características y objetivos\n",
    "train_features = users_df.drop(['is_ultra'], axis= 1)\n",
    "train_target = users_df['is_ultra']"
   ]
  },
  {
   "cell_type": "markdown",
   "metadata": {},
   "source": [
    "**Para este modelo segmentaremos en relación 3:1:1 para el conjunto de entrenamiento, validación y prueba respectivamente.**"
   ]
  },
  {
   "cell_type": "code",
   "execution_count": 6,
   "metadata": {},
   "outputs": [],
   "source": [
    "# Obtenemos los datos de entrenamiento 60% del conjunto de datos.\n",
    "train_features, valid_features, train_target, valid_target = train_test_split(train_features, train_target, test_size= 0.4, random_state= 42)"
   ]
  },
  {
   "cell_type": "code",
   "execution_count": 7,
   "metadata": {},
   "outputs": [],
   "source": [
    "# Obtenemos los datos de validación y prueba 20% y 20% respectivamente.\n",
    "valid_features, test_features, valid_target, test_target = train_test_split(valid_features, valid_target, test_size= 0.5, random_state= 42)"
   ]
  },
  {
   "cell_type": "code",
   "execution_count": 8,
   "metadata": {},
   "outputs": [
    {
     "name": "stdout",
     "output_type": "stream",
     "text": [
      "train_features (1928, 4)\n",
      "valid_features (643, 4)\n",
      "test_features (643, 4)\n",
      "train_target (1928,)\n",
      "valid_target (643,)\n",
      "test_target (643,)\n"
     ]
    }
   ],
   "source": [
    "# Validamos que la cantidad de datos para cada conjunto sea la correcta.\n",
    "print('train_features', train_features.shape)\n",
    "print('valid_features', valid_features.shape)\n",
    "print('test_features', test_features.shape)\n",
    "print('train_target', train_target.shape)\n",
    "print('valid_target', valid_target.shape)\n",
    "print('test_target', test_target.shape)"
   ]
  },
  {
   "cell_type": "markdown",
   "metadata": {},
   "source": [
    "# Desarrollo y entrenamiento del modelo"
   ]
  },
  {
   "cell_type": "markdown",
   "metadata": {},
   "source": [
    "Para este problema ya que el objetivo es una variable categórica se define como un problema de calificación, entrenaremos tres modelos (Decision Tree Classifier, Random Fores Classifier y Logistic Regression) y obtenfremos el modelo con mejor puntuación."
   ]
  },
  {
   "cell_type": "markdown",
   "metadata": {},
   "source": [
    "## Modelo: Decision Tree Classifier"
   ]
  },
  {
   "cell_type": "markdown",
   "metadata": {},
   "source": [
    "Se realizará el entrenamiento de un modelo de DecisionTreeClassifier y se determinará su calidad con el cojunto de prueba."
   ]
  },
  {
   "cell_type": "code",
   "execution_count": 9,
   "metadata": {},
   "outputs": [
    {
     "name": "stdout",
     "output_type": "stream",
     "text": [
      "Conjunto de entrenamiento: 1.0\n",
      "Conjunto de validación: 0.7278382581648523\n"
     ]
    }
   ],
   "source": [
    "# Realizamos el entrenamiento del modelo y se evalúa la calidad del mismo.\n",
    "tree_model = DecisionTreeClassifier(random_state= 42)\n",
    "tree_model.fit(train_features, train_target)\n",
    "train_predictions = tree_model.predict(train_features)\n",
    "valid_predictions = tree_model.predict(valid_features)\n",
    "\n",
    "train_accuracy = accuracy_score(train_target, train_predictions)\n",
    "valid_accuracy = accuracy_score(valid_target, valid_predictions)\n",
    "\n",
    "print('Conjunto de entrenamiento:', train_accuracy)\n",
    "print('Conjunto de validación:', valid_accuracy)"
   ]
  },
  {
   "cell_type": "markdown",
   "metadata": {},
   "source": [
    "**Conclusiones: **\n",
    "\n",
    "- El modelo responde bien ante el conjunto de entranamiento, esto descarta la presencia de subajuste, sin embargo para el conjunto de prueba presenta un 73,52 %, a pesar de que es un alto nivel de precisión nos indica que hay sobreajuste y que el modelo puede ser mejorado."
   ]
  },
  {
   "cell_type": "markdown",
   "metadata": {},
   "source": [
    "## Modelo: Random Forest Classifier"
   ]
  },
  {
   "cell_type": "code",
   "execution_count": 10,
   "metadata": {},
   "outputs": [
    {
     "name": "stdout",
     "output_type": "stream",
     "text": [
      "Conjunto de entrenamiento: 1.0\n",
      "Conjunto de validación: 0.80248833592535\n"
     ]
    }
   ],
   "source": [
    "# Realizamos el entrenamiento del modelo y se evalúa la calidad del mismo.\n",
    "forest_model = RandomForestClassifier(random_state= 42)\n",
    "forest_model.fit(train_features, train_target)\n",
    "train_predictions = forest_model.predict(train_features)\n",
    "valid_predictions = forest_model.predict(valid_features)\n",
    "\n",
    "train_accuracy = accuracy_score(train_target, train_predictions)\n",
    "valid_accuracy = accuracy_score(valid_target, valid_predictions)\n",
    "\n",
    "print('Conjunto de entrenamiento:', train_accuracy)\n",
    "print('Conjunto de validación:', valid_accuracy)"
   ]
  },
  {
   "cell_type": "markdown",
   "metadata": {},
   "source": [
    "**Conclusiones:**\n",
    "\n",
    "- Al igual que el anterior modelo, este es capaz de predecir correctamente con su conjunto de entrenamiento por lo tanto no hay subajuste, y a pesar de que hay presencia de sobreajuste ya que la precisión con el conjunto de prueba es de 78,19 % el resultado es mucho mejor que el anterior modelo."
   ]
  },
  {
   "cell_type": "markdown",
   "metadata": {},
   "source": [
    "## Modelo: Logistic Regresion"
   ]
  },
  {
   "cell_type": "code",
   "execution_count": 13,
   "metadata": {},
   "outputs": [
    {
     "name": "stdout",
     "output_type": "stream",
     "text": [
      "Conjunto de entrenamiento: 0.7136929460580913\n",
      "Conjunto de validación: 0.7200622083981337\n"
     ]
    }
   ],
   "source": [
    "# Realizamos el entrenamiento del modelo y se evalúa la calidad del mismo.\n",
    "regresion_model = LogisticRegression(random_state= 42, solver= 'liblinear')\n",
    "regresion_model.fit(train_features, train_target)\n",
    "train_predictions = regresion_model.predict(train_features)\n",
    "valid_predictions = regresion_model.predict(valid_features)\n",
    "\n",
    "train_accuracy = accuracy_score(train_target, train_predictions)\n",
    "valid_accuracy = accuracy_score(valid_target, valid_predictions)\n",
    "\n",
    "print('Conjunto de entrenamiento:', train_accuracy)\n",
    "print('Conjunto de validación:', valid_accuracy)"
   ]
  },
  {
   "cell_type": "markdown",
   "metadata": {},
   "source": [
    "**Conclusiones:**\n",
    "\n",
    "- En este caso se puede observar una precisión del 71,36 % en el conjunto de datos de entrenamiento, eso significa que existe subajuste en este modelo. Para este probleama este modelo es el menos preciso."
   ]
  },
  {
   "cell_type": "markdown",
   "metadata": {},
   "source": [
    "# Mejoramiento de la calidad del modelo"
   ]
  },
  {
   "cell_type": "markdown",
   "metadata": {},
   "source": [
    "En esta sección realizaremos un mejoramiento de la calidad de cada modelo modificando los hiperparámetros y seleccionando el mejor set de hiperparámetros para cada caso."
   ]
  },
  {
   "cell_type": "markdown",
   "metadata": {},
   "source": [
    "## Mejoramiento del modelo: Decision Tree Classifier"
   ]
  },
  {
   "cell_type": "code",
   "execution_count": 27,
   "metadata": {},
   "outputs": [
    {
     "name": "stdout",
     "output_type": "stream",
     "text": [
      "El mejor score es: 0.7962674961119751, con el max_depth: 8\n"
     ]
    }
   ],
   "source": [
    "# Realizamos un for para probar con diferentes valores de \"max_depht\"\n",
    "best_depth = 0\n",
    "best_dtc_model = None\n",
    "best_score = 0\n",
    "\n",
    "for depth in range(1,20):\n",
    "    dtc_model = DecisionTreeClassifier(max_depth= depth, random_state= 42)\n",
    "    dtc_model.fit(train_features, train_target)\n",
    "    score = dtc_model.score(valid_features, valid_target)\n",
    "    \n",
    "    \n",
    "    if score > best_score:\n",
    "        best_depth = depth\n",
    "        best_dtc_model = dtc_model\n",
    "        best_score = score\n",
    "        \n",
    "print(f'El mejor score es: {best_score}, con max_depth= {best_depth}')        "
   ]
  },
  {
   "cell_type": "code",
   "execution_count": 40,
   "metadata": {},
   "outputs": [
    {
     "name": "stdout",
     "output_type": "stream",
     "text": [
      "El score del mejor modelo con datos de prueba es: 0.7978227060653188\n"
     ]
    }
   ],
   "source": [
    "# Probamos el mejor modelo y verificamos su calidad con el conjunto de datos de prueba.\n",
    "print(f'El score del mejor modelo con datos de prueba es: {best_dtc_model.score(test_features, test_target)}')"
   ]
  },
  {
   "cell_type": "markdown",
   "metadata": {},
   "source": [
    "**Conclusiones:**\n",
    "\n",
    "- El modelo encontrado es de buena calidad ya que supera la precisión mínima que es de 0.75, además tenemos resultados de 0.79 para ambos grupos de datos, prueba y validación."
   ]
  },
  {
   "cell_type": "markdown",
   "metadata": {},
   "source": [
    "## Mejoramiento del modelo: Random Forest Classifier"
   ]
  },
  {
   "cell_type": "code",
   "execution_count": 35,
   "metadata": {},
   "outputs": [
    {
     "name": "stdout",
     "output_type": "stream",
     "text": [
      "El mejor score es: 0.8149300155520995, con max_depth= 9 y n_estimators= 25\n"
     ]
    }
   ],
   "source": [
    "# Realizmas un for anidado para probar con las hiperparámetros 'max_depth' y 'n_estimators'.\n",
    "\n",
    "best_depth = 0\n",
    "best_rfc_model = None\n",
    "best_score = 0\n",
    "best_est = 0\n",
    "\n",
    "for depth in range(1, 10):\n",
    "    for est in range(5, 26, 5):\n",
    "        \n",
    "        rfc_model = RandomForestClassifier(max_depth = depth, n_estimators= est, random_state= 42)\n",
    "        rfc_model.fit(train_features, train_target)\n",
    "        score = rfc_model.score(valid_features, valid_target)\n",
    "        \n",
    "        if score > best_score:\n",
    "            best_depth = depth\n",
    "            best_rfc_model = rfc_model\n",
    "            best_score = score\n",
    "            best_est = est\n",
    "            \n",
    "print(f'El mejor score es: {best_score}, con max_depth= {best_depth} y n_estimators= {best_est}')"
   ]
  },
  {
   "cell_type": "code",
   "execution_count": 41,
   "metadata": {},
   "outputs": [
    {
     "name": "stdout",
     "output_type": "stream",
     "text": [
      "El score del mejor modelo con datos de prueba es: 0.8195956454121306\n"
     ]
    }
   ],
   "source": [
    "# Probamos el mejor modelo y verificamos su calidad con el conjunto de datos de prueba.\n",
    "print(f'El score del mejor modelo con datos de prueba es: {best_rfc_model.score(test_features, test_target)}')"
   ]
  },
  {
   "cell_type": "markdown",
   "metadata": {},
   "source": [
    "**Conclusión:**\n",
    "\n",
    "- El modelo es de buena calidad ya que para ambos conjuntos de datos, prueba y validación la precisión es de 0.81, superior a la precisión mínima."
   ]
  },
  {
   "cell_type": "markdown",
   "metadata": {},
   "source": [
    "## Mejoramiento del modelo: Logistic Regression"
   ]
  },
  {
   "cell_type": "code",
   "execution_count": 63,
   "metadata": {},
   "outputs": [
    {
     "name": "stdout",
     "output_type": "stream",
     "text": [
      "El mejor score es: 0.7402799377916018, con solver= newton-cg.\n"
     ]
    },
    {
     "name": "stderr",
     "output_type": "stream",
     "text": [
      "/opt/conda/lib/python3.9/site-packages/scipy/optimize/_linesearch.py:456: LineSearchWarning: The line search algorithm did not converge\n",
      "  warn('The line search algorithm did not converge', LineSearchWarning)\n",
      "/opt/conda/lib/python3.9/site-packages/scipy/optimize/_linesearch.py:305: LineSearchWarning: The line search algorithm did not converge\n",
      "  warn('The line search algorithm did not converge', LineSearchWarning)\n",
      "/opt/conda/lib/python3.9/site-packages/scipy/optimize/_linesearch.py:415: LineSearchWarning: Rounding errors prevent the line search from converging\n",
      "  warn(msg, LineSearchWarning)\n",
      "/opt/conda/lib/python3.9/site-packages/scipy/optimize/_linesearch.py:305: LineSearchWarning: The line search algorithm did not converge\n",
      "  warn('The line search algorithm did not converge', LineSearchWarning)\n",
      "/opt/conda/lib/python3.9/site-packages/sklearn/utils/optimize.py:195: UserWarning: Line Search failed\n",
      "  warnings.warn('Line Search failed')\n",
      "/opt/conda/lib/python3.9/site-packages/sklearn/linear_model/_logistic.py:763: ConvergenceWarning: lbfgs failed to converge (status=1):\n",
      "STOP: TOTAL NO. of ITERATIONS REACHED LIMIT.\n",
      "\n",
      "Increase the number of iterations (max_iter) or scale the data as shown in:\n",
      "    https://scikit-learn.org/stable/modules/preprocessing.html\n",
      "Please also refer to the documentation for alternative solver options:\n",
      "    https://scikit-learn.org/stable/modules/linear_model.html#logistic-regression\n",
      "  n_iter_i = _check_optimize_result(\n",
      "/opt/conda/lib/python3.9/site-packages/sklearn/linear_model/_sag.py:328: ConvergenceWarning: The max_iter was reached which means the coef_ did not converge\n",
      "  warnings.warn(\"The max_iter was reached which means \"\n",
      "/opt/conda/lib/python3.9/site-packages/sklearn/linear_model/_sag.py:328: ConvergenceWarning: The max_iter was reached which means the coef_ did not converge\n",
      "  warnings.warn(\"The max_iter was reached which means \"\n"
     ]
    }
   ],
   "source": [
    "# Realizmas un for anidado para probar con las hiperparámetros 'max_iter'.\n",
    "\n",
    "best_lr_model = None\n",
    "best_score = 0\n",
    "best_solver = ''\n",
    "solvers = ['liblinear', 'newton-cg', 'lbfgs', 'sag', 'saga']\n",
    "\n",
    "for solver in solvers:\n",
    "    lr_model = LogisticRegression( random_state= 42, solver= solver)\n",
    "    lr_model.fit(train_features, train_target)\n",
    "    score = lr_model.score(valid_features, valid_target)\n",
    "    \n",
    "        \n",
    "    if score > best_score:\n",
    "        best_solver = solver\n",
    "        best_lr_model = lr_model\n",
    "        best_score = score\n",
    "       \n",
    "            \n",
    "print(f'El mejor score es: {best_score}, con solver= {best_solver}.')"
   ]
  },
  {
   "cell_type": "code",
   "execution_count": 64,
   "metadata": {},
   "outputs": [
    {
     "name": "stdout",
     "output_type": "stream",
     "text": [
      "El score del mejor modelo con datos de prueba es: 0.7682737169517885\n"
     ]
    }
   ],
   "source": [
    "# Probamos el mejor modelo y verificamos su calidad con el conjunto de datos de prueba.\n",
    "print(f'El score del mejor modelo con datos de prueba es: {best_lr_model.score(test_features, test_target)}')"
   ]
  },
  {
   "cell_type": "markdown",
   "metadata": {},
   "source": [
    "**Conclusión:**\n",
    "\n",
    "- En el caso de la regresión logística no se logró llegar a la precisión mínima de 0.75, sin embargo el mejor modelo al ser evaluado con el conjunto de prueba llega a tener una puntuación de 0.76. Por lo que no queda descartado ya que se tendría que realizar pruebas con otros cojuntos de datos."
   ]
  }
 ],
 "metadata": {
  "kernelspec": {
   "display_name": "Python 3",
   "language": "python",
   "name": "python3"
  },
  "language_info": {
   "codemirror_mode": {
    "name": "ipython",
    "version": 3
   },
   "file_extension": ".py",
   "mimetype": "text/x-python",
   "name": "python",
   "nbconvert_exporter": "python",
   "pygments_lexer": "ipython3",
   "version": "3.9.12"
  },
  "toc": {
   "base_numbering": 1,
   "nav_menu": {},
   "number_sections": true,
   "sideBar": true,
   "skip_h1_title": false,
   "title_cell": "Table of Contents",
   "title_sidebar": "Contents",
   "toc_cell": false,
   "toc_position": {},
   "toc_section_display": true,
   "toc_window_display": true
  }
 },
 "nbformat": 4,
 "nbformat_minor": 2
}

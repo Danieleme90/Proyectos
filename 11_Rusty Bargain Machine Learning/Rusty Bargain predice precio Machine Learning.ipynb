{
 "cells": [
  {
   "cell_type": "markdown",
   "metadata": {},
   "source": [
    "# Introducción"
   ]
  },
  {
   "cell_type": "markdown",
   "metadata": {},
   "source": [
    "El servicio de venta de autos usados Rusty Bargain necesita desarrollara una aplicación para atraer nuevos clientes. Gracias a esa app, puedes averiguar rápidamente el valor de mercado de tu coche. Se tiene acceso al historial: especificaciones técnicas, versiones de equipamiento y precios. Se tiene que desarrollar un modelo que determine el valor de mercado.\n",
    "A Rusty Bargain le interesa:\n",
    "- la calidad de la predicción;\n",
    "- la velocidad de la predicción;\n",
    "- el tiempo requerido para el entrenamiento"
   ]
  },
  {
   "cell_type": "markdown",
   "metadata": {},
   "source": [
    "# Inicialización"
   ]
  },
  {
   "cell_type": "code",
   "execution_count": 2,
   "metadata": {},
   "outputs": [],
   "source": [
    "import pandas as pd\n",
    "import numpy as np\n",
    "from re import sub\n",
    "import matplotlib.pyplot as plt\n",
    "import seaborn as sns\n",
    "import time\n",
    "\n",
    "from sklearn.model_selection import train_test_split\n",
    "from sklearn.linear_model import LinearRegression\n",
    "from sklearn.metrics import mean_squared_error\n",
    "from sklearn.tree import DecisionTreeRegressor\n",
    "from sklearn.ensemble import RandomForestRegressor\n",
    "from sklearn.model_selection import GridSearchCV\n",
    "from sklearn.metrics import make_scorer\n",
    "from sklearn.pipeline import Pipeline as pl\n",
    "\n",
    "from xgboost import XGBRegressor\n",
    "from catboost import Pool, CatBoostRegressor\n",
    "import lightgbm as lgb"
   ]
  },
  {
   "cell_type": "markdown",
   "metadata": {},
   "source": [
    "# Preparación de datos"
   ]
  },
  {
   "cell_type": "code",
   "execution_count": 3,
   "metadata": {},
   "outputs": [],
   "source": [
    "# Cargamos la información en un data frame\n",
    "try:\n",
    "    cars_df = pd.read_csv('/datasets/car_data.csv')\n",
    "except:\n",
    "    cars_df = pd.read_csv('car_data.csv')"
   ]
  },
  {
   "cell_type": "code",
   "execution_count": 4,
   "metadata": {},
   "outputs": [
    {
     "data": {
      "text/html": [
       "<div>\n",
       "<style scoped>\n",
       "    .dataframe tbody tr th:only-of-type {\n",
       "        vertical-align: middle;\n",
       "    }\n",
       "\n",
       "    .dataframe tbody tr th {\n",
       "        vertical-align: top;\n",
       "    }\n",
       "\n",
       "    .dataframe thead th {\n",
       "        text-align: right;\n",
       "    }\n",
       "</style>\n",
       "<table border=\"1\" class=\"dataframe\">\n",
       "  <thead>\n",
       "    <tr style=\"text-align: right;\">\n",
       "      <th></th>\n",
       "      <th>DateCrawled</th>\n",
       "      <th>Price</th>\n",
       "      <th>VehicleType</th>\n",
       "      <th>RegistrationYear</th>\n",
       "      <th>Gearbox</th>\n",
       "      <th>Power</th>\n",
       "      <th>Model</th>\n",
       "      <th>Mileage</th>\n",
       "      <th>RegistrationMonth</th>\n",
       "      <th>FuelType</th>\n",
       "      <th>Brand</th>\n",
       "      <th>NotRepaired</th>\n",
       "      <th>DateCreated</th>\n",
       "      <th>NumberOfPictures</th>\n",
       "      <th>PostalCode</th>\n",
       "      <th>LastSeen</th>\n",
       "    </tr>\n",
       "  </thead>\n",
       "  <tbody>\n",
       "    <tr>\n",
       "      <th>0</th>\n",
       "      <td>24/03/2016 11:52</td>\n",
       "      <td>480</td>\n",
       "      <td>NaN</td>\n",
       "      <td>1993</td>\n",
       "      <td>manual</td>\n",
       "      <td>0</td>\n",
       "      <td>golf</td>\n",
       "      <td>150000</td>\n",
       "      <td>0</td>\n",
       "      <td>petrol</td>\n",
       "      <td>volkswagen</td>\n",
       "      <td>NaN</td>\n",
       "      <td>24/03/2016 00:00</td>\n",
       "      <td>0</td>\n",
       "      <td>70435</td>\n",
       "      <td>07/04/2016 03:16</td>\n",
       "    </tr>\n",
       "    <tr>\n",
       "      <th>1</th>\n",
       "      <td>24/03/2016 10:58</td>\n",
       "      <td>18300</td>\n",
       "      <td>coupe</td>\n",
       "      <td>2011</td>\n",
       "      <td>manual</td>\n",
       "      <td>190</td>\n",
       "      <td>NaN</td>\n",
       "      <td>125000</td>\n",
       "      <td>5</td>\n",
       "      <td>gasoline</td>\n",
       "      <td>audi</td>\n",
       "      <td>yes</td>\n",
       "      <td>24/03/2016 00:00</td>\n",
       "      <td>0</td>\n",
       "      <td>66954</td>\n",
       "      <td>07/04/2016 01:46</td>\n",
       "    </tr>\n",
       "    <tr>\n",
       "      <th>2</th>\n",
       "      <td>14/03/2016 12:52</td>\n",
       "      <td>9800</td>\n",
       "      <td>suv</td>\n",
       "      <td>2004</td>\n",
       "      <td>auto</td>\n",
       "      <td>163</td>\n",
       "      <td>grand</td>\n",
       "      <td>125000</td>\n",
       "      <td>8</td>\n",
       "      <td>gasoline</td>\n",
       "      <td>jeep</td>\n",
       "      <td>NaN</td>\n",
       "      <td>14/03/2016 00:00</td>\n",
       "      <td>0</td>\n",
       "      <td>90480</td>\n",
       "      <td>05/04/2016 12:47</td>\n",
       "    </tr>\n",
       "    <tr>\n",
       "      <th>3</th>\n",
       "      <td>17/03/2016 16:54</td>\n",
       "      <td>1500</td>\n",
       "      <td>small</td>\n",
       "      <td>2001</td>\n",
       "      <td>manual</td>\n",
       "      <td>75</td>\n",
       "      <td>golf</td>\n",
       "      <td>150000</td>\n",
       "      <td>6</td>\n",
       "      <td>petrol</td>\n",
       "      <td>volkswagen</td>\n",
       "      <td>no</td>\n",
       "      <td>17/03/2016 00:00</td>\n",
       "      <td>0</td>\n",
       "      <td>91074</td>\n",
       "      <td>17/03/2016 17:40</td>\n",
       "    </tr>\n",
       "    <tr>\n",
       "      <th>4</th>\n",
       "      <td>31/03/2016 17:25</td>\n",
       "      <td>3600</td>\n",
       "      <td>small</td>\n",
       "      <td>2008</td>\n",
       "      <td>manual</td>\n",
       "      <td>69</td>\n",
       "      <td>fabia</td>\n",
       "      <td>90000</td>\n",
       "      <td>7</td>\n",
       "      <td>gasoline</td>\n",
       "      <td>skoda</td>\n",
       "      <td>no</td>\n",
       "      <td>31/03/2016 00:00</td>\n",
       "      <td>0</td>\n",
       "      <td>60437</td>\n",
       "      <td>06/04/2016 10:17</td>\n",
       "    </tr>\n",
       "  </tbody>\n",
       "</table>\n",
       "</div>"
      ],
      "text/plain": [
       "        DateCrawled  Price VehicleType  RegistrationYear Gearbox  Power  \\\n",
       "0  24/03/2016 11:52    480         NaN              1993  manual      0   \n",
       "1  24/03/2016 10:58  18300       coupe              2011  manual    190   \n",
       "2  14/03/2016 12:52   9800         suv              2004    auto    163   \n",
       "3  17/03/2016 16:54   1500       small              2001  manual     75   \n",
       "4  31/03/2016 17:25   3600       small              2008  manual     69   \n",
       "\n",
       "   Model  Mileage  RegistrationMonth  FuelType       Brand NotRepaired  \\\n",
       "0   golf   150000                  0    petrol  volkswagen         NaN   \n",
       "1    NaN   125000                  5  gasoline        audi         yes   \n",
       "2  grand   125000                  8  gasoline        jeep         NaN   \n",
       "3   golf   150000                  6    petrol  volkswagen          no   \n",
       "4  fabia    90000                  7  gasoline       skoda          no   \n",
       "\n",
       "        DateCreated  NumberOfPictures  PostalCode          LastSeen  \n",
       "0  24/03/2016 00:00                 0       70435  07/04/2016 03:16  \n",
       "1  24/03/2016 00:00                 0       66954  07/04/2016 01:46  \n",
       "2  14/03/2016 00:00                 0       90480  05/04/2016 12:47  \n",
       "3  17/03/2016 00:00                 0       91074  17/03/2016 17:40  \n",
       "4  31/03/2016 00:00                 0       60437  06/04/2016 10:17  "
      ]
     },
     "execution_count": 4,
     "metadata": {},
     "output_type": "execute_result"
    }
   ],
   "source": [
    "cars_df.head()"
   ]
  },
  {
   "cell_type": "code",
   "execution_count": 11,
   "metadata": {},
   "outputs": [
    {
     "name": "stdout",
     "output_type": "stream",
     "text": [
      "<class 'pandas.core.frame.DataFrame'>\n",
      "RangeIndex: 354369 entries, 0 to 354368\n",
      "Data columns (total 16 columns):\n",
      " #   Column             Non-Null Count   Dtype \n",
      "---  ------             --------------   ----- \n",
      " 0   DateCrawled        354369 non-null  object\n",
      " 1   Price              354369 non-null  int64 \n",
      " 2   VehicleType        316879 non-null  object\n",
      " 3   RegistrationYear   354369 non-null  int64 \n",
      " 4   Gearbox            334536 non-null  object\n",
      " 5   Power              354369 non-null  int64 \n",
      " 6   Model              334664 non-null  object\n",
      " 7   Mileage            354369 non-null  int64 \n",
      " 8   RegistrationMonth  354369 non-null  int64 \n",
      " 9   FuelType           321474 non-null  object\n",
      " 10  Brand              354369 non-null  object\n",
      " 11  NotRepaired        283215 non-null  object\n",
      " 12  DateCreated        354369 non-null  object\n",
      " 13  NumberOfPictures   354369 non-null  int64 \n",
      " 14  PostalCode         354369 non-null  int64 \n",
      " 15  LastSeen           354369 non-null  object\n",
      "dtypes: int64(7), object(9)\n",
      "memory usage: 43.3+ MB\n"
     ]
    }
   ],
   "source": [
    "# Visualizamos un resumen de la información\n",
    "cars_df.info()"
   ]
  },
  {
   "cell_type": "code",
   "execution_count": 12,
   "metadata": {},
   "outputs": [
    {
     "data": {
      "image/png": "[encoded data removed]",
      "text/plain": [
       "<Figure size 1152x648 with 1 Axes>"
      ]
     },
     "metadata": {
      "needs_background": "light"
     },
     "output_type": "display_data"
    }
   ],
   "source": [
    "# Visulizamos los valores ausentes\n",
    "plt.figure(figsize = (16,9))\n",
    "sns.heatmap(cars_df.isnull(), cbar=False)\n",
    "plt.show()"
   ]
  },
  {
   "cell_type": "markdown",
   "metadata": {},
   "source": [
    "**Conclusiones:**\n",
    "\n",
    "Existen varios valores ausentes y tipos de datos que no corresponden a la característica, estos inconvenientes serán tratados de acuerdo a las necesidades para crear un modelo."
   ]
  },
  {
   "cell_type": "markdown",
   "metadata": {},
   "source": [
    "# Preparación de datos"
   ]
  },
  {
   "cell_type": "markdown",
   "metadata": {},
   "source": [
    "## Imutación de valores nulos"
   ]
  },
  {
   "cell_type": "code",
   "execution_count": 13,
   "metadata": {},
   "outputs": [
    {
     "data": {
      "text/plain": [
       "Index(['date_crawled', 'price', 'vehicle_type', 'registration_year', 'gearbox',\n",
       "       'power', 'model', 'mileage', 'registration_month', 'fuel_type', 'brand',\n",
       "       'not_repaired', 'date_created', 'number_of_pictures', 'postal_code',\n",
       "       'last_seen'],\n",
       "      dtype='object')"
      ]
     },
     "execution_count": 13,
     "metadata": {},
     "output_type": "execute_result"
    }
   ],
   "source": [
    "# Convertimos las columnas en snake case\n",
    "\n",
    "def snake_case(s):\n",
    "    return '_'.join(\n",
    "        sub('([A-Z][a-z]+)', r' \\1',\n",
    "        sub('([A-Z]+)', r' \\1',\n",
    "        s.replace('-', ' '))).split()).lower()\n",
    "cars_df.columns = [snake_case(column) for column in cars_df.columns]\n",
    "cars_df.columns"
   ]
  },
  {
   "cell_type": "code",
   "execution_count": 14,
   "metadata": {},
   "outputs": [
    {
     "data": {
      "text/html": [
       "<div>\n",
       "<style scoped>\n",
       "    .dataframe tbody tr th:only-of-type {\n",
       "        vertical-align: middle;\n",
       "    }\n",
       "\n",
       "    .dataframe tbody tr th {\n",
       "        vertical-align: top;\n",
       "    }\n",
       "\n",
       "    .dataframe thead th {\n",
       "        text-align: right;\n",
       "    }\n",
       "</style>\n",
       "<table border=\"1\" class=\"dataframe\">\n",
       "  <thead>\n",
       "    <tr style=\"text-align: right;\">\n",
       "      <th></th>\n",
       "      <th>price</th>\n",
       "      <th>vehicle_type</th>\n",
       "      <th>registration_year</th>\n",
       "      <th>gearbox</th>\n",
       "      <th>power</th>\n",
       "      <th>model</th>\n",
       "      <th>mileage</th>\n",
       "      <th>fuel_type</th>\n",
       "      <th>brand</th>\n",
       "      <th>not_repaired</th>\n",
       "    </tr>\n",
       "  </thead>\n",
       "  <tbody>\n",
       "    <tr>\n",
       "      <th>0</th>\n",
       "      <td>480</td>\n",
       "      <td>NaN</td>\n",
       "      <td>1993</td>\n",
       "      <td>manual</td>\n",
       "      <td>0</td>\n",
       "      <td>golf</td>\n",
       "      <td>150000</td>\n",
       "      <td>petrol</td>\n",
       "      <td>volkswagen</td>\n",
       "      <td>NaN</td>\n",
       "    </tr>\n",
       "    <tr>\n",
       "      <th>1</th>\n",
       "      <td>18300</td>\n",
       "      <td>coupe</td>\n",
       "      <td>2011</td>\n",
       "      <td>manual</td>\n",
       "      <td>190</td>\n",
       "      <td>NaN</td>\n",
       "      <td>125000</td>\n",
       "      <td>gasoline</td>\n",
       "      <td>audi</td>\n",
       "      <td>yes</td>\n",
       "    </tr>\n",
       "    <tr>\n",
       "      <th>2</th>\n",
       "      <td>9800</td>\n",
       "      <td>suv</td>\n",
       "      <td>2004</td>\n",
       "      <td>auto</td>\n",
       "      <td>163</td>\n",
       "      <td>grand</td>\n",
       "      <td>125000</td>\n",
       "      <td>gasoline</td>\n",
       "      <td>jeep</td>\n",
       "      <td>NaN</td>\n",
       "    </tr>\n",
       "    <tr>\n",
       "      <th>3</th>\n",
       "      <td>1500</td>\n",
       "      <td>small</td>\n",
       "      <td>2001</td>\n",
       "      <td>manual</td>\n",
       "      <td>75</td>\n",
       "      <td>golf</td>\n",
       "      <td>150000</td>\n",
       "      <td>petrol</td>\n",
       "      <td>volkswagen</td>\n",
       "      <td>no</td>\n",
       "    </tr>\n",
       "    <tr>\n",
       "      <th>4</th>\n",
       "      <td>3600</td>\n",
       "      <td>small</td>\n",
       "      <td>2008</td>\n",
       "      <td>manual</td>\n",
       "      <td>69</td>\n",
       "      <td>fabia</td>\n",
       "      <td>90000</td>\n",
       "      <td>gasoline</td>\n",
       "      <td>skoda</td>\n",
       "      <td>no</td>\n",
       "    </tr>\n",
       "  </tbody>\n",
       "</table>\n",
       "</div>"
      ],
      "text/plain": [
       "   price vehicle_type  registration_year gearbox  power  model  mileage  \\\n",
       "0    480          NaN               1993  manual      0   golf   150000   \n",
       "1  18300        coupe               2011  manual    190    NaN   125000   \n",
       "2   9800          suv               2004    auto    163  grand   125000   \n",
       "3   1500        small               2001  manual     75   golf   150000   \n",
       "4   3600        small               2008  manual     69  fabia    90000   \n",
       "\n",
       "  fuel_type       brand not_repaired  \n",
       "0    petrol  volkswagen          NaN  \n",
       "1  gasoline        audi          yes  \n",
       "2  gasoline        jeep          NaN  \n",
       "3    petrol  volkswagen           no  \n",
       "4  gasoline       skoda           no  "
      ]
     },
     "execution_count": 14,
     "metadata": {},
     "output_type": "execute_result"
    }
   ],
   "source": [
    "# Seleccionamos las características que influyen sobre el precio de un automovil, las demás serán descartadas.\n",
    "\n",
    "selected = ['price','vehicle_type', 'registration_year','gearbox', 'power', 'model', 'mileage', 'fuel_type', 'brand','not_repaired']\n",
    "cars_df = cars_df[selected]\n",
    "cars_df.head()"
   ]
  },
  {
   "cell_type": "code",
   "execution_count": 15,
   "metadata": {},
   "outputs": [
    {
     "data": {
      "text/plain": [
       "<AxesSubplot:>"
      ]
     },
     "execution_count": 15,
     "metadata": {},
     "output_type": "execute_result"
    },
    {
     "data": {
      "image/png": "[encoded data removed]",
      "text/plain": [
       "<Figure size 1152x648 with 1 Axes>"
      ]
     },
     "metadata": {
      "needs_background": "light"
     },
     "output_type": "display_data"
    }
   ],
   "source": [
    "# Visualizamos la cantidad de valores nulos\n",
    "cars_df.isnull().sum().plot(kind= 'bar', figsize= (16,9))"
   ]
  },
  {
   "cell_type": "code",
   "execution_count": 16,
   "metadata": {},
   "outputs": [
    {
     "data": {
      "image/png": "[encoded data removed]",
      "text/plain": [
       "<Figure size 1368x288 with 1 Axes>"
      ]
     },
     "metadata": {
      "needs_background": "light"
     },
     "output_type": "display_data"
    }
   ],
   "source": [
    "#Visualizamos la distribución para la característica modelo\n",
    "(cars_df.pivot_table(index= 'model',values ='brand',aggfunc= 'count')\n",
    "       .sort_values(by= 'brand', ascending= False)\n",
    "       .head()\n",
    "       .plot(kind= 'bar', grid= True, figsize= (19,4)))\n",
    "plt.show()"
   ]
  },
  {
   "cell_type": "markdown",
   "metadata": {},
   "source": [
    "**Ya que el segundo valor mas frecuente para la característica modelo es \"other\" se imputará los valores ausentes con este valor.**"
   ]
  },
  {
   "cell_type": "code",
   "execution_count": 17,
   "metadata": {},
   "outputs": [],
   "source": [
    "# Imputamos con el valor \"other\" al conjunto de datos para la característica modelo.\n",
    "cars_df['model'].fillna('other', inplace= True)"
   ]
  },
  {
   "cell_type": "code",
   "execution_count": 18,
   "metadata": {},
   "outputs": [
    {
     "data": {
      "image/png": "[encoded data removed]",
      "text/plain": [
       "<Figure size 1368x288 with 1 Axes>"
      ]
     },
     "metadata": {
      "needs_background": "light"
     },
     "output_type": "display_data"
    }
   ],
   "source": [
    "#Visualizamos la distribución para la característica 'vehicle_type'\n",
    "(cars_df.pivot_table(index= 'vehicle_type',values ='brand',aggfunc= 'count')\n",
    "       .sort_values(by= 'brand', ascending= False)\n",
    "       .head(10)\n",
    "       .plot(kind= 'bar', grid= True, figsize= (19,4)))\n",
    "plt.show()"
   ]
  },
  {
   "cell_type": "markdown",
   "metadata": {},
   "source": [
    "**Para el caso de la característica 'vehicle type' crearemos una categoría 'unknown'.**"
   ]
  },
  {
   "cell_type": "code",
   "execution_count": 19,
   "metadata": {},
   "outputs": [],
   "source": [
    "cars_df['vehicle_type'].fillna('unknown', inplace= True)"
   ]
  },
  {
   "cell_type": "code",
   "execution_count": 20,
   "metadata": {},
   "outputs": [
    {
     "data": {
      "image/png": "[encoded data removed]",
      "text/plain": [
       "<Figure size 1368x288 with 1 Axes>"
      ]
     },
     "metadata": {
      "needs_background": "light"
     },
     "output_type": "display_data"
    }
   ],
   "source": [
    "#Visualizamos la distribución para la característica 'gearbox'\n",
    "(cars_df.pivot_table(index= 'gearbox',values ='brand',aggfunc= 'count')\n",
    "       .sort_values(by= 'brand', ascending= False)\n",
    "       .head(10)\n",
    "       .plot(kind= 'bar', grid= True, figsize= (19,4)))\n",
    "plt.show()"
   ]
  },
  {
   "cell_type": "markdown",
   "metadata": {},
   "source": [
    "**Para el caso de la característica 'gearbox' crearemos una categoría 'unknown'.**\n"
   ]
  },
  {
   "cell_type": "code",
   "execution_count": 21,
   "metadata": {},
   "outputs": [],
   "source": [
    "cars_df['gearbox'].fillna('unknown', inplace= True)"
   ]
  },
  {
   "cell_type": "code",
   "execution_count": 22,
   "metadata": {},
   "outputs": [
    {
     "data": {
      "image/png": "[encoded data removed]",
      "text/plain": [
       "<Figure size 1368x288 with 1 Axes>"
      ]
     },
     "metadata": {
      "needs_background": "light"
     },
     "output_type": "display_data"
    }
   ],
   "source": [
    "#Visualizamos la distribución para la característica 'fuel_type'\n",
    "(cars_df.pivot_table(index= 'fuel_type',values ='brand',aggfunc= 'count')\n",
    "       .sort_values(by= 'brand', ascending= False)\n",
    "       .head(10)\n",
    "       .plot(kind= 'bar', grid= True, figsize= (19,4)))\n",
    "plt.show()"
   ]
  },
  {
   "cell_type": "markdown",
   "metadata": {},
   "source": [
    "**Para el caso de la característica 'fuel_type' crearemos una categoría 'unknown'.**"
   ]
  },
  {
   "cell_type": "code",
   "execution_count": 23,
   "metadata": {},
   "outputs": [],
   "source": [
    "cars_df['fuel_type'].fillna('unknown', inplace= True)"
   ]
  },
  {
   "cell_type": "code",
   "execution_count": 24,
   "metadata": {},
   "outputs": [
    {
     "data": {
      "image/png": "[encoded data removed]",
      "text/plain": [
       "<Figure size 1368x288 with 1 Axes>"
      ]
     },
     "metadata": {
      "needs_background": "light"
     },
     "output_type": "display_data"
    }
   ],
   "source": [
    "#Visualizamos la distribución para la característica 'fuel_type'\n",
    "(cars_df.pivot_table(index= 'not_repaired',values ='brand',aggfunc= 'count')\n",
    "       .sort_values(by= 'brand', ascending= False)\n",
    "       .head(10)\n",
    "       .plot(kind= 'bar', grid= True, figsize= (19,4)))\n",
    "plt.show()"
   ]
  },
  {
   "cell_type": "markdown",
   "metadata": {},
   "source": [
    "**Para el caso de la característica 'not_repaired' crearemos la categoría 'unknown'.**"
   ]
  },
  {
   "cell_type": "code",
   "execution_count": 25,
   "metadata": {},
   "outputs": [],
   "source": [
    "cars_df['not_repaired'].fillna('unknown', inplace= True)"
   ]
  },
  {
   "cell_type": "code",
   "execution_count": 26,
   "metadata": {},
   "outputs": [
    {
     "data": {
      "image/png": "[encoded data removed]",
      "text/plain": [
       "<Figure size 432x216 with 1 Axes>"
      ]
     },
     "metadata": {
      "needs_background": "light"
     },
     "output_type": "display_data"
    }
   ],
   "source": [
    "# Visualizamos nuevamente la cantidad de volores nulos en nuestro conjunto de datos.\n",
    "cars_df.isnull().sum().plot(kind= 'bar', figsize= (6,3))\n",
    "plt.show()"
   ]
  },
  {
   "cell_type": "markdown",
   "metadata": {},
   "source": [
    "## Verificación de valores atípicos."
   ]
  },
  {
   "cell_type": "code",
   "execution_count": 27,
   "metadata": {},
   "outputs": [
    {
     "data": {
      "text/plain": [
       "<AxesSubplot:>"
      ]
     },
     "execution_count": 27,
     "metadata": {},
     "output_type": "execute_result"
    },
    {
     "data": {
      "image/png": "[encoded data removed]",
      "text/plain": [
       "<Figure size 432x288 with 1 Axes>"
      ]
     },
     "metadata": {
      "needs_background": "light"
     },
     "output_type": "display_data"
    }
   ],
   "source": [
    "# Validamos la distribución de la característica 'price'.\n",
    "cars_df['price'].hist(bins= 30)\n"
   ]
  },
  {
   "cell_type": "code",
   "execution_count": 28,
   "metadata": {},
   "outputs": [
    {
     "data": {
      "text/plain": [
       "<AxesSubplot:>"
      ]
     },
     "execution_count": 28,
     "metadata": {},
     "output_type": "execute_result"
    },
    {
     "data": {
      "image/png": "[encoded data removed]",
      "text/plain": [
       "<Figure size 432x288 with 1 Axes>"
      ]
     },
     "metadata": {
      "needs_background": "light"
     },
     "output_type": "display_data"
    }
   ],
   "source": [
    "cars_df['price'].plot(kind= 'box')"
   ]
  },
  {
   "cell_type": "code",
   "execution_count": 29,
   "metadata": {},
   "outputs": [
    {
     "name": "stdout",
     "output_type": "stream",
     "text": [
      "porcentaje de valores \"0\": 3.04 %\n"
     ]
    }
   ],
   "source": [
    "# Número de valores '0' para price.\n",
    "print(f'porcentaje de valores \"0\": {round(cars_df[cars_df[\"price\"] == 0].shape[0]/cars_df.shape[0]*100,2)} %')"
   ]
  },
  {
   "cell_type": "markdown",
   "metadata": {},
   "source": [
    "**Conclusiones:**\n",
    "\n",
    "Existen observaciones con valor 0 para la característica 'price', pero estas solo representan el 3.04 %, por lo tanto serán eliminadas del conjunto de datos."
   ]
  },
  {
   "cell_type": "code",
   "execution_count": 30,
   "metadata": {},
   "outputs": [],
   "source": [
    "# Eliminamos los valores '0' del cojunto de datos.\n",
    "cars_df = cars_df[cars_df['price'] > 0]"
   ]
  },
  {
   "cell_type": "code",
   "execution_count": 31,
   "metadata": {},
   "outputs": [
    {
     "data": {
      "text/plain": [
       "0"
      ]
     },
     "execution_count": 31,
     "metadata": {},
     "output_type": "execute_result"
    }
   ],
   "source": [
    "cars_df[cars_df['price'] == 0].shape[0]"
   ]
  },
  {
   "cell_type": "markdown",
   "metadata": {},
   "source": [
    "**Validamos valores atípicos para la característica 'vehicle_type'.**"
   ]
  },
  {
   "cell_type": "code",
   "execution_count": 32,
   "metadata": {},
   "outputs": [
    {
     "data": {
      "text/plain": [
       "<AxesSubplot:>"
      ]
     },
     "execution_count": 32,
     "metadata": {},
     "output_type": "execute_result"
    },
    {
     "data": {
      "image/png": "[encoded data removed]",
      "text/plain": [
       "<Figure size 432x288 with 1 Axes>"
      ]
     },
     "metadata": {
      "needs_background": "light"
     },
     "output_type": "display_data"
    }
   ],
   "source": [
    "#Validamos valores atípicos para la característica 'vehicle_type'.\n",
    "cars_df['registration_year'].plot(kind= 'box')"
   ]
  },
  {
   "cell_type": "code",
   "execution_count": 33,
   "metadata": {},
   "outputs": [],
   "source": [
    "# Verificamos cunatos valores hay con un 'registration_year' mayor que 1970 y menor a 2023.\n",
    "reg_year = cars_df[(cars_df['registration_year']>1970) & (cars_df['registration_year'] < 2023)]['registration_year'].shape[0]"
   ]
  },
  {
   "cell_type": "code",
   "execution_count": 34,
   "metadata": {},
   "outputs": [
    {
     "name": "stdout",
     "output_type": "stream",
     "text": [
      "porcentaje de valores menor a 2023 y mayor a 1970: 0.45 %\n"
     ]
    }
   ],
   "source": [
    "# Número de valores '0' para price.\n",
    "print(f'porcentaje de valores menor a 2023 y mayor a 1970: {round(100-(reg_year/cars_df.shape[0]*100),2)} %')"
   ]
  },
  {
   "cell_type": "markdown",
   "metadata": {},
   "source": [
    "**Conclusiones:**\n",
    "\n",
    "Dado que es una plataforma para vender vehículos usados obviamente hay un error al momento de ingresar las característica 'observations_year'. Se tomará en cuenta solo las observaciones menores a 2023 y mayores a 1970, esto solo eliminará el 0.45% de las observaciones."
   ]
  },
  {
   "cell_type": "code",
   "execution_count": 35,
   "metadata": {},
   "outputs": [],
   "source": [
    "# Eliminamos los valores mayores 1970 y menores a 2023.\n",
    "cars_df = cars_df[(cars_df['registration_year']>1970) & (cars_df['registration_year'] < 2023)]"
   ]
  },
  {
   "cell_type": "markdown",
   "metadata": {},
   "source": [
    "**Validamos valores atípicos para la característica 'power'.**"
   ]
  },
  {
   "cell_type": "code",
   "execution_count": 36,
   "metadata": {},
   "outputs": [
    {
     "data": {
      "text/plain": [
       "<AxesSubplot:>"
      ]
     },
     "execution_count": 36,
     "metadata": {},
     "output_type": "execute_result"
    },
    {
     "data": {
      "image/png": "[encoded data removed]",
      "text/plain": [
       "<Figure size 432x288 with 1 Axes>"
      ]
     },
     "metadata": {
      "needs_background": "light"
     },
     "output_type": "display_data"
    }
   ],
   "source": [
    "#Validamos valores atípicos para la característica 'power'.\n",
    "cars_df['power'].plot(kind= 'box')"
   ]
  },
  {
   "cell_type": "code",
   "execution_count": 37,
   "metadata": {},
   "outputs": [
    {
     "data": {
      "text/plain": [
       "<AxesSubplot:>"
      ]
     },
     "execution_count": 37,
     "metadata": {},
     "output_type": "execute_result"
    },
    {
     "data": {
      "image/png": "[encoded data removed]",
      "text/plain": [
       "<Figure size 432x288 with 1 Axes>"
      ]
     },
     "metadata": {
      "needs_background": "light"
     },
     "output_type": "display_data"
    }
   ],
   "source": [
    "cars_df['power'].hist(bins=50)"
   ]
  },
  {
   "cell_type": "code",
   "execution_count": 38,
   "metadata": {},
   "outputs": [
    {
     "data": {
      "text/plain": [
       "305"
      ]
     },
     "execution_count": 38,
     "metadata": {},
     "output_type": "execute_result"
    }
   ],
   "source": [
    "# Verificamos cuentas observaciones mayores a 800 cv en la característica 'power' existen.\n",
    "cars_df[cars_df['power'] > 800]['power'].shape[0]"
   ]
  },
  {
   "cell_type": "code",
   "execution_count": 39,
   "metadata": {},
   "outputs": [
    {
     "name": "stdout",
     "output_type": "stream",
     "text": [
      "porcentaje de menor a 800cv es: 0.09 %\n"
     ]
    }
   ],
   "source": [
    "print(f'porcentaje de menor a 800cv es: {round(cars_df[cars_df[\"power\"] > 800][\"power\"].shape[0]/cars_df.shape[0]*100,2)} %')"
   ]
  },
  {
   "cell_type": "markdown",
   "metadata": {},
   "source": [
    "**Conclusiones:**\n",
    "\n",
    "La alta potencia es una característica de vehículos de alta gama. Ya que el dueño de un vehículo no optaría por una plataforma online para venderlo, filtraremos el conjunto datos con un límite de 800 cv en la característica 'power', esto eliminó el 0.09% de observaciones del conjunto de datos."
   ]
  },
  {
   "cell_type": "code",
   "execution_count": 40,
   "metadata": {},
   "outputs": [],
   "source": [
    "# Eliminamos los valores mayores a 800cv.\n",
    "cars_df = cars_df[cars_df['power'] < 800]"
   ]
  },
  {
   "cell_type": "markdown",
   "metadata": {},
   "source": [
    "**Validamos valores atípicos para la característica 'mileage'.**"
   ]
  },
  {
   "cell_type": "code",
   "execution_count": 41,
   "metadata": {},
   "outputs": [
    {
     "data": {
      "text/plain": [
       "<AxesSubplot:>"
      ]
     },
     "execution_count": 41,
     "metadata": {},
     "output_type": "execute_result"
    },
    {
     "data": {
      "image/png": "[encoded data removed]",
      "text/plain": [
       "<Figure size 432x288 with 1 Axes>"
      ]
     },
     "metadata": {
      "needs_background": "light"
     },
     "output_type": "display_data"
    }
   ],
   "source": [
    "#Validamos valores atípicos para la característica 'mileage'.\n",
    "cars_df['mileage'].plot(kind= 'box')"
   ]
  },
  {
   "cell_type": "code",
   "execution_count": 42,
   "metadata": {},
   "outputs": [
    {
     "data": {
      "text/plain": [
       "<AxesSubplot:>"
      ]
     },
     "execution_count": 42,
     "metadata": {},
     "output_type": "execute_result"
    },
    {
     "data": {
      "image/png": "[encoded data removed]",
      "text/plain": [
       "<Figure size 432x288 with 1 Axes>"
      ]
     },
     "metadata": {
      "needs_background": "light"
     },
     "output_type": "display_data"
    }
   ],
   "source": [
    "cars_df['mileage'].hist()"
   ]
  },
  {
   "cell_type": "markdown",
   "metadata": {},
   "source": [
    "**Conclusiones:**\n",
    "\n",
    "Para la característica 'mileage' no hemos encontrado ningún valor anómalo."
   ]
  },
  {
   "cell_type": "markdown",
   "metadata": {},
   "source": [
    "# Entrenamiento del modelo "
   ]
  },
  {
   "cell_type": "code",
   "execution_count": 43,
   "metadata": {},
   "outputs": [
    {
     "name": "stdout",
     "output_type": "stream",
     "text": [
      "Tamaño características (341744, 9)\n",
      "Tamaño características (341744,)\n"
     ]
    }
   ],
   "source": [
    "# Dividimos nuestro modelo en características y objetivo, en este caso el objetivo es 'price'.\n",
    "X = cars_df.drop('price', axis= 1)\n",
    "y = cars_df['price']\n",
    "\n",
    "print('Tamaño características',X.shape)\n",
    "print('Tamaño características',y.shape)"
   ]
  },
  {
   "cell_type": "code",
   "execution_count": 44,
   "metadata": {},
   "outputs": [
    {
     "name": "stdout",
     "output_type": "stream",
     "text": [
      "Tamaño características (341744, 9)\n",
      "Tamaño objetivo (341744,)\n",
      "Tamaño caracteristicas OHE:  (341744, 316)\n"
     ]
    }
   ],
   "source": [
    "# Dividimos nuestro modelo en características y objetivo, en este caso el objetivo es 'price'.\n",
    "\n",
    "X = cars_df.drop('price', axis= 1)\n",
    "y = cars_df['price']\n",
    "\n",
    "# Obtenemos OHE de X\n",
    "X_ohe = pd.get_dummies(cars_df.drop('price', axis= 1))\n",
    "\n",
    "print('Tamaño características',X.shape)\n",
    "print('Tamaño objetivo',y.shape)\n",
    "print('Tamaño caracteristicas OHE: ',X_ohe.shape)"
   ]
  },
  {
   "cell_type": "code",
   "execution_count": 45,
   "metadata": {},
   "outputs": [
    {
     "name": "stdout",
     "output_type": "stream",
     "text": [
      "Tamaño X_train (239220, 9)\n",
      "Tamaño X_test (102524, 9)\n",
      "Tamaño y_train (239220,)\n",
      "Tamaño y_test (102524,)\n",
      "Tamaño X_ohe_train (239220, 316)\n",
      "Tamaño X_ohe_test (239220, 316)\n"
     ]
    }
   ],
   "source": [
    "# Dividimos nuestros conjuntos de datos en entrenamiento y prueba.\n",
    "X_train, X_test, y_train, y_test = train_test_split(X, y, test_size= 0.3, random_state= 42)\n",
    "\n",
    "# Dividimos el conjunto OHE\n",
    "\n",
    "X_ohe_train, X_ohe_test, y_ohe_train, y_ohe_test = train_test_split(X_ohe, y, test_size= 0.3, random_state= 42)\n",
    "\n",
    "print('Tamaño X_train',X_train.shape)\n",
    "print('Tamaño X_test',X_test.shape)\n",
    "print('Tamaño y_train',y_train.shape)\n",
    "print('Tamaño y_test',y_test.shape)\n",
    "print('Tamaño X_ohe_train', X_ohe_train.shape)\n",
    "print('Tamaño X_ohe_test', X_ohe_train.shape)"
   ]
  },
  {
   "cell_type": "code",
   "execution_count": 46,
   "metadata": {},
   "outputs": [],
   "source": [
    "# Definimos una función para evaluar el modelo\n",
    "def rmse_eval(predictions, y):\n",
    "    return mean_squared_error(predictions, y) ** 0.5"
   ]
  },
  {
   "cell_type": "code",
   "execution_count": 47,
   "metadata": {},
   "outputs": [],
   "source": [
    "# Definimos un diccionario donde se gurdarán las métricas de rendimiento.\n",
    "\n",
    "metrics = {'fitting_time':[],\n",
    "          'prediction_time':[],\n",
    "          'RMSE': []}"
   ]
  },
  {
   "cell_type": "markdown",
   "metadata": {},
   "source": [
    "## Regresión lineal"
   ]
  },
  {
   "cell_type": "code",
   "execution_count": 48,
   "metadata": {
    "scrolled": true
   },
   "outputs": [
    {
     "name": "stdout",
     "output_type": "stream",
     "text": [
      "Tiempo de entrenamiento:  21.991\n",
      "Tiempo de predicción:  0.234\n",
      "RMSE:  2640.102\n"
     ]
    }
   ],
   "source": [
    "start = time.time()\n",
    "\n",
    "rl_model = LinearRegression()\n",
    "rl_model.fit(X_ohe_train, y_ohe_train)\n",
    "\n",
    "finish_fit = time.time()\n",
    "\n",
    "predictions = rl_model.predict(X_ohe_test)\n",
    "\n",
    "finish_predict = time.time()\n",
    "\n",
    "metrics['fitting_time'].append(round(finish_fit - start,3))\n",
    "metrics['prediction_time'].append(round(finish_predict - finish_fit,3))\n",
    "metrics['RMSE'].append(round(rmse_eval(predictions, y_ohe_test),3))\n",
    "\n",
    "print('Tiempo de entrenamiento: ',metrics['fitting_time'][-1])\n",
    "print('Tiempo de predicción: ',metrics['prediction_time'][-1])\n",
    "print('RMSE: ',metrics['RMSE'][-1])"
   ]
  },
  {
   "cell_type": "markdown",
   "metadata": {},
   "source": [
    "## Decission Tree Regresor"
   ]
  },
  {
   "cell_type": "code",
   "execution_count": 49,
   "metadata": {},
   "outputs": [
    {
     "name": "stdout",
     "output_type": "stream",
     "text": [
      "Tiempo de entrenamiento:  143.526\n",
      "Tiempo de predicción:  0.149\n",
      "RMSE:  2074.846\n"
     ]
    }
   ],
   "source": [
    "start = time.time()\n",
    "\n",
    "params = {'max_depth':list(range(1,10)),'random_state': [42]}\n",
    "\n",
    "dt_model = DecisionTreeRegressor()\n",
    "\n",
    "#my_scorer = make_scorer(rmse_eval, greater_is_better=False)\n",
    "\n",
    "grid = GridSearchCV(dt_model, params, scoring= 'neg_root_mean_squared_error', cv= 5)\n",
    "grid.fit(X_ohe_train, y_ohe_train)\n",
    "\n",
    "finish_fit = time.time()\n",
    "\n",
    "predictions = grid.predict(X_ohe_test)\n",
    "\n",
    "finish_predict = time.time()\n",
    "\n",
    "metrics['fitting_time'].append(round(finish_fit - start,3))\n",
    "metrics['prediction_time'].append(round(finish_predict - finish_fit,3))\n",
    "metrics['RMSE'].append(round(rmse_eval(predictions, y_ohe_test),3))\n",
    "\n",
    "print('Tiempo de entrenamiento: ',metrics['fitting_time'][-1])\n",
    "print('Tiempo de predicción: ',metrics['prediction_time'][-1])\n",
    "print('RMSE: ',metrics['RMSE'][-1])"
   ]
  },
  {
   "cell_type": "markdown",
   "metadata": {},
   "source": [
    "## Random Forest Regressor"
   ]
  },
  {
   "cell_type": "code",
   "execution_count": 50,
   "metadata": {},
   "outputs": [
    {
     "name": "stdout",
     "output_type": "stream",
     "text": [
      "Tiempo de entrenamiento:  1077.945\n",
      "Tiempo de predicción:  0.537\n",
      "RMSE:  2621.734\n"
     ]
    }
   ],
   "source": [
    "start = time.time()\n",
    "\n",
    "params = {'max_depth':[2,4], 'n_estimators':[100,110], 'random_state': [42]}\n",
    "\n",
    "rf_model = RandomForestRegressor()\n",
    "\n",
    "grid = GridSearchCV(rf_model, params, scoring= 'neg_root_mean_squared_error', cv= 3)\n",
    "grid.fit(X_ohe_train, y_ohe_train)\n",
    "\n",
    "finish_fit = time.time()\n",
    "\n",
    "predictions = grid.predict(X_ohe_test)\n",
    "\n",
    "finish_predict = time.time()\n",
    "\n",
    "metrics['fitting_time'].append(round(finish_fit - start,3))\n",
    "metrics['prediction_time'].append(round(finish_predict - finish_fit,3))\n",
    "metrics['RMSE'].append(round(rmse_eval(predictions, y_ohe_test),3))\n",
    "\n",
    "print('Tiempo de entrenamiento: ',metrics['fitting_time'][-1])\n",
    "print('Tiempo de predicción: ',metrics['prediction_time'][-1])\n",
    "print('RMSE: ',metrics['RMSE'][-1])"
   ]
  },
  {
   "cell_type": "markdown",
   "metadata": {},
   "source": [
    "## XGB"
   ]
  },
  {
   "cell_type": "code",
   "execution_count": 51,
   "metadata": {},
   "outputs": [
    {
     "name": "stdout",
     "output_type": "stream",
     "text": [
      "Tiempo de entrenamiento:  4557.679\n",
      "Tiempo de predicción:  1.369\n",
      "RMSE:  1731.432\n"
     ]
    }
   ],
   "source": [
    "start = time.time()\n",
    "\n",
    "params = {\n",
    "    'max_depth':[2,4], \n",
    "    'n_estimators':[100, 110], \n",
    "    'random_state': [42], \n",
    "    'eta': [0.1, 0.5]\n",
    "}\n",
    "\n",
    "XGB_model = XGBRegressor()\n",
    "grid = GridSearchCV(XGB_model, params, scoring= 'neg_root_mean_squared_error', cv= 3)\n",
    "grid.fit(X_ohe_train, y_ohe_train)\n",
    "\n",
    "finish_fit = time.time()\n",
    "\n",
    "predictions = grid.predict(X_ohe_test)\n",
    "\n",
    "finish_predict = time.time()\n",
    "\n",
    "metrics['fitting_time'].append(round(finish_fit - start,3))\n",
    "metrics['prediction_time'].append(round(finish_predict - finish_fit,3))\n",
    "metrics['RMSE'].append(round(rmse_eval(predictions, y_ohe_test),3))\n",
    "\n",
    "print('Tiempo de entrenamiento: ',metrics['fitting_time'][-1])\n",
    "print('Tiempo de predicción: ',metrics['prediction_time'][-1])\n",
    "print('RMSE: ',metrics['RMSE'][-1])"
   ]
  },
  {
   "cell_type": "markdown",
   "metadata": {},
   "source": [
    "## CatBoost"
   ]
  },
  {
   "cell_type": "code",
   "execution_count": 52,
   "metadata": {},
   "outputs": [
    {
     "name": "stdout",
     "output_type": "stream",
     "text": [
      "Tiempo de entrenamiento:  416.27\n",
      "Tiempo de predicción:  0.191\n",
      "RMSE:  1638.482\n"
     ]
    }
   ],
   "source": [
    "# Identificamos los mejores hiperparámetros.\n",
    "start = time.time()\n",
    "\n",
    "categorical = ['vehicle_type','gearbox', 'model', 'fuel_type', 'brand', 'not_repaired']\n",
    "best_rmse = 10000\n",
    "best_iterations = None\n",
    "best_learning_rate = None\n",
    "best_depth = None\n",
    "\n",
    "for iteration in [100,150]:\n",
    "    for learning_r in [0.1,0.5,1]:\n",
    "        for depth in [6,8]:\n",
    "            cat_model = CatBoostRegressor(random_seed=42, silent=True, iterations= iteration, learning_rate= learning_r,\n",
    "                                          depth= depth)\n",
    "            cat_model.fit(X_train, y_train, cat_features= categorical)\n",
    "            rmse = rmse_eval(cat_model.predict(X_test), y_test)\n",
    "            if rmse < best_rmse:\n",
    "                best_rmse = rmse\n",
    "                best_iterations = iteration\n",
    "                best_learning_rate = learning_r\n",
    "                best_depth = depth\n",
    "\n",
    "# Entrenamos el modelo con los mejores parámetros detectados y obtenemos los resultados de rendimiento.\n",
    "                \n",
    "cat_model = CatBoostRegressor(random_seed=42, silent=True, iterations= best_iterations, learning_rate= best_learning_rate,\n",
    "                                          depth= best_depth)\n",
    "\n",
    "cat_model.fit(X_train, y_train, cat_features= categorical)  \n",
    "\n",
    "finish_fit = time.time()\n",
    "\n",
    "predictions = cat_model.predict(X_test)\n",
    "\n",
    "finish_predict = time.time()\n",
    "\n",
    "metrics['fitting_time'].append(round(finish_fit - start,3))\n",
    "metrics['prediction_time'].append(round(finish_predict - finish_fit,3))\n",
    "metrics['RMSE'].append(round(rmse_eval(predictions, y_ohe_test),3))\n",
    "\n",
    "print('Tiempo de entrenamiento: ',metrics['fitting_time'][-1])\n",
    "print('Tiempo de predicción: ',metrics['prediction_time'][-1])\n",
    "print('RMSE: ',metrics['RMSE'][-1])"
   ]
  },
  {
   "cell_type": "markdown",
   "metadata": {},
   "source": [
    "## LightGBM"
   ]
  },
  {
   "cell_type": "code",
   "execution_count": 53,
   "metadata": {
    "scrolled": false
   },
   "outputs": [
    {
     "name": "stderr",
     "output_type": "stream",
     "text": [
      "/tmp/ipykernel_44/2451273479.py:6: SettingWithCopyWarning: \n",
      "A value is trying to be set on a copy of a slice from a DataFrame.\n",
      "Try using .loc[row_indexer,col_indexer] = value instead\n",
      "\n",
      "See the caveats in the documentation: https://pandas.pydata.org/pandas-docs/stable/user_guide/indexing.html#returning-a-view-versus-a-copy\n",
      "  X_train[feature] = pd.Series(X_train[feature], dtype=\"category\")\n",
      "/tmp/ipykernel_44/2451273479.py:7: SettingWithCopyWarning: \n",
      "A value is trying to be set on a copy of a slice from a DataFrame.\n",
      "Try using .loc[row_indexer,col_indexer] = value instead\n",
      "\n",
      "See the caveats in the documentation: https://pandas.pydata.org/pandas-docs/stable/user_guide/indexing.html#returning-a-view-versus-a-copy\n",
      "  X_test[feature] = pd.Series(X_test[feature], dtype=\"category\")\n",
      "/opt/conda/lib/python3.9/site-packages/lightgbm/engine.py:239: UserWarning: 'verbose_eval' argument is deprecated and will be removed in a future release of LightGBM. Pass 'log_evaluation()' callback via 'callbacks' argument instead.\n",
      "  _log_warning(\"'verbose_eval' argument is deprecated and will be removed in a future release of LightGBM. \"\n"
     ]
    },
    {
     "name": "stdout",
     "output_type": "stream",
     "text": [
      "[LightGBM] [Warning] Auto-choosing row-wise multi-threading, the overhead of testing was 0.159329 seconds.\n",
      "You can set `force_row_wise=true` to remove the overhead.\n",
      "And if memory is not enough, you can set `force_col_wise=true`.\n",
      "[LightGBM] [Info] Total Bins 740\n",
      "[LightGBM] [Info] Number of data points in the train set: 239220, number of used features: 9\n",
      "[LightGBM] [Info] Start training from score 4539.098148\n"
     ]
    },
    {
     "name": "stderr",
     "output_type": "stream",
     "text": [
      "/opt/conda/lib/python3.9/site-packages/lightgbm/engine.py:239: UserWarning: 'verbose_eval' argument is deprecated and will be removed in a future release of LightGBM. Pass 'log_evaluation()' callback via 'callbacks' argument instead.\n",
      "  _log_warning(\"'verbose_eval' argument is deprecated and will be removed in a future release of LightGBM. \"\n"
     ]
    },
    {
     "name": "stdout",
     "output_type": "stream",
     "text": [
      "[LightGBM] [Warning] Auto-choosing row-wise multi-threading, the overhead of testing was 0.169607 seconds.\n",
      "You can set `force_row_wise=true` to remove the overhead.\n",
      "And if memory is not enough, you can set `force_col_wise=true`.\n",
      "[LightGBM] [Info] Total Bins 740\n",
      "[LightGBM] [Info] Number of data points in the train set: 239220, number of used features: 9\n",
      "[LightGBM] [Info] Start training from score 4539.098148\n"
     ]
    },
    {
     "name": "stderr",
     "output_type": "stream",
     "text": [
      "/opt/conda/lib/python3.9/site-packages/lightgbm/engine.py:239: UserWarning: 'verbose_eval' argument is deprecated and will be removed in a future release of LightGBM. Pass 'log_evaluation()' callback via 'callbacks' argument instead.\n",
      "  _log_warning(\"'verbose_eval' argument is deprecated and will be removed in a future release of LightGBM. \"\n"
     ]
    },
    {
     "name": "stdout",
     "output_type": "stream",
     "text": [
      "[LightGBM] [Warning] Auto-choosing row-wise multi-threading, the overhead of testing was 0.151318 seconds.\n",
      "You can set `force_row_wise=true` to remove the overhead.\n",
      "And if memory is not enough, you can set `force_col_wise=true`.\n",
      "[LightGBM] [Info] Total Bins 740\n",
      "[LightGBM] [Info] Number of data points in the train set: 239220, number of used features: 9\n",
      "[LightGBM] [Info] Start training from score 4539.098148\n"
     ]
    },
    {
     "name": "stderr",
     "output_type": "stream",
     "text": [
      "/opt/conda/lib/python3.9/site-packages/lightgbm/engine.py:239: UserWarning: 'verbose_eval' argument is deprecated and will be removed in a future release of LightGBM. Pass 'log_evaluation()' callback via 'callbacks' argument instead.\n",
      "  _log_warning(\"'verbose_eval' argument is deprecated and will be removed in a future release of LightGBM. \"\n"
     ]
    },
    {
     "name": "stdout",
     "output_type": "stream",
     "text": [
      "[LightGBM] [Warning] Auto-choosing row-wise multi-threading, the overhead of testing was 0.100844 seconds.\n",
      "You can set `force_row_wise=true` to remove the overhead.\n",
      "And if memory is not enough, you can set `force_col_wise=true`.\n",
      "[LightGBM] [Info] Total Bins 740\n",
      "[LightGBM] [Info] Number of data points in the train set: 239220, number of used features: 9\n",
      "[LightGBM] [Info] Start training from score 4539.098148\n"
     ]
    },
    {
     "name": "stderr",
     "output_type": "stream",
     "text": [
      "/opt/conda/lib/python3.9/site-packages/lightgbm/engine.py:239: UserWarning: 'verbose_eval' argument is deprecated and will be removed in a future release of LightGBM. Pass 'log_evaluation()' callback via 'callbacks' argument instead.\n",
      "  _log_warning(\"'verbose_eval' argument is deprecated and will be removed in a future release of LightGBM. \"\n"
     ]
    },
    {
     "name": "stdout",
     "output_type": "stream",
     "text": [
      "[LightGBM] [Warning] Auto-choosing row-wise multi-threading, the overhead of testing was 0.108770 seconds.\n",
      "You can set `force_row_wise=true` to remove the overhead.\n",
      "And if memory is not enough, you can set `force_col_wise=true`.\n",
      "[LightGBM] [Info] Total Bins 740\n",
      "[LightGBM] [Info] Number of data points in the train set: 239220, number of used features: 9\n",
      "[LightGBM] [Info] Start training from score 4539.098148\n"
     ]
    },
    {
     "name": "stderr",
     "output_type": "stream",
     "text": [
      "/opt/conda/lib/python3.9/site-packages/lightgbm/engine.py:239: UserWarning: 'verbose_eval' argument is deprecated and will be removed in a future release of LightGBM. Pass 'log_evaluation()' callback via 'callbacks' argument instead.\n",
      "  _log_warning(\"'verbose_eval' argument is deprecated and will be removed in a future release of LightGBM. \"\n"
     ]
    },
    {
     "name": "stdout",
     "output_type": "stream",
     "text": [
      "[LightGBM] [Warning] Auto-choosing row-wise multi-threading, the overhead of testing was 0.102855 seconds.\n",
      "You can set `force_row_wise=true` to remove the overhead.\n",
      "And if memory is not enough, you can set `force_col_wise=true`.\n",
      "[LightGBM] [Info] Total Bins 740\n",
      "[LightGBM] [Info] Number of data points in the train set: 239220, number of used features: 9\n",
      "[LightGBM] [Info] Start training from score 4539.098148\n"
     ]
    },
    {
     "name": "stderr",
     "output_type": "stream",
     "text": [
      "/opt/conda/lib/python3.9/site-packages/lightgbm/engine.py:239: UserWarning: 'verbose_eval' argument is deprecated and will be removed in a future release of LightGBM. Pass 'log_evaluation()' callback via 'callbacks' argument instead.\n",
      "  _log_warning(\"'verbose_eval' argument is deprecated and will be removed in a future release of LightGBM. \"\n"
     ]
    },
    {
     "name": "stdout",
     "output_type": "stream",
     "text": [
      "[LightGBM] [Warning] Auto-choosing row-wise multi-threading, the overhead of testing was 0.154445 seconds.\n",
      "You can set `force_row_wise=true` to remove the overhead.\n",
      "And if memory is not enough, you can set `force_col_wise=true`.\n",
      "[LightGBM] [Info] Total Bins 740\n",
      "[LightGBM] [Info] Number of data points in the train set: 239220, number of used features: 9\n",
      "[LightGBM] [Info] Start training from score 4539.098148\n"
     ]
    },
    {
     "name": "stderr",
     "output_type": "stream",
     "text": [
      "/opt/conda/lib/python3.9/site-packages/lightgbm/engine.py:239: UserWarning: 'verbose_eval' argument is deprecated and will be removed in a future release of LightGBM. Pass 'log_evaluation()' callback via 'callbacks' argument instead.\n",
      "  _log_warning(\"'verbose_eval' argument is deprecated and will be removed in a future release of LightGBM. \"\n"
     ]
    },
    {
     "name": "stdout",
     "output_type": "stream",
     "text": [
      "[LightGBM] [Warning] Auto-choosing row-wise multi-threading, the overhead of testing was 0.163509 seconds.\n",
      "You can set `force_row_wise=true` to remove the overhead.\n",
      "And if memory is not enough, you can set `force_col_wise=true`.\n",
      "[LightGBM] [Info] Total Bins 740\n",
      "[LightGBM] [Info] Number of data points in the train set: 239220, number of used features: 9\n",
      "[LightGBM] [Info] Start training from score 4539.098148\n"
     ]
    },
    {
     "name": "stderr",
     "output_type": "stream",
     "text": [
      "/opt/conda/lib/python3.9/site-packages/lightgbm/engine.py:239: UserWarning: 'verbose_eval' argument is deprecated and will be removed in a future release of LightGBM. Pass 'log_evaluation()' callback via 'callbacks' argument instead.\n",
      "  _log_warning(\"'verbose_eval' argument is deprecated and will be removed in a future release of LightGBM. \"\n"
     ]
    },
    {
     "name": "stdout",
     "output_type": "stream",
     "text": [
      "[LightGBM] [Warning] Auto-choosing row-wise multi-threading, the overhead of testing was 0.163905 seconds.\n",
      "You can set `force_row_wise=true` to remove the overhead.\n",
      "And if memory is not enough, you can set `force_col_wise=true`.\n",
      "[LightGBM] [Info] Total Bins 740\n",
      "[LightGBM] [Info] Number of data points in the train set: 239220, number of used features: 9\n",
      "[LightGBM] [Info] Start training from score 4539.098148\n",
      "Tiempo de entrenamiento:  331.672\n",
      "Tiempo de predicción:  0.187\n",
      "RMSE:  4180.448\n"
     ]
    }
   ],
   "source": [
    "# Identificamos los mejores hiperparámetros.\n",
    "start = time.time()\n",
    "\n",
    "obj_feat = list(X_test.loc[:, X_test.dtypes == 'object'].columns.values)\n",
    "for feature in obj_feat:\n",
    "    X_train[feature] = pd.Series(X_train[feature], dtype=\"category\")\n",
    "    X_test[feature] = pd.Series(X_test[feature], dtype=\"category\")\n",
    "\n",
    "best_rmse = 10000\n",
    "best_learningr = None\n",
    "best_numleaves = None\n",
    "best_maxb = None\n",
    "\n",
    "for learning_r in [0.005, 0.01]:\n",
    "    for numl in [120, 128]:\n",
    "        for maxb in [512,560]:\n",
    "            hyper_params = {\n",
    "                'task': 'train',\n",
    "                'boosting_type': 'gbdt',\n",
    "                'objective': 'regression',\n",
    "                'metric': None,\n",
    "                'learning_rate': learning_r,\n",
    "                \"num_leaves\": numl,  \n",
    "                \"max_bin\": maxb\n",
    "            }\n",
    "\n",
    "\n",
    "            lgb_train = lgb.Dataset(X_train, y_train)\n",
    "            gbm = lgb.train(hyper_params, lgb_train, num_boost_round=10, verbose_eval=False)\n",
    "\n",
    "            predictions = gbm.predict(X_test)\n",
    "            rmse = rmse_eval(gbm.predict(X_test), y_test)\n",
    "            if rmse < best_rmse:\n",
    "                \n",
    "                best_eval = rmse\n",
    "                best_learningr = learning_r\n",
    "                best_numleaves = numl\n",
    "                best_maxb = maxb\n",
    "\n",
    "# Entrenamos el modelo con los mejores parámetros detectados y obtenemos los resultados de rendimiento.\n",
    "hyper_params = {\n",
    "                'task': 'train',\n",
    "                'boosting_type': 'gbdt',\n",
    "                'objective': 'regression',\n",
    "                'metric': None,\n",
    "                'learning_rate': best_learningr,\n",
    "                \"num_leaves\": best_numleaves,  \n",
    "                \"max_bin\": best_maxb\n",
    "            }\n",
    "\n",
    "lgb_train = lgb.Dataset(X_train, y_train)\n",
    "gbm = lgb.train(hyper_params, lgb_train, num_boost_round=10, verbose_eval=False)   \n",
    "\n",
    "finish_fit = time.time() \n",
    "\n",
    "predictions = gbm.predict(X_test)\n",
    "\n",
    "finish_predict = time.time()\n",
    "\n",
    "metrics['fitting_time'].append(round(finish_fit - start,3))\n",
    "metrics['prediction_time'].append(round(finish_predict - finish_fit,3))\n",
    "metrics['RMSE'].append(round(rmse_eval(predictions, y_ohe_test),3))\n",
    "\n",
    "print('Tiempo de entrenamiento: ',metrics['fitting_time'][-1])\n",
    "print('Tiempo de predicción: ',metrics['prediction_time'][-1])\n",
    "print('RMSE: ',metrics['RMSE'][-1])"
   ]
  },
  {
   "cell_type": "markdown",
   "metadata": {},
   "source": [
    "# Análisis del modelo"
   ]
  },
  {
   "cell_type": "code",
   "execution_count": 54,
   "metadata": {},
   "outputs": [],
   "source": [
    "index= ['linear Regresion','Decission Tree','Random Forest','XGB', 'Cat Boost', 'Light GBM']"
   ]
  },
  {
   "cell_type": "code",
   "execution_count": 55,
   "metadata": {},
   "outputs": [
    {
     "data": {
      "text/html": [
       "<div>\n",
       "<style scoped>\n",
       "    .dataframe tbody tr th:only-of-type {\n",
       "        vertical-align: middle;\n",
       "    }\n",
       "\n",
       "    .dataframe tbody tr th {\n",
       "        vertical-align: top;\n",
       "    }\n",
       "\n",
       "    .dataframe thead th {\n",
       "        text-align: right;\n",
       "    }\n",
       "</style>\n",
       "<table border=\"1\" class=\"dataframe\">\n",
       "  <thead>\n",
       "    <tr style=\"text-align: right;\">\n",
       "      <th></th>\n",
       "      <th>fitting_time</th>\n",
       "      <th>prediction_time</th>\n",
       "      <th>RMSE</th>\n",
       "    </tr>\n",
       "  </thead>\n",
       "  <tbody>\n",
       "    <tr>\n",
       "      <th>linear Regresion</th>\n",
       "      <td>21.991</td>\n",
       "      <td>0.234</td>\n",
       "      <td>2640.102</td>\n",
       "    </tr>\n",
       "    <tr>\n",
       "      <th>Decission Tree</th>\n",
       "      <td>143.526</td>\n",
       "      <td>0.149</td>\n",
       "      <td>2074.846</td>\n",
       "    </tr>\n",
       "    <tr>\n",
       "      <th>Random Forest</th>\n",
       "      <td>1077.945</td>\n",
       "      <td>0.537</td>\n",
       "      <td>2621.734</td>\n",
       "    </tr>\n",
       "    <tr>\n",
       "      <th>XGB</th>\n",
       "      <td>4557.679</td>\n",
       "      <td>1.369</td>\n",
       "      <td>1731.432</td>\n",
       "    </tr>\n",
       "    <tr>\n",
       "      <th>Cat Boost</th>\n",
       "      <td>416.270</td>\n",
       "      <td>0.191</td>\n",
       "      <td>1638.482</td>\n",
       "    </tr>\n",
       "    <tr>\n",
       "      <th>Light GBM</th>\n",
       "      <td>331.672</td>\n",
       "      <td>0.187</td>\n",
       "      <td>4180.448</td>\n",
       "    </tr>\n",
       "  </tbody>\n",
       "</table>\n",
       "</div>"
      ],
      "text/plain": [
       "                  fitting_time  prediction_time      RMSE\n",
       "linear Regresion        21.991            0.234  2640.102\n",
       "Decission Tree         143.526            0.149  2074.846\n",
       "Random Forest         1077.945            0.537  2621.734\n",
       "XGB                   4557.679            1.369  1731.432\n",
       "Cat Boost              416.270            0.191  1638.482\n",
       "Light GBM              331.672            0.187  4180.448"
      ]
     },
     "execution_count": 55,
     "metadata": {},
     "output_type": "execute_result"
    }
   ],
   "source": [
    "metrics_df = pd.DataFrame(metrics, index= index)\n",
    "metrics_df"
   ]
  },
  {
   "cell_type": "code",
   "execution_count": 56,
   "metadata": {},
   "outputs": [
    {
     "data": {
      "image/png": "[encoded data removed]",
      "text/plain": [
       "<Figure size 1152x648 with 1 Axes>"
      ]
     },
     "metadata": {
      "needs_background": "light"
     },
     "output_type": "display_data"
    }
   ],
   "source": [
    "metrics_df['fitting_time'].plot(kind= 'bar', figsize= (16,9), grid= True, title= 'FITTING TIME')\n",
    "plt.show()"
   ]
  },
  {
   "cell_type": "code",
   "execution_count": 57,
   "metadata": {},
   "outputs": [
    {
     "data": {
      "image/png": "[encoded data removed]",
      "text/plain": [
       "<Figure size 1152x648 with 1 Axes>"
      ]
     },
     "metadata": {
      "needs_background": "light"
     },
     "output_type": "display_data"
    }
   ],
   "source": [
    "metrics_df['prediction_time'].plot(kind= 'bar', figsize= (16,9), grid= True, title= 'PREDICTION TIME')\n",
    "plt.show()"
   ]
  },
  {
   "cell_type": "code",
   "execution_count": 58,
   "metadata": {},
   "outputs": [
    {
     "data": {
      "image/png": "[encoded data removed]",
      "text/plain": [
       "<Figure size 1152x648 with 1 Axes>"
      ]
     },
     "metadata": {
      "needs_background": "light"
     },
     "output_type": "display_data"
    }
   ],
   "source": [
    "metrics_df['RMSE'].plot(kind= 'bar', figsize= (16,9), grid= True, title= 'RSME')\n",
    "plt.show()"
   ]
  },
  {
   "cell_type": "markdown",
   "metadata": {},
   "source": [
    "**CONCLLUSIONES:**\n",
    "\n",
    "- El modelo XGB tiene un exelente valor RMSE, sin embargo el modelo que mas le toma tiempo aprender y predecir. No es una opción para el cliente por el tiempo de ejecución.\n",
    "\n",
    "- El modelo LightGBM tiene unos exelentes tiempos de respuesta sin embargo el RMSE es muy alto, incluso su RMSE es mas elevado que el da la regresión lieneal, por lo que no pasa la prueba de cordura.\n",
    "\n",
    "- El modelo Catboost sin embargo es sobresaliente en velocidad y métrica RMSE, este modelo sería el adecuado ya que cumple con un bajo tiempo de ejecución "
   ]
  },
  {
   "cell_type": "code",
   "execution_count": null,
   "metadata": {},
   "outputs": [],
   "source": []
  }
 ],
 "metadata": {
  "kernelspec": {
   "display_name": "Python 3",
   "language": "python",
   "name": "python3"
  },
  "language_info": {
   "codemirror_mode": {
    "name": "ipython",
    "version": 3
   },
   "file_extension": ".py",
   "mimetype": "text/x-python",
   "name": "python",
   "nbconvert_exporter": "python",
   "pygments_lexer": "ipython3",
   "version": "3.9.12"
  },
  "toc": {
   "base_numbering": 1,
   "nav_menu": {},
   "number_sections": true,
   "sideBar": true,
   "skip_h1_title": false,
   "title_cell": "Table of Contents",
   "title_sidebar": "Contents",
   "toc_cell": false,
   "toc_position": {},
   "toc_section_display": true,
   "toc_window_display": false
  }
 },
 "nbformat": 4,
 "nbformat_minor": 2
}

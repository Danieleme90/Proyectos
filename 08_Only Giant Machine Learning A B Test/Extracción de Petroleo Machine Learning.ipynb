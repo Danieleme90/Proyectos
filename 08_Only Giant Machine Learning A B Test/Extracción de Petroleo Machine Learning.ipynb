{
 "cells": [
  {
   "cell_type": "markdown",
   "metadata": {},
   "source": [
    "# Introducción"
   ]
  },
  {
   "cell_type": "markdown",
   "metadata": {},
   "source": [
    "La empresa OnlyGiant requiere realizar un análisis en base a la información de sus pozos, para realizar perforaciones en lugares con mayor probabilidad de mayores reservas, esto con el fin de optimizar recursos y aumentar retornos.\n",
    "\n",
    "Para este problema se desarrollrá un modelo de regresión lineal para identificar los mejores lugares para perforar un pozo petrolero basado en el volumen de reservas."
   ]
  },
  {
   "cell_type": "markdown",
   "metadata": {},
   "source": [
    "# Inicializción"
   ]
  },
  {
   "cell_type": "code",
   "execution_count": 27,
   "metadata": {},
   "outputs": [],
   "source": [
    "# Importamos las librerías necesarias\n",
    "\n",
    "import pandas as pd\n",
    "import numpy as np\n",
    "import matplotlib.pyplot as plt\n",
    "from sklearn.linear_model import LinearRegression\n",
    "from sklearn.preprocessing import StandardScaler\n",
    "from sklearn.model_selection import train_test_split, cross_val_score\n",
    "from sklearn.metrics import r2_score, mean_squared_error"
   ]
  },
  {
   "cell_type": "markdown",
   "metadata": {},
   "source": [
    "# Carga de datos"
   ]
  },
  {
   "cell_type": "code",
   "execution_count": 28,
   "metadata": {},
   "outputs": [],
   "source": [
    "# Cargamos los datos en variables distintas.\n",
    "try:    \n",
    "    geo1 = pd.read_csv('/datasets/geo_data_0.csv')\n",
    "    geo2 = pd.read_csv('/datasets/geo_data_1.csv')\n",
    "    geo3 = pd.read_csv('/datasets/geo_data_2.csv')\n",
    "    \n",
    "except:\n",
    "    geo1 = pd.read_csv('geo_data_0.csv')\n",
    "    geo2 = pd.read_csv('geo_data_1.csv')\n",
    "    geo3 = pd.read_csv('geo_data_2.csv')    "
   ]
  },
  {
   "cell_type": "code",
   "execution_count": 29,
   "metadata": {},
   "outputs": [
    {
     "name": "stdout",
     "output_type": "stream",
     "text": [
      "<class 'pandas.core.frame.DataFrame'>\n",
      "RangeIndex: 100000 entries, 0 to 99999\n",
      "Data columns (total 5 columns):\n",
      " #   Column   Non-Null Count   Dtype  \n",
      "---  ------   --------------   -----  \n",
      " 0   id       100000 non-null  object \n",
      " 1   f0       100000 non-null  float64\n",
      " 2   f1       100000 non-null  float64\n",
      " 3   f2       100000 non-null  float64\n",
      " 4   product  100000 non-null  float64\n",
      "dtypes: float64(4), object(1)\n",
      "memory usage: 3.8+ MB\n",
      "<class 'pandas.core.frame.DataFrame'>\n",
      "RangeIndex: 100000 entries, 0 to 99999\n",
      "Data columns (total 5 columns):\n",
      " #   Column   Non-Null Count   Dtype  \n",
      "---  ------   --------------   -----  \n",
      " 0   id       100000 non-null  object \n",
      " 1   f0       100000 non-null  float64\n",
      " 2   f1       100000 non-null  float64\n",
      " 3   f2       100000 non-null  float64\n",
      " 4   product  100000 non-null  float64\n",
      "dtypes: float64(4), object(1)\n",
      "memory usage: 3.8+ MB\n",
      "<class 'pandas.core.frame.DataFrame'>\n",
      "RangeIndex: 100000 entries, 0 to 99999\n",
      "Data columns (total 5 columns):\n",
      " #   Column   Non-Null Count   Dtype  \n",
      "---  ------   --------------   -----  \n",
      " 0   id       100000 non-null  object \n",
      " 1   f0       100000 non-null  float64\n",
      " 2   f1       100000 non-null  float64\n",
      " 3   f2       100000 non-null  float64\n",
      " 4   product  100000 non-null  float64\n",
      "dtypes: float64(4), object(1)\n",
      "memory usage: 3.8+ MB\n"
     ]
    }
   ],
   "source": [
    "# Verificamos los dataos \n",
    "geo1.info()\n",
    "geo2.info()\n",
    "geo3.info()"
   ]
  },
  {
   "cell_type": "code",
   "execution_count": 30,
   "metadata": {},
   "outputs": [
    {
     "data": {
      "text/html": [
       "<div>\n",
       "<style scoped>\n",
       "    .dataframe tbody tr th:only-of-type {\n",
       "        vertical-align: middle;\n",
       "    }\n",
       "\n",
       "    .dataframe tbody tr th {\n",
       "        vertical-align: top;\n",
       "    }\n",
       "\n",
       "    .dataframe thead th {\n",
       "        text-align: right;\n",
       "    }\n",
       "</style>\n",
       "<table border=\"1\" class=\"dataframe\">\n",
       "  <thead>\n",
       "    <tr style=\"text-align: right;\">\n",
       "      <th></th>\n",
       "      <th>id</th>\n",
       "      <th>f0</th>\n",
       "      <th>f1</th>\n",
       "      <th>f2</th>\n",
       "      <th>product</th>\n",
       "    </tr>\n",
       "  </thead>\n",
       "  <tbody>\n",
       "    <tr>\n",
       "      <th>0</th>\n",
       "      <td>txEyH</td>\n",
       "      <td>0.705745</td>\n",
       "      <td>-0.497823</td>\n",
       "      <td>1.221170</td>\n",
       "      <td>105.280062</td>\n",
       "    </tr>\n",
       "    <tr>\n",
       "      <th>1</th>\n",
       "      <td>2acmU</td>\n",
       "      <td>1.334711</td>\n",
       "      <td>-0.340164</td>\n",
       "      <td>4.365080</td>\n",
       "      <td>73.037750</td>\n",
       "    </tr>\n",
       "    <tr>\n",
       "      <th>2</th>\n",
       "      <td>409Wp</td>\n",
       "      <td>1.022732</td>\n",
       "      <td>0.151990</td>\n",
       "      <td>1.419926</td>\n",
       "      <td>85.265647</td>\n",
       "    </tr>\n",
       "    <tr>\n",
       "      <th>3</th>\n",
       "      <td>iJLyR</td>\n",
       "      <td>-0.032172</td>\n",
       "      <td>0.139033</td>\n",
       "      <td>2.978566</td>\n",
       "      <td>168.620776</td>\n",
       "    </tr>\n",
       "    <tr>\n",
       "      <th>4</th>\n",
       "      <td>Xdl7t</td>\n",
       "      <td>1.988431</td>\n",
       "      <td>0.155413</td>\n",
       "      <td>4.751769</td>\n",
       "      <td>154.036647</td>\n",
       "    </tr>\n",
       "  </tbody>\n",
       "</table>\n",
       "</div>"
      ],
      "text/plain": [
       "      id        f0        f1        f2     product\n",
       "0  txEyH  0.705745 -0.497823  1.221170  105.280062\n",
       "1  2acmU  1.334711 -0.340164  4.365080   73.037750\n",
       "2  409Wp  1.022732  0.151990  1.419926   85.265647\n",
       "3  iJLyR -0.032172  0.139033  2.978566  168.620776\n",
       "4  Xdl7t  1.988431  0.155413  4.751769  154.036647"
      ]
     },
     "execution_count": 30,
     "metadata": {},
     "output_type": "execute_result"
    }
   ],
   "source": [
    "geo1.head()"
   ]
  },
  {
   "cell_type": "code",
   "execution_count": 31,
   "metadata": {},
   "outputs": [
    {
     "data": {
      "text/html": [
       "<div>\n",
       "<style scoped>\n",
       "    .dataframe tbody tr th:only-of-type {\n",
       "        vertical-align: middle;\n",
       "    }\n",
       "\n",
       "    .dataframe tbody tr th {\n",
       "        vertical-align: top;\n",
       "    }\n",
       "\n",
       "    .dataframe thead th {\n",
       "        text-align: right;\n",
       "    }\n",
       "</style>\n",
       "<table border=\"1\" class=\"dataframe\">\n",
       "  <thead>\n",
       "    <tr style=\"text-align: right;\">\n",
       "      <th></th>\n",
       "      <th>id</th>\n",
       "      <th>f0</th>\n",
       "      <th>f1</th>\n",
       "      <th>f2</th>\n",
       "      <th>product</th>\n",
       "    </tr>\n",
       "  </thead>\n",
       "  <tbody>\n",
       "    <tr>\n",
       "      <th>0</th>\n",
       "      <td>kBEdx</td>\n",
       "      <td>-15.001348</td>\n",
       "      <td>-8.276000</td>\n",
       "      <td>-0.005876</td>\n",
       "      <td>3.179103</td>\n",
       "    </tr>\n",
       "    <tr>\n",
       "      <th>1</th>\n",
       "      <td>62mP7</td>\n",
       "      <td>14.272088</td>\n",
       "      <td>-3.475083</td>\n",
       "      <td>0.999183</td>\n",
       "      <td>26.953261</td>\n",
       "    </tr>\n",
       "    <tr>\n",
       "      <th>2</th>\n",
       "      <td>vyE1P</td>\n",
       "      <td>6.263187</td>\n",
       "      <td>-5.948386</td>\n",
       "      <td>5.001160</td>\n",
       "      <td>134.766305</td>\n",
       "    </tr>\n",
       "    <tr>\n",
       "      <th>3</th>\n",
       "      <td>KcrkZ</td>\n",
       "      <td>-13.081196</td>\n",
       "      <td>-11.506057</td>\n",
       "      <td>4.999415</td>\n",
       "      <td>137.945408</td>\n",
       "    </tr>\n",
       "    <tr>\n",
       "      <th>4</th>\n",
       "      <td>AHL4O</td>\n",
       "      <td>12.702195</td>\n",
       "      <td>-8.147433</td>\n",
       "      <td>5.004363</td>\n",
       "      <td>134.766305</td>\n",
       "    </tr>\n",
       "  </tbody>\n",
       "</table>\n",
       "</div>"
      ],
      "text/plain": [
       "      id         f0         f1        f2     product\n",
       "0  kBEdx -15.001348  -8.276000 -0.005876    3.179103\n",
       "1  62mP7  14.272088  -3.475083  0.999183   26.953261\n",
       "2  vyE1P   6.263187  -5.948386  5.001160  134.766305\n",
       "3  KcrkZ -13.081196 -11.506057  4.999415  137.945408\n",
       "4  AHL4O  12.702195  -8.147433  5.004363  134.766305"
      ]
     },
     "execution_count": 31,
     "metadata": {},
     "output_type": "execute_result"
    }
   ],
   "source": [
    "geo2.head()"
   ]
  },
  {
   "cell_type": "code",
   "execution_count": 32,
   "metadata": {},
   "outputs": [
    {
     "data": {
      "text/html": [
       "<div>\n",
       "<style scoped>\n",
       "    .dataframe tbody tr th:only-of-type {\n",
       "        vertical-align: middle;\n",
       "    }\n",
       "\n",
       "    .dataframe tbody tr th {\n",
       "        vertical-align: top;\n",
       "    }\n",
       "\n",
       "    .dataframe thead th {\n",
       "        text-align: right;\n",
       "    }\n",
       "</style>\n",
       "<table border=\"1\" class=\"dataframe\">\n",
       "  <thead>\n",
       "    <tr style=\"text-align: right;\">\n",
       "      <th></th>\n",
       "      <th>id</th>\n",
       "      <th>f0</th>\n",
       "      <th>f1</th>\n",
       "      <th>f2</th>\n",
       "      <th>product</th>\n",
       "    </tr>\n",
       "  </thead>\n",
       "  <tbody>\n",
       "    <tr>\n",
       "      <th>0</th>\n",
       "      <td>fwXo0</td>\n",
       "      <td>-1.146987</td>\n",
       "      <td>0.963328</td>\n",
       "      <td>-0.828965</td>\n",
       "      <td>27.758673</td>\n",
       "    </tr>\n",
       "    <tr>\n",
       "      <th>1</th>\n",
       "      <td>WJtFt</td>\n",
       "      <td>0.262778</td>\n",
       "      <td>0.269839</td>\n",
       "      <td>-2.530187</td>\n",
       "      <td>56.069697</td>\n",
       "    </tr>\n",
       "    <tr>\n",
       "      <th>2</th>\n",
       "      <td>ovLUW</td>\n",
       "      <td>0.194587</td>\n",
       "      <td>0.289035</td>\n",
       "      <td>-5.586433</td>\n",
       "      <td>62.871910</td>\n",
       "    </tr>\n",
       "    <tr>\n",
       "      <th>3</th>\n",
       "      <td>q6cA6</td>\n",
       "      <td>2.236060</td>\n",
       "      <td>-0.553760</td>\n",
       "      <td>0.930038</td>\n",
       "      <td>114.572842</td>\n",
       "    </tr>\n",
       "    <tr>\n",
       "      <th>4</th>\n",
       "      <td>WPMUX</td>\n",
       "      <td>-0.515993</td>\n",
       "      <td>1.716266</td>\n",
       "      <td>5.899011</td>\n",
       "      <td>149.600746</td>\n",
       "    </tr>\n",
       "  </tbody>\n",
       "</table>\n",
       "</div>"
      ],
      "text/plain": [
       "      id        f0        f1        f2     product\n",
       "0  fwXo0 -1.146987  0.963328 -0.828965   27.758673\n",
       "1  WJtFt  0.262778  0.269839 -2.530187   56.069697\n",
       "2  ovLUW  0.194587  0.289035 -5.586433   62.871910\n",
       "3  q6cA6  2.236060 -0.553760  0.930038  114.572842\n",
       "4  WPMUX -0.515993  1.716266  5.899011  149.600746"
      ]
     },
     "execution_count": 32,
     "metadata": {},
     "output_type": "execute_result"
    }
   ],
   "source": [
    "geo3.head()"
   ]
  },
  {
   "cell_type": "markdown",
   "metadata": {},
   "source": [
    "# Preparación de datos"
   ]
  },
  {
   "cell_type": "markdown",
   "metadata": {},
   "source": [
    "## Depuración de características"
   ]
  },
  {
   "cell_type": "code",
   "execution_count": 33,
   "metadata": {},
   "outputs": [],
   "source": [
    "# Depuramos el id de los cojuntos de datos ya que no aportan valor a nuestro proceso de entrenamiento.\n",
    "geo1 = geo1.drop('id', axis= 1)\n",
    "geo2 = geo2.drop('id', axis= 1)\n",
    "geo3 = geo3.drop('id', axis= 1)"
   ]
  },
  {
   "cell_type": "code",
   "execution_count": 34,
   "metadata": {},
   "outputs": [
    {
     "data": {
      "text/html": [
       "<div>\n",
       "<style scoped>\n",
       "    .dataframe tbody tr th:only-of-type {\n",
       "        vertical-align: middle;\n",
       "    }\n",
       "\n",
       "    .dataframe tbody tr th {\n",
       "        vertical-align: top;\n",
       "    }\n",
       "\n",
       "    .dataframe thead th {\n",
       "        text-align: right;\n",
       "    }\n",
       "</style>\n",
       "<table border=\"1\" class=\"dataframe\">\n",
       "  <thead>\n",
       "    <tr style=\"text-align: right;\">\n",
       "      <th></th>\n",
       "      <th>f0</th>\n",
       "      <th>f1</th>\n",
       "      <th>f2</th>\n",
       "      <th>product</th>\n",
       "    </tr>\n",
       "  </thead>\n",
       "  <tbody>\n",
       "    <tr>\n",
       "      <th>0</th>\n",
       "      <td>0.705745</td>\n",
       "      <td>-0.497823</td>\n",
       "      <td>1.221170</td>\n",
       "      <td>105.280062</td>\n",
       "    </tr>\n",
       "    <tr>\n",
       "      <th>1</th>\n",
       "      <td>1.334711</td>\n",
       "      <td>-0.340164</td>\n",
       "      <td>4.365080</td>\n",
       "      <td>73.037750</td>\n",
       "    </tr>\n",
       "    <tr>\n",
       "      <th>2</th>\n",
       "      <td>1.022732</td>\n",
       "      <td>0.151990</td>\n",
       "      <td>1.419926</td>\n",
       "      <td>85.265647</td>\n",
       "    </tr>\n",
       "    <tr>\n",
       "      <th>3</th>\n",
       "      <td>-0.032172</td>\n",
       "      <td>0.139033</td>\n",
       "      <td>2.978566</td>\n",
       "      <td>168.620776</td>\n",
       "    </tr>\n",
       "    <tr>\n",
       "      <th>4</th>\n",
       "      <td>1.988431</td>\n",
       "      <td>0.155413</td>\n",
       "      <td>4.751769</td>\n",
       "      <td>154.036647</td>\n",
       "    </tr>\n",
       "  </tbody>\n",
       "</table>\n",
       "</div>"
      ],
      "text/plain": [
       "         f0        f1        f2     product\n",
       "0  0.705745 -0.497823  1.221170  105.280062\n",
       "1  1.334711 -0.340164  4.365080   73.037750\n",
       "2  1.022732  0.151990  1.419926   85.265647\n",
       "3 -0.032172  0.139033  2.978566  168.620776\n",
       "4  1.988431  0.155413  4.751769  154.036647"
      ]
     },
     "execution_count": 34,
     "metadata": {},
     "output_type": "execute_result"
    }
   ],
   "source": [
    "geo1.head()"
   ]
  },
  {
   "cell_type": "code",
   "execution_count": 35,
   "metadata": {},
   "outputs": [
    {
     "data": {
      "text/html": [
       "<div>\n",
       "<style scoped>\n",
       "    .dataframe tbody tr th:only-of-type {\n",
       "        vertical-align: middle;\n",
       "    }\n",
       "\n",
       "    .dataframe tbody tr th {\n",
       "        vertical-align: top;\n",
       "    }\n",
       "\n",
       "    .dataframe thead th {\n",
       "        text-align: right;\n",
       "    }\n",
       "</style>\n",
       "<table border=\"1\" class=\"dataframe\">\n",
       "  <thead>\n",
       "    <tr style=\"text-align: right;\">\n",
       "      <th></th>\n",
       "      <th>f0</th>\n",
       "      <th>f1</th>\n",
       "      <th>f2</th>\n",
       "      <th>product</th>\n",
       "    </tr>\n",
       "  </thead>\n",
       "  <tbody>\n",
       "    <tr>\n",
       "      <th>0</th>\n",
       "      <td>-15.001348</td>\n",
       "      <td>-8.276000</td>\n",
       "      <td>-0.005876</td>\n",
       "      <td>3.179103</td>\n",
       "    </tr>\n",
       "    <tr>\n",
       "      <th>1</th>\n",
       "      <td>14.272088</td>\n",
       "      <td>-3.475083</td>\n",
       "      <td>0.999183</td>\n",
       "      <td>26.953261</td>\n",
       "    </tr>\n",
       "    <tr>\n",
       "      <th>2</th>\n",
       "      <td>6.263187</td>\n",
       "      <td>-5.948386</td>\n",
       "      <td>5.001160</td>\n",
       "      <td>134.766305</td>\n",
       "    </tr>\n",
       "    <tr>\n",
       "      <th>3</th>\n",
       "      <td>-13.081196</td>\n",
       "      <td>-11.506057</td>\n",
       "      <td>4.999415</td>\n",
       "      <td>137.945408</td>\n",
       "    </tr>\n",
       "    <tr>\n",
       "      <th>4</th>\n",
       "      <td>12.702195</td>\n",
       "      <td>-8.147433</td>\n",
       "      <td>5.004363</td>\n",
       "      <td>134.766305</td>\n",
       "    </tr>\n",
       "  </tbody>\n",
       "</table>\n",
       "</div>"
      ],
      "text/plain": [
       "          f0         f1        f2     product\n",
       "0 -15.001348  -8.276000 -0.005876    3.179103\n",
       "1  14.272088  -3.475083  0.999183   26.953261\n",
       "2   6.263187  -5.948386  5.001160  134.766305\n",
       "3 -13.081196 -11.506057  4.999415  137.945408\n",
       "4  12.702195  -8.147433  5.004363  134.766305"
      ]
     },
     "execution_count": 35,
     "metadata": {},
     "output_type": "execute_result"
    }
   ],
   "source": [
    "geo2.head()"
   ]
  },
  {
   "cell_type": "code",
   "execution_count": 36,
   "metadata": {},
   "outputs": [
    {
     "data": {
      "text/html": [
       "<div>\n",
       "<style scoped>\n",
       "    .dataframe tbody tr th:only-of-type {\n",
       "        vertical-align: middle;\n",
       "    }\n",
       "\n",
       "    .dataframe tbody tr th {\n",
       "        vertical-align: top;\n",
       "    }\n",
       "\n",
       "    .dataframe thead th {\n",
       "        text-align: right;\n",
       "    }\n",
       "</style>\n",
       "<table border=\"1\" class=\"dataframe\">\n",
       "  <thead>\n",
       "    <tr style=\"text-align: right;\">\n",
       "      <th></th>\n",
       "      <th>f0</th>\n",
       "      <th>f1</th>\n",
       "      <th>f2</th>\n",
       "      <th>product</th>\n",
       "    </tr>\n",
       "  </thead>\n",
       "  <tbody>\n",
       "    <tr>\n",
       "      <th>0</th>\n",
       "      <td>-1.146987</td>\n",
       "      <td>0.963328</td>\n",
       "      <td>-0.828965</td>\n",
       "      <td>27.758673</td>\n",
       "    </tr>\n",
       "    <tr>\n",
       "      <th>1</th>\n",
       "      <td>0.262778</td>\n",
       "      <td>0.269839</td>\n",
       "      <td>-2.530187</td>\n",
       "      <td>56.069697</td>\n",
       "    </tr>\n",
       "    <tr>\n",
       "      <th>2</th>\n",
       "      <td>0.194587</td>\n",
       "      <td>0.289035</td>\n",
       "      <td>-5.586433</td>\n",
       "      <td>62.871910</td>\n",
       "    </tr>\n",
       "    <tr>\n",
       "      <th>3</th>\n",
       "      <td>2.236060</td>\n",
       "      <td>-0.553760</td>\n",
       "      <td>0.930038</td>\n",
       "      <td>114.572842</td>\n",
       "    </tr>\n",
       "    <tr>\n",
       "      <th>4</th>\n",
       "      <td>-0.515993</td>\n",
       "      <td>1.716266</td>\n",
       "      <td>5.899011</td>\n",
       "      <td>149.600746</td>\n",
       "    </tr>\n",
       "  </tbody>\n",
       "</table>\n",
       "</div>"
      ],
      "text/plain": [
       "         f0        f1        f2     product\n",
       "0 -1.146987  0.963328 -0.828965   27.758673\n",
       "1  0.262778  0.269839 -2.530187   56.069697\n",
       "2  0.194587  0.289035 -5.586433   62.871910\n",
       "3  2.236060 -0.553760  0.930038  114.572842\n",
       "4 -0.515993  1.716266  5.899011  149.600746"
      ]
     },
     "execution_count": 36,
     "metadata": {},
     "output_type": "execute_result"
    }
   ],
   "source": [
    "geo3.head()"
   ]
  },
  {
   "cell_type": "markdown",
   "metadata": {},
   "source": [
    "## Segmentación de datos"
   ]
  },
  {
   "cell_type": "code",
   "execution_count": 37,
   "metadata": {},
   "outputs": [],
   "source": [
    "#Dividimos los conjuntos de datos en características y objetivo.\n",
    "x_geo1 = geo1.drop('product', axis= 1)\n",
    "y_geo1 = geo1['product']\n",
    "\n",
    "x_geo2 = geo2.drop('product', axis= 1)\n",
    "y_geo2 = geo2['product']\n",
    "\n",
    "x_geo3 = geo3.drop('product', axis= 1)\n",
    "y_geo3 = geo3['product']\n",
    "\n",
    "# Dividimos las conjuntos en entrenamiento y objetivos.\n",
    "x_geo1_train, x_geo1_test, y_geo1_train, y_geo1_test = train_test_split(x_geo1, y_geo1, test_size= 0.25, random_state= 42)\n",
    "x_geo2_train, x_geo2_test, y_geo2_train, y_geo2_test = train_test_split(x_geo2, y_geo2, test_size= 0.25, random_state= 42)\n",
    "x_geo3_train, x_geo3_test, y_geo3_train, y_geo3_test = train_test_split(x_geo3, y_geo3, test_size= 0.25, random_state= 42)"
   ]
  },
  {
   "cell_type": "markdown",
   "metadata": {},
   "source": [
    "## Codificación de datos"
   ]
  },
  {
   "cell_type": "markdown",
   "metadata": {},
   "source": [
    "Ya que los conjuntos de datos están en tipo float y además no existen valores ausentes, no será necesario realizar una codificación."
   ]
  },
  {
   "cell_type": "markdown",
   "metadata": {},
   "source": [
    "## Estandarización de datos"
   ]
  },
  {
   "cell_type": "code",
   "execution_count": 38,
   "metadata": {},
   "outputs": [
    {
     "data": {
      "image/png": "[encoded data removed]",
      "text/plain": [
       "<Figure size 1080x288 with 9 Axes>"
      ]
     },
     "metadata": {
      "needs_background": "light"
     },
     "output_type": "display_data"
    }
   ],
   "source": [
    "# Visualizamos la distribución de las características para validar los randos de los valores.\n",
    "dataframes = []\n",
    "dataframes.append(geo1)\n",
    "dataframes.append(geo2)\n",
    "dataframes.append(geo3)\n",
    "\n",
    "plt.rcParams[\"figure.figsize\"] = [10, 3.5]\n",
    "plt.rcParams[\"figure.autolayout\"] = True\n",
    "\n",
    "fig, axes = plt.subplots(3, 3)\n",
    "\n",
    "for i in range(0,3):\n",
    "    for j in range(0,3):\n",
    "        dataframes[i]['f'+str(j)].plot(kind= 'hist', figsize= (15,4), bins=20, ax= axes[i][j], title= (f'geo{i+1}, f{j}'))\n",
    "        \n",
    "       \n",
    "\n",
    "plt.show()"
   ]
  },
  {
   "cell_type": "markdown",
   "metadata": {},
   "source": [
    "**Conclusiones:**\n",
    "\n",
    "- Las características tienen diferentes rangos por lo que tenemos que estandarizar los mismos."
   ]
  },
  {
   "cell_type": "code",
   "execution_count": 39,
   "metadata": {},
   "outputs": [],
   "source": [
    "# Estandarizamos los datos.\n",
    "\n",
    "sc = StandardScaler()\n",
    "\n",
    "x_geo1_train = sc.fit_transform(x_geo1_train)\n",
    "x_geo1_test = sc.transform(x_geo1_test)\n",
    "\n",
    "x_geo2_train = sc.fit_transform(x_geo2_train)\n",
    "x_geo2_test = sc.transform(x_geo2_test)\n",
    "\n",
    "x_geo3_train = sc.fit_transform(x_geo3_train)\n",
    "x_geo3_test = sc.transform(x_geo3_test)\n"
   ]
  },
  {
   "cell_type": "code",
   "execution_count": 40,
   "metadata": {},
   "outputs": [
    {
     "data": {
      "image/png": "[encoded data removed]",
      "text/plain": [
       "<Figure size 1080x288 with 9 Axes>"
      ]
     },
     "metadata": {
      "needs_background": "light"
     },
     "output_type": "display_data"
    }
   ],
   "source": [
    "# Visualizamos si los valores están en la misma escala.\n",
    "dataframes = []\n",
    "dataframes.append(pd.DataFrame(x_geo1_train, columns= ['f0','f1','f2']))\n",
    "dataframes.append(pd.DataFrame(x_geo2_train, columns= ['f0','f1','f2']))\n",
    "dataframes.append(pd.DataFrame(x_geo3_train, columns= ['f0','f1','f2']))\n",
    "\n",
    "plt.rcParams[\"figure.figsize\"] = [10, 3.5]\n",
    "plt.rcParams[\"figure.autolayout\"] = True\n",
    "\n",
    "fig, axes = plt.subplots(3, 3)\n",
    "\n",
    "for i in range(0,3):\n",
    "    for j in range(0,3):\n",
    "        #dataframes[i].head()\n",
    "        dataframes[i]['f'+str(j)].plot(kind= 'hist', figsize= (15,4), bins=20, ax= axes[i][j], title= (f'geo{i+1}, f{j}'))\n",
    "        \n",
    "       \n",
    "\n",
    "plt.show()"
   ]
  },
  {
   "cell_type": "markdown",
   "metadata": {},
   "source": [
    "# Entrenamiento del modelo"
   ]
  },
  {
   "cell_type": "code",
   "execution_count": 41,
   "metadata": {},
   "outputs": [],
   "source": [
    "# Entrenamos un modelo de regresión lineal para este problema.\n",
    "\n",
    "rl1 = LinearRegression()\n",
    "rl1.fit(x_geo1_train, y_geo1_train)\n",
    "geo1_predictions = rl1.predict(x_geo1_test)\n",
    "\n",
    "rl2 = LinearRegression()\n",
    "rl2.fit(x_geo2_train, y_geo2_train)\n",
    "geo2_predictions = rl2.predict(x_geo2_test)\n",
    "\n",
    "rl3 = LinearRegression()\n",
    "rl3.fit(x_geo3_train, y_geo3_train)\n",
    "geo3_predictions = rl3.predict(x_geo3_test)"
   ]
  },
  {
   "cell_type": "code",
   "execution_count": 42,
   "metadata": {},
   "outputs": [
    {
     "data": {
      "text/html": [
       "<div>\n",
       "<style scoped>\n",
       "    .dataframe tbody tr th:only-of-type {\n",
       "        vertical-align: middle;\n",
       "    }\n",
       "\n",
       "    .dataframe tbody tr th {\n",
       "        vertical-align: top;\n",
       "    }\n",
       "\n",
       "    .dataframe thead th {\n",
       "        text-align: right;\n",
       "    }\n",
       "</style>\n",
       "<table border=\"1\" class=\"dataframe\">\n",
       "  <thead>\n",
       "    <tr style=\"text-align: right;\">\n",
       "      <th></th>\n",
       "      <th>y_geo1_test</th>\n",
       "      <th>y_geo1_predictions</th>\n",
       "      <th>y_geo1_mean</th>\n",
       "      <th>y_geo2_test</th>\n",
       "      <th>y_geo2_predictions</th>\n",
       "      <th>y_geo2_mean</th>\n",
       "      <th>y_geo3_test</th>\n",
       "      <th>y_geo3_predictions</th>\n",
       "      <th>y_geo3_mean</th>\n",
       "    </tr>\n",
       "  </thead>\n",
       "  <tbody>\n",
       "    <tr>\n",
       "      <th>0</th>\n",
       "      <td>122.073350</td>\n",
       "      <td>101.901017</td>\n",
       "      <td>92.325956</td>\n",
       "      <td>0.000000</td>\n",
       "      <td>0.844738</td>\n",
       "      <td>68.725381</td>\n",
       "      <td>117.441301</td>\n",
       "      <td>98.301916</td>\n",
       "      <td>95.150999</td>\n",
       "    </tr>\n",
       "    <tr>\n",
       "      <th>1</th>\n",
       "      <td>48.738540</td>\n",
       "      <td>78.217774</td>\n",
       "      <td>92.325956</td>\n",
       "      <td>53.906522</td>\n",
       "      <td>52.921612</td>\n",
       "      <td>68.725381</td>\n",
       "      <td>47.841249</td>\n",
       "      <td>101.592461</td>\n",
       "      <td>95.150999</td>\n",
       "    </tr>\n",
       "    <tr>\n",
       "      <th>2</th>\n",
       "      <td>131.338088</td>\n",
       "      <td>115.266901</td>\n",
       "      <td>92.325956</td>\n",
       "      <td>134.766305</td>\n",
       "      <td>135.110385</td>\n",
       "      <td>68.725381</td>\n",
       "      <td>45.883483</td>\n",
       "      <td>52.449099</td>\n",
       "      <td>95.150999</td>\n",
       "    </tr>\n",
       "    <tr>\n",
       "      <th>3</th>\n",
       "      <td>88.327757</td>\n",
       "      <td>105.618618</td>\n",
       "      <td>92.325956</td>\n",
       "      <td>107.813044</td>\n",
       "      <td>109.494863</td>\n",
       "      <td>68.725381</td>\n",
       "      <td>139.014608</td>\n",
       "      <td>109.922127</td>\n",
       "      <td>95.150999</td>\n",
       "    </tr>\n",
       "    <tr>\n",
       "      <th>4</th>\n",
       "      <td>36.959266</td>\n",
       "      <td>97.980185</td>\n",
       "      <td>92.325956</td>\n",
       "      <td>0.000000</td>\n",
       "      <td>-0.047292</td>\n",
       "      <td>68.725381</td>\n",
       "      <td>84.004276</td>\n",
       "      <td>72.411847</td>\n",
       "      <td>95.150999</td>\n",
       "    </tr>\n",
       "  </tbody>\n",
       "</table>\n",
       "</div>"
      ],
      "text/plain": [
       "   y_geo1_test  y_geo1_predictions  y_geo1_mean  y_geo2_test  \\\n",
       "0   122.073350          101.901017    92.325956     0.000000   \n",
       "1    48.738540           78.217774    92.325956    53.906522   \n",
       "2   131.338088          115.266901    92.325956   134.766305   \n",
       "3    88.327757          105.618618    92.325956   107.813044   \n",
       "4    36.959266           97.980185    92.325956     0.000000   \n",
       "\n",
       "   y_geo2_predictions  y_geo2_mean  y_geo3_test  y_geo3_predictions  \\\n",
       "0            0.844738    68.725381   117.441301           98.301916   \n",
       "1           52.921612    68.725381    47.841249          101.592461   \n",
       "2          135.110385    68.725381    45.883483           52.449099   \n",
       "3          109.494863    68.725381   139.014608          109.922127   \n",
       "4           -0.047292    68.725381    84.004276           72.411847   \n",
       "\n",
       "   y_geo3_mean  \n",
       "0    95.150999  \n",
       "1    95.150999  \n",
       "2    95.150999  \n",
       "3    95.150999  \n",
       "4    95.150999  "
      ]
     },
     "execution_count": 42,
     "metadata": {},
     "output_type": "execute_result"
    }
   ],
   "source": [
    "# Guardamos las variables en un dataframe\n",
    "resultados_df = pd.DataFrame()\n",
    "resultados_df['y_geo1_test'] = pd.Series(y_geo1_test).reset_index(drop= True)\n",
    "resultados_df['y_geo1_predictions'] = pd.Series(geo1_predictions).reset_index(drop= True)\n",
    "resultados_df['y_geo1_mean'] = pd.Series(y_geo1_test).mean()\n",
    "\n",
    "resultados_df['y_geo2_test'] = pd.Series(y_geo2_test).reset_index(drop= True)\n",
    "resultados_df['y_geo2_predictions'] = pd.Series(geo2_predictions).reset_index(drop= True)\n",
    "resultados_df['y_geo2_mean'] = pd.Series(y_geo2_test).mean()\n",
    "\n",
    "resultados_df['y_geo3_test'] = pd.Series(y_geo3_test).reset_index(drop= True)\n",
    "resultados_df['y_geo3_predictions'] = pd.Series(geo3_predictions).reset_index(drop= True)\n",
    "resultados_df['y_geo3_mean'] = pd.Series(y_geo3_test).mean()\n",
    "\n",
    "resultados_df.head()"
   ]
  },
  {
   "cell_type": "code",
   "execution_count": 43,
   "metadata": {},
   "outputs": [
    {
     "name": "stdout",
     "output_type": "stream",
     "text": [
      "El RECM para para las predicciones del conjunto geo1 es: 37.75660035026169\n",
      "La RECM para para la media del conjunto geo1 es:\t 44.27662690128472\n",
      "\n",
      "\n",
      "El RECM para para las predicciones del conjunto geo2 es: 56.71844714243868\n",
      "La RECM para para la media del conjunto geo2 es:\t 51.651714724821105\n",
      "\n",
      "\n",
      "El RECM para para las predicciones del conjunto geo3 es: 50.704196296760536\n",
      "La RECM para para la media del conjunto geo3 es:\t 44.87134307792994\n",
      "\n",
      "\n"
     ]
    }
   ],
   "source": [
    "# Visualizamos la métrica RECM para los valores de predicción y el conjunto promedio.\n",
    "\n",
    "for i in range(1, 4):\n",
    "    print(f'El RECM para para las predicciones del conjunto geo{i} es:', mean_squared_error(resultados_df[f'y_geo{i}_test'], resultados_df[f'y_geo{1}_predictions'])**0.5)\n",
    "    print(f'La RECM para para la media del conjunto geo{i} es:\\t', mean_squared_error(resultados_df[f'y_geo{i}_test'], resultados_df[f'y_geo{1}_mean'])**0.5)\n",
    "    print('\\n')"
   ]
  },
  {
   "cell_type": "code",
   "execution_count": 44,
   "metadata": {},
   "outputs": [
    {
     "name": "stdout",
     "output_type": "stream",
     "text": [
      "El RECM para para las predicciones del conjunto geo1 es: 37.75660035026169\n",
      "La RECM para para la media del conjunto geo1 es:\t 92.39879990657768\n",
      "\n",
      "\n",
      "El RECM para para las predicciones del conjunto geo2 es: 56.71844714243868\n",
      "La RECM para para la media del conjunto geo2 es:\t 68.7128780391376\n",
      "\n",
      "\n",
      "El RECM para para las predicciones del conjunto geo3 es: 50.704196296760536\n",
      "La RECM para para la media del conjunto geo3 es:\t 94.77102387765939\n",
      "\n",
      "\n"
     ]
    }
   ],
   "source": [
    "for i in range(1, 4):\n",
    "    print(f'El RECM para para las predicciones del conjunto geo{i} es:', mean_squared_error(resultados_df[f'y_geo{i}_test'], resultados_df[f'y_geo{1}_predictions'])**0.5)\n",
    "    print(f'La RECM para para la media del conjunto geo{i} es:\\t', resultados_df[f'y_geo{i}_predictions'].mean())\n",
    "    print('\\n')"
   ]
  },
  {
   "cell_type": "code",
   "execution_count": 45,
   "metadata": {},
   "outputs": [
    {
     "name": "stdout",
     "output_type": "stream",
     "text": [
      "R2 geo1:  0.2728287328173471\n",
      "R2 geo2:  0.9996245232002449\n",
      "R2 geo3:  0.19634705977280487\n"
     ]
    }
   ],
   "source": [
    "# Evaluamos la calidad de los modelos\n",
    "for i in range(1,4):\n",
    "    print(f'R2 geo{i}: ', r2_score(resultados_df[f'y_geo{i}_test'], resultados_df[f'y_geo{i}_predictions']))\n"
   ]
  },
  {
   "cell_type": "markdown",
   "metadata": {},
   "source": [
    "# Cálculo de beneficios"
   ]
  },
  {
   "cell_type": "markdown",
   "metadata": {},
   "source": [
    "## Definición de variables"
   ]
  },
  {
   "cell_type": "markdown",
   "metadata": {},
   "source": [
    "- De 500 puntos en estudio los 200 mejores entran a considerarse para el cálculo de beneficio.\n",
    "\n",
    "- El presupuesto para el desarrollo de 200 pozos petroleros es de 100 millones de dólares.\n",
    "\n",
    "- Presupuesto para cada pozo es de 500.000 USD"
   ]
  },
  {
   "cell_type": "code",
   "execution_count": 46,
   "metadata": {},
   "outputs": [
    {
     "name": "stdout",
     "output_type": "stream",
     "text": [
      "Ingreso por unidad: 4500\n",
      "Presupuesto para cada pozo: 500000\n",
      "Cantidad minima(unidades) para perforación: 111.11\n",
      "Media de producto de la region 1: 92.50\n",
      "Media de producto de la region 2: 68.83\n",
      "Media de producto de la region 3: 95.00\n"
     ]
    }
   ],
   "source": [
    "# Número de pozos a ser estudiados\n",
    "studied_wells = 500\n",
    "\n",
    "# Number of best wells selected\n",
    "n_best_wells = 200\n",
    "\n",
    "# Ingreso por unidad de producto \n",
    "income_per_unit = 4500\n",
    "\n",
    "# Presupuesto para cada pozo \n",
    "well_budget = 500_000\n",
    "\n",
    "# Cantidad minima de unidades de producto para perforar un pozo\n",
    "min_unit_req = well_budget/income_per_unit\n",
    "\n",
    "# Media del volumen de la región 1.\n",
    "geo1_mean = geo1['product'].mean()\n",
    "\n",
    "# Media del volumen de la región 2.\n",
    "geo2_mean = geo2['product'].mean()\n",
    "\n",
    "# Media del volumen de la región 3.\n",
    "geo3_mean = geo3['product'].mean()\n",
    "\n",
    "print(f'Ingreso por unidad: {income_per_unit}')\n",
    "print(f'Presupuesto para cada pozo: {well_budget}')\n",
    "print(f'Cantidad minima(unidades) para perforación: {min_unit_req:.2f}')\n",
    "print(f'Media de producto de la region 1: {geo1_mean:.2f}')\n",
    "print(f'Media de producto de la region 2: {geo2_mean:.2f}')\n",
    "print(f'Media de producto de la region 3: {geo3_mean:.2f}')"
   ]
  },
  {
   "cell_type": "markdown",
   "metadata": {},
   "source": [
    "**Conclusiones:**\n",
    "\n",
    "- Mediante el cálculo de la media ninguna región sobrepasa el mínimo para no tener pérdidas.\n",
    "- La media de la región 1 y 3 son las mas altas acercándose al mínimo de producto requerido."
   ]
  },
  {
   "cell_type": "markdown",
   "metadata": {},
   "source": [
    "## Función para el cálculo de ganancias"
   ]
  },
  {
   "cell_type": "code",
   "execution_count": 47,
   "metadata": {},
   "outputs": [],
   "source": [
    "# Esta función calcula los beneficios de los mejores pozos ordenados por su cantidad de reservas\n",
    "def profit(target, predictions, count):\n",
    "    pred_sorted=  predictions.sort_values(ascending= False)\n",
    "    selected = target[pred_sorted.index][:count]\n",
    "    \n",
    "    return (income_per_unit * selected.sum()) - well_budget * count"
   ]
  },
  {
   "cell_type": "markdown",
   "metadata": {},
   "source": [
    "## Cálculo de beneficio por región"
   ]
  },
  {
   "cell_type": "code",
   "execution_count": 48,
   "metadata": {},
   "outputs": [
    {
     "name": "stdout",
     "output_type": "stream",
     "text": [
      "EL beneficio de la región geo 1 es: 33591411.14\n",
      "EL beneficio de la región geo 2 es: 24150866.97\n",
      "EL beneficio de la región geo 3 es: 25985717.59\n"
     ]
    }
   ],
   "source": [
    "# Aplicamos la función a las diferentes regiones\n",
    "for i in range(1,4):\n",
    "    print(f'EL beneficio de la región geo {i} es: {profit(resultados_df[f\"y_geo{i}_test\"], resultados_df[f\"y_geo{i}_predictions\"], n_best_wells).round(2)}')"
   ]
  },
  {
   "cell_type": "markdown",
   "metadata": {},
   "source": [
    "**Conclusiones:**\n",
    "\n",
    "- Realizando un análisis preliminar de los ingresos por región se sugiere realizar el estudio en la región geo 1, ya que obtiene mayor beneficio, mas adelante realizaremos las pruebas necesarias para validar esta propuesta."
   ]
  },
  {
   "cell_type": "markdown",
   "metadata": {},
   "source": [
    "# Cálculo de Riesgo "
   ]
  },
  {
   "cell_type": "code",
   "execution_count": 62,
   "metadata": {},
   "outputs": [
    {
     "name": "stdout",
     "output_type": "stream",
     "text": [
      "El ingreso promedio para la región geo 1 es: 4278475.604625247\n",
      "El ingreso promedio para la región geo 2 es: 5115302.181485244\n",
      "El ingreso promedio para la región geo 3 es: 4085456.812149357\n",
      "\n",
      "\n",
      "El cuantil del 5% de la región geo 1 es: -97081.1899262448\n",
      "El cuantil del 5% de la región geo 2 es: 1494857.6412835107\n",
      "El cuantil del 5% de la región geo 3 es: -561462.5067393221\n",
      "\n",
      "\n",
      "El cuantil del 95% de la región geo 1 es: 8651276.42373631\n",
      "El cuantil del 95% de la región geo 2 es: 8629551.702553822\n",
      "El cuantil del 95% de la región geo 3 es: 8695152.794494638\n",
      "\n",
      "\n",
      "La probabilidad de obtener perdida para la región geo 1 es: 5.5%\n",
      "La probabilidad de obtener perdida para la región geo 2 es: 0.6%\n",
      "La probabilidad de obtener perdida para la región geo 3 es: 7.5%\n"
     ]
    },
    {
     "data": {
      "text/plain": [
       "[None, None, None]"
      ]
     },
     "execution_count": 62,
     "metadata": {},
     "output_type": "execute_result"
    }
   ],
   "source": [
    "# Definimos el estado randómico\n",
    "state = np.random.RandomState(42) \n",
    "\n",
    "# Definimos un diccionario para guardar los valores de nuestras regiones  \n",
    "values = {   \n",
    "    '1':[],\n",
    "    '2':[],\n",
    "    '3':[]\n",
    "}\n",
    "\n",
    "# Aplicacamos bootstraping para generar un valor confiable del valor esperado.\n",
    "for i in range(1,4):\n",
    "    for j in range(1000):\n",
    "        target_subsample = resultados_df[f'y_geo{i}_test'].sample(n= studied_wells, replace= True, random_state= state)\n",
    "        predictions_subsample = resultados_df[f'y_geo{i}_predictions'][target_subsample.index]\n",
    "        values[str(i)].append(profit(target_subsample, predictions_subsample, n_best_wells))\n",
    "\n",
    "for k in values:\n",
    "    values[k] = pd.Series(values[k])\n",
    "\n",
    "# Obtenemos los mejores resultados del intervalo de confianza de 95%\n",
    "lowers = []\n",
    "[lowers.append(values[i].quantile(0.05)) for i in values]\n",
    "\n",
    "# Obtenemos los mejores resultados del intervalo de confianza de 5%\n",
    "uppers = []\n",
    "[uppers.append(values[i].quantile(0.95)) for i in values]\n",
    "\n",
    "#Obtenemos las medias de los resultados del cálculos de ingreso de 1000 submuestras \n",
    "means = []\n",
    "[means.append(values[i].mean()) for i in values]\n",
    "\n",
    "[print(f\"El ingreso promedio para la región geo {i+1} es: {means[i]}\") for i in range(3)]\n",
    "print('\\n')\n",
    "[print(f\"El cuantil del 5% de la región geo {i+1} es: {lowers[i]}\") for i in range(3)]\n",
    "print('\\n')\n",
    "[print(f\"El cuantil del 95% de la región geo {i+1} es: {uppers[i]}\") for i in range(3)]\n",
    "print('\\n')\n",
    "[print(f'La probabilidad de obtener perdida para la región geo {i+1} es: {((values[str(i+1)] < 0).mean())*100}%') for i in range(3)]\n"
   ]
  },
  {
   "cell_type": "markdown",
   "metadata": {},
   "source": [
    "**Conclusiones:**\n",
    "\n",
    "- Una vez aplicado la técnica de bootstraping para las tres regiones, los resultados son reveladores y nos indican que geo 2 es la región mas idonea para la extracción de petroleo ya que tiene un promedio de beneficios de 5,115,302.18 USD y un beneficio de 1,494,857.00 de beneficio con un 95% de certeza. Mientras que las otras regiones con un 95% de certeza tendrémos beneficio negativo, en otras palabras pérdida."
   ]
  }
 ],
 "metadata": {
  "kernelspec": {
   "display_name": "Python 3",
   "language": "python",
   "name": "python3"
  },
  "language_info": {
   "codemirror_mode": {
    "name": "ipython",
    "version": 3
   },
   "file_extension": ".py",
   "mimetype": "text/x-python",
   "name": "python",
   "nbconvert_exporter": "python",
   "pygments_lexer": "ipython3",
   "version": "3.9.12"
  },
  "toc": {
   "base_numbering": 1,
   "nav_menu": {},
   "number_sections": true,
   "sideBar": true,
   "skip_h1_title": false,
   "title_cell": "Table of Contents",
   "title_sidebar": "Contents",
   "toc_cell": false,
   "toc_position": {},
   "toc_section_display": true,
   "toc_window_display": true
  }
 },
 "nbformat": 4,
 "nbformat_minor": 2
}
